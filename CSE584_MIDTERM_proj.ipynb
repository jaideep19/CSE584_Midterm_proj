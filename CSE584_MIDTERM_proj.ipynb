{
  "cells": [
    {
      "cell_type": "code",
      "execution_count": null,
      "metadata": {
        "colab": {
          "base_uri": "https://localhost:8080/"
        },
        "id": "Cmz-fstFf0u_",
        "outputId": "f3968db7-ab80-4d24-d749-35fc6f1b529f"
      },
      "outputs": [
        {
          "output_type": "stream",
          "name": "stdout",
          "text": [
            "Requirement already satisfied: torch==2.2.0 in /usr/local/lib/python3.10/dist-packages (2.2.0)\n",
            "Requirement already satisfied: transformers==4.42.4 in /usr/local/lib/python3.10/dist-packages (4.42.4)\n",
            "Requirement already satisfied: sentence-transformers==2.7.0 in /usr/local/lib/python3.10/dist-packages (2.7.0)\n",
            "Requirement already satisfied: pandas in /usr/local/lib/python3.10/dist-packages (2.2.2)\n",
            "Requirement already satisfied: scikit-learn in /usr/local/lib/python3.10/dist-packages (1.5.2)\n",
            "Requirement already satisfied: filelock in /usr/local/lib/python3.10/dist-packages (from torch==2.2.0) (3.16.1)\n",
            "Requirement already satisfied: typing-extensions>=4.8.0 in /usr/local/lib/python3.10/dist-packages (from torch==2.2.0) (4.12.2)\n",
            "Requirement already satisfied: sympy in /usr/local/lib/python3.10/dist-packages (from torch==2.2.0) (1.13.3)\n",
            "Requirement already satisfied: networkx in /usr/local/lib/python3.10/dist-packages (from torch==2.2.0) (3.3)\n",
            "Requirement already satisfied: jinja2 in /usr/local/lib/python3.10/dist-packages (from torch==2.2.0) (3.1.4)\n",
            "Requirement already satisfied: fsspec in /usr/local/lib/python3.10/dist-packages (from torch==2.2.0) (2024.6.1)\n",
            "Requirement already satisfied: nvidia-cuda-nvrtc-cu12==12.1.105 in /usr/local/lib/python3.10/dist-packages (from torch==2.2.0) (12.1.105)\n",
            "Requirement already satisfied: nvidia-cuda-runtime-cu12==12.1.105 in /usr/local/lib/python3.10/dist-packages (from torch==2.2.0) (12.1.105)\n",
            "Requirement already satisfied: nvidia-cuda-cupti-cu12==12.1.105 in /usr/local/lib/python3.10/dist-packages (from torch==2.2.0) (12.1.105)\n",
            "Requirement already satisfied: nvidia-cudnn-cu12==8.9.2.26 in /usr/local/lib/python3.10/dist-packages (from torch==2.2.0) (8.9.2.26)\n",
            "Requirement already satisfied: nvidia-cublas-cu12==12.1.3.1 in /usr/local/lib/python3.10/dist-packages (from torch==2.2.0) (12.1.3.1)\n",
            "Requirement already satisfied: nvidia-cufft-cu12==11.0.2.54 in /usr/local/lib/python3.10/dist-packages (from torch==2.2.0) (11.0.2.54)\n",
            "Requirement already satisfied: nvidia-curand-cu12==10.3.2.106 in /usr/local/lib/python3.10/dist-packages (from torch==2.2.0) (10.3.2.106)\n",
            "Requirement already satisfied: nvidia-cusolver-cu12==11.4.5.107 in /usr/local/lib/python3.10/dist-packages (from torch==2.2.0) (11.4.5.107)\n",
            "Requirement already satisfied: nvidia-cusparse-cu12==12.1.0.106 in /usr/local/lib/python3.10/dist-packages (from torch==2.2.0) (12.1.0.106)\n",
            "Requirement already satisfied: nvidia-nccl-cu12==2.19.3 in /usr/local/lib/python3.10/dist-packages (from torch==2.2.0) (2.19.3)\n",
            "Requirement already satisfied: nvidia-nvtx-cu12==12.1.105 in /usr/local/lib/python3.10/dist-packages (from torch==2.2.0) (12.1.105)\n",
            "Requirement already satisfied: triton==2.2.0 in /usr/local/lib/python3.10/dist-packages (from torch==2.2.0) (2.2.0)\n",
            "Requirement already satisfied: huggingface-hub<1.0,>=0.23.2 in /usr/local/lib/python3.10/dist-packages (from transformers==4.42.4) (0.24.7)\n",
            "Requirement already satisfied: numpy<2.0,>=1.17 in /usr/local/lib/python3.10/dist-packages (from transformers==4.42.4) (1.26.4)\n",
            "Requirement already satisfied: packaging>=20.0 in /usr/local/lib/python3.10/dist-packages (from transformers==4.42.4) (24.1)\n",
            "Requirement already satisfied: pyyaml>=5.1 in /usr/local/lib/python3.10/dist-packages (from transformers==4.42.4) (6.0.2)\n",
            "Requirement already satisfied: regex!=2019.12.17 in /usr/local/lib/python3.10/dist-packages (from transformers==4.42.4) (2024.9.11)\n",
            "Requirement already satisfied: requests in /usr/local/lib/python3.10/dist-packages (from transformers==4.42.4) (2.32.3)\n",
            "Requirement already satisfied: safetensors>=0.4.1 in /usr/local/lib/python3.10/dist-packages (from transformers==4.42.4) (0.4.5)\n",
            "Requirement already satisfied: tokenizers<0.20,>=0.19 in /usr/local/lib/python3.10/dist-packages (from transformers==4.42.4) (0.19.1)\n",
            "Requirement already satisfied: tqdm>=4.27 in /usr/local/lib/python3.10/dist-packages (from transformers==4.42.4) (4.66.5)\n",
            "Requirement already satisfied: scipy in /usr/local/lib/python3.10/dist-packages (from sentence-transformers==2.7.0) (1.13.1)\n",
            "Requirement already satisfied: Pillow in /usr/local/lib/python3.10/dist-packages (from sentence-transformers==2.7.0) (10.4.0)\n",
            "Requirement already satisfied: nvidia-nvjitlink-cu12 in /usr/local/lib/python3.10/dist-packages (from nvidia-cusolver-cu12==11.4.5.107->torch==2.2.0) (12.6.68)\n",
            "Requirement already satisfied: python-dateutil>=2.8.2 in /usr/local/lib/python3.10/dist-packages (from pandas) (2.8.2)\n",
            "Requirement already satisfied: pytz>=2020.1 in /usr/local/lib/python3.10/dist-packages (from pandas) (2024.2)\n",
            "Requirement already satisfied: tzdata>=2022.7 in /usr/local/lib/python3.10/dist-packages (from pandas) (2024.2)\n",
            "Requirement already satisfied: joblib>=1.2.0 in /usr/local/lib/python3.10/dist-packages (from scikit-learn) (1.4.2)\n",
            "Requirement already satisfied: threadpoolctl>=3.1.0 in /usr/local/lib/python3.10/dist-packages (from scikit-learn) (3.5.0)\n",
            "Requirement already satisfied: six>=1.5 in /usr/local/lib/python3.10/dist-packages (from python-dateutil>=2.8.2->pandas) (1.16.0)\n",
            "Requirement already satisfied: MarkupSafe>=2.0 in /usr/local/lib/python3.10/dist-packages (from jinja2->torch==2.2.0) (2.1.5)\n",
            "Requirement already satisfied: charset-normalizer<4,>=2 in /usr/local/lib/python3.10/dist-packages (from requests->transformers==4.42.4) (3.3.2)\n",
            "Requirement already satisfied: idna<4,>=2.5 in /usr/local/lib/python3.10/dist-packages (from requests->transformers==4.42.4) (3.10)\n",
            "Requirement already satisfied: urllib3<3,>=1.21.1 in /usr/local/lib/python3.10/dist-packages (from requests->transformers==4.42.4) (2.2.3)\n",
            "Requirement already satisfied: certifi>=2017.4.17 in /usr/local/lib/python3.10/dist-packages (from requests->transformers==4.42.4) (2024.8.30)\n",
            "Requirement already satisfied: mpmath<1.4,>=1.1.0 in /usr/local/lib/python3.10/dist-packages (from sympy->torch==2.2.0) (1.3.0)\n"
          ]
        }
      ],
      "source": [
        "!pip install torch==2.2.0 transformers==4.42.4 sentence-transformers==2.7.0 pandas scikit-learn\n"
      ]
    },
    {
      "cell_type": "code",
      "execution_count": 7,
      "metadata": {
        "id": "NYrdRrsKf42n"
      },
      "outputs": [],
      "source": [
        "import torch\n",
        "import torch.nn as nn\n",
        "import torch.optim as optim\n",
        "from torch.utils.data import Dataset, DataLoader\n",
        "from transformers import AutoTokenizer\n",
        "# from sentence_transformers import SentenceTransformer\n",
        "import pandas as pd\n",
        "from sklearn.model_selection import train_test_split\n",
        "from sklearn.metrics import accuracy_score\n"
      ]
    },
    {
      "cell_type": "code",
      "execution_count": null,
      "metadata": {
        "colab": {
          "base_uri": "https://localhost:8080/"
        },
        "id": "ZUcbQVz8hDXm",
        "outputId": "829067a5-4ade-443c-e360-bc6d5a8d0643"
      },
      "outputs": [
        {
          "output_type": "stream",
          "name": "stdout",
          "text": [
            "Requirement already satisfied: datasets in /usr/local/lib/python3.10/dist-packages (3.0.1)\n",
            "Requirement already satisfied: filelock in /usr/local/lib/python3.10/dist-packages (from datasets) (3.16.1)\n",
            "Requirement already satisfied: numpy>=1.17 in /usr/local/lib/python3.10/dist-packages (from datasets) (1.26.4)\n",
            "Requirement already satisfied: pyarrow>=15.0.0 in /usr/local/lib/python3.10/dist-packages (from datasets) (16.1.0)\n",
            "Requirement already satisfied: dill<0.3.9,>=0.3.0 in /usr/local/lib/python3.10/dist-packages (from datasets) (0.3.8)\n",
            "Requirement already satisfied: pandas in /usr/local/lib/python3.10/dist-packages (from datasets) (2.2.2)\n",
            "Requirement already satisfied: requests>=2.32.2 in /usr/local/lib/python3.10/dist-packages (from datasets) (2.32.3)\n",
            "Requirement already satisfied: tqdm>=4.66.3 in /usr/local/lib/python3.10/dist-packages (from datasets) (4.66.5)\n",
            "Requirement already satisfied: xxhash in /usr/local/lib/python3.10/dist-packages (from datasets) (3.5.0)\n",
            "Requirement already satisfied: multiprocess in /usr/local/lib/python3.10/dist-packages (from datasets) (0.70.16)\n",
            "Requirement already satisfied: fsspec<=2024.6.1,>=2023.1.0 in /usr/local/lib/python3.10/dist-packages (from fsspec[http]<=2024.6.1,>=2023.1.0->datasets) (2024.6.1)\n",
            "Requirement already satisfied: aiohttp in /usr/local/lib/python3.10/dist-packages (from datasets) (3.10.8)\n",
            "Requirement already satisfied: huggingface-hub>=0.22.0 in /usr/local/lib/python3.10/dist-packages (from datasets) (0.24.7)\n",
            "Requirement already satisfied: packaging in /usr/local/lib/python3.10/dist-packages (from datasets) (24.1)\n",
            "Requirement already satisfied: pyyaml>=5.1 in /usr/local/lib/python3.10/dist-packages (from datasets) (6.0.2)\n",
            "Requirement already satisfied: aiohappyeyeballs>=2.3.0 in /usr/local/lib/python3.10/dist-packages (from aiohttp->datasets) (2.4.3)\n",
            "Requirement already satisfied: aiosignal>=1.1.2 in /usr/local/lib/python3.10/dist-packages (from aiohttp->datasets) (1.3.1)\n",
            "Requirement already satisfied: attrs>=17.3.0 in /usr/local/lib/python3.10/dist-packages (from aiohttp->datasets) (24.2.0)\n",
            "Requirement already satisfied: frozenlist>=1.1.1 in /usr/local/lib/python3.10/dist-packages (from aiohttp->datasets) (1.4.1)\n",
            "Requirement already satisfied: multidict<7.0,>=4.5 in /usr/local/lib/python3.10/dist-packages (from aiohttp->datasets) (6.1.0)\n",
            "Requirement already satisfied: yarl<2.0,>=1.12.0 in /usr/local/lib/python3.10/dist-packages (from aiohttp->datasets) (1.13.1)\n",
            "Requirement already satisfied: async-timeout<5.0,>=4.0 in /usr/local/lib/python3.10/dist-packages (from aiohttp->datasets) (4.0.3)\n",
            "Requirement already satisfied: typing-extensions>=3.7.4.3 in /usr/local/lib/python3.10/dist-packages (from huggingface-hub>=0.22.0->datasets) (4.12.2)\n",
            "Requirement already satisfied: charset-normalizer<4,>=2 in /usr/local/lib/python3.10/dist-packages (from requests>=2.32.2->datasets) (3.3.2)\n",
            "Requirement already satisfied: idna<4,>=2.5 in /usr/local/lib/python3.10/dist-packages (from requests>=2.32.2->datasets) (3.10)\n",
            "Requirement already satisfied: urllib3<3,>=1.21.1 in /usr/local/lib/python3.10/dist-packages (from requests>=2.32.2->datasets) (2.2.3)\n",
            "Requirement already satisfied: certifi>=2017.4.17 in /usr/local/lib/python3.10/dist-packages (from requests>=2.32.2->datasets) (2024.8.30)\n",
            "Requirement already satisfied: python-dateutil>=2.8.2 in /usr/local/lib/python3.10/dist-packages (from pandas->datasets) (2.8.2)\n",
            "Requirement already satisfied: pytz>=2020.1 in /usr/local/lib/python3.10/dist-packages (from pandas->datasets) (2024.2)\n",
            "Requirement already satisfied: tzdata>=2022.7 in /usr/local/lib/python3.10/dist-packages (from pandas->datasets) (2024.2)\n",
            "Requirement already satisfied: six>=1.5 in /usr/local/lib/python3.10/dist-packages (from python-dateutil>=2.8.2->pandas->datasets) (1.16.0)\n"
          ]
        }
      ],
      "source": [
        "!pip install datasets"
      ]
    },
    {
      "cell_type": "code",
      "execution_count": null,
      "metadata": {
        "colab": {
          "base_uri": "https://localhost:8080/"
        },
        "id": "QBaGH0jIhW10",
        "outputId": "f7db5284-5bf2-486e-f9d7-2afce4577131"
      },
      "outputs": [
        {
          "output_type": "stream",
          "name": "stdout",
          "text": [
            "Requirement already satisfied: flash_attn in /usr/local/lib/python3.10/dist-packages (2.6.3)\n",
            "Requirement already satisfied: torch in /usr/local/lib/python3.10/dist-packages (from flash_attn) (2.2.0)\n",
            "Requirement already satisfied: einops in /usr/local/lib/python3.10/dist-packages (from flash_attn) (0.8.0)\n",
            "Requirement already satisfied: filelock in /usr/local/lib/python3.10/dist-packages (from torch->flash_attn) (3.16.1)\n",
            "Requirement already satisfied: typing-extensions>=4.8.0 in /usr/local/lib/python3.10/dist-packages (from torch->flash_attn) (4.12.2)\n",
            "Requirement already satisfied: sympy in /usr/local/lib/python3.10/dist-packages (from torch->flash_attn) (1.13.3)\n",
            "Requirement already satisfied: networkx in /usr/local/lib/python3.10/dist-packages (from torch->flash_attn) (3.3)\n",
            "Requirement already satisfied: jinja2 in /usr/local/lib/python3.10/dist-packages (from torch->flash_attn) (3.1.4)\n",
            "Requirement already satisfied: fsspec in /usr/local/lib/python3.10/dist-packages (from torch->flash_attn) (2024.6.1)\n",
            "Requirement already satisfied: nvidia-cuda-nvrtc-cu12==12.1.105 in /usr/local/lib/python3.10/dist-packages (from torch->flash_attn) (12.1.105)\n",
            "Requirement already satisfied: nvidia-cuda-runtime-cu12==12.1.105 in /usr/local/lib/python3.10/dist-packages (from torch->flash_attn) (12.1.105)\n",
            "Requirement already satisfied: nvidia-cuda-cupti-cu12==12.1.105 in /usr/local/lib/python3.10/dist-packages (from torch->flash_attn) (12.1.105)\n",
            "Requirement already satisfied: nvidia-cudnn-cu12==8.9.2.26 in /usr/local/lib/python3.10/dist-packages (from torch->flash_attn) (8.9.2.26)\n",
            "Requirement already satisfied: nvidia-cublas-cu12==12.1.3.1 in /usr/local/lib/python3.10/dist-packages (from torch->flash_attn) (12.1.3.1)\n",
            "Requirement already satisfied: nvidia-cufft-cu12==11.0.2.54 in /usr/local/lib/python3.10/dist-packages (from torch->flash_attn) (11.0.2.54)\n",
            "Requirement already satisfied: nvidia-curand-cu12==10.3.2.106 in /usr/local/lib/python3.10/dist-packages (from torch->flash_attn) (10.3.2.106)\n",
            "Requirement already satisfied: nvidia-cusolver-cu12==11.4.5.107 in /usr/local/lib/python3.10/dist-packages (from torch->flash_attn) (11.4.5.107)\n",
            "Requirement already satisfied: nvidia-cusparse-cu12==12.1.0.106 in /usr/local/lib/python3.10/dist-packages (from torch->flash_attn) (12.1.0.106)\n",
            "Requirement already satisfied: nvidia-nccl-cu12==2.19.3 in /usr/local/lib/python3.10/dist-packages (from torch->flash_attn) (2.19.3)\n",
            "Requirement already satisfied: nvidia-nvtx-cu12==12.1.105 in /usr/local/lib/python3.10/dist-packages (from torch->flash_attn) (12.1.105)\n",
            "Requirement already satisfied: triton==2.2.0 in /usr/local/lib/python3.10/dist-packages (from torch->flash_attn) (2.2.0)\n",
            "Requirement already satisfied: nvidia-nvjitlink-cu12 in /usr/local/lib/python3.10/dist-packages (from nvidia-cusolver-cu12==11.4.5.107->torch->flash_attn) (12.6.68)\n",
            "Requirement already satisfied: MarkupSafe>=2.0 in /usr/local/lib/python3.10/dist-packages (from jinja2->torch->flash_attn) (2.1.5)\n",
            "Requirement already satisfied: mpmath<1.4,>=1.1.0 in /usr/local/lib/python3.10/dist-packages (from sympy->torch->flash_attn) (1.3.0)\n"
          ]
        }
      ],
      "source": [
        "# prompt: pip install flash_attn\n",
        "\n",
        "!pip install flash_attn\n"
      ]
    },
    {
      "cell_type": "code",
      "execution_count": null,
      "metadata": {
        "colab": {
          "base_uri": "https://localhost:8080/",
          "height": 619
        },
        "id": "d0JKXFYrf6p-",
        "outputId": "402cc5db-74c4-456a-915a-585c1db37461"
      },
      "outputs": [
        {
          "output_type": "stream",
          "name": "stderr",
          "text": [
            "/usr/local/lib/python3.10/dist-packages/huggingface_hub/utils/_token.py:89: UserWarning: \n",
            "The secret `HF_TOKEN` does not exist in your Colab secrets.\n",
            "To authenticate with the Hugging Face Hub, create a token in your settings tab (https://huggingface.co/settings/tokens), set it as secret in your Google Colab and restart your session.\n",
            "You will be able to reuse this secret in all of your notebooks.\n",
            "Please note that authentication is recommended but still optional to access public models or datasets.\n",
            "  warnings.warn(\n",
            "WARNING:sentence_transformers.SentenceTransformer:You try to use a model that was created with version 3.0.1, however, your version is 2.7.0. This might cause unexpected behavior or errors. In that case, try to update to the latest version.\n",
            "\n",
            "\n",
            "\n"
          ]
        },
        {
          "output_type": "error",
          "ename": "KeyboardInterrupt",
          "evalue": "",
          "traceback": [
            "\u001b[0;31m---------------------------------------------------------------------------\u001b[0m",
            "\u001b[0;31mKeyboardInterrupt\u001b[0m                         Traceback (most recent call last)",
            "\u001b[0;32m<ipython-input-1-9311bada07f8>\u001b[0m in \u001b[0;36m<cell line: 6>\u001b[0;34m()\u001b[0m\n\u001b[1;32m      4\u001b[0m \u001b[0;34m\u001b[0m\u001b[0m\n\u001b[1;32m      5\u001b[0m \u001b[0;31m# Load the Stella model\u001b[0m\u001b[0;34m\u001b[0m\u001b[0;34m\u001b[0m\u001b[0m\n\u001b[0;32m----> 6\u001b[0;31m \u001b[0mmodel\u001b[0m \u001b[0;34m=\u001b[0m \u001b[0mSentenceTransformer\u001b[0m\u001b[0;34m(\u001b[0m\u001b[0;34m\"dunzhang/stella_en_1.5B_v5\"\u001b[0m\u001b[0;34m,\u001b[0m \u001b[0mtrust_remote_code\u001b[0m\u001b[0;34m=\u001b[0m\u001b[0;32mTrue\u001b[0m\u001b[0;34m)\u001b[0m\u001b[0;34m.\u001b[0m\u001b[0mcuda\u001b[0m\u001b[0;34m(\u001b[0m\u001b[0;34m)\u001b[0m\u001b[0;34m\u001b[0m\u001b[0;34m\u001b[0m\u001b[0m\n\u001b[0m\u001b[1;32m      7\u001b[0m \u001b[0;34m\u001b[0m\u001b[0m\n\u001b[1;32m      8\u001b[0m \u001b[0;31m# Set the model sequence length\u001b[0m\u001b[0;34m\u001b[0m\u001b[0;34m\u001b[0m\u001b[0m\n",
            "\u001b[0;32m/usr/local/lib/python3.10/dist-packages/sentence_transformers/SentenceTransformer.py\u001b[0m in \u001b[0;36m__init__\u001b[0;34m(self, model_name_or_path, modules, device, prompts, default_prompt_name, cache_folder, trust_remote_code, revision, token, use_auth_token, truncate_dim)\u001b[0m\n\u001b[1;32m    195\u001b[0m \u001b[0;34m\u001b[0m\u001b[0m\n\u001b[1;32m    196\u001b[0m             \u001b[0;32mif\u001b[0m \u001b[0mis_sentence_transformer_model\u001b[0m\u001b[0;34m(\u001b[0m\u001b[0mmodel_name_or_path\u001b[0m\u001b[0;34m,\u001b[0m \u001b[0mtoken\u001b[0m\u001b[0;34m,\u001b[0m \u001b[0mcache_folder\u001b[0m\u001b[0;34m=\u001b[0m\u001b[0mcache_folder\u001b[0m\u001b[0;34m,\u001b[0m \u001b[0mrevision\u001b[0m\u001b[0;34m=\u001b[0m\u001b[0mrevision\u001b[0m\u001b[0;34m)\u001b[0m\u001b[0;34m:\u001b[0m\u001b[0;34m\u001b[0m\u001b[0;34m\u001b[0m\u001b[0m\n\u001b[0;32m--> 197\u001b[0;31m                 modules = self._load_sbert_model(\n\u001b[0m\u001b[1;32m    198\u001b[0m                     \u001b[0mmodel_name_or_path\u001b[0m\u001b[0;34m,\u001b[0m\u001b[0;34m\u001b[0m\u001b[0;34m\u001b[0m\u001b[0m\n\u001b[1;32m    199\u001b[0m                     \u001b[0mtoken\u001b[0m\u001b[0;34m=\u001b[0m\u001b[0mtoken\u001b[0m\u001b[0;34m,\u001b[0m\u001b[0;34m\u001b[0m\u001b[0;34m\u001b[0m\u001b[0m\n",
            "\u001b[0;32m/usr/local/lib/python3.10/dist-packages/sentence_transformers/SentenceTransformer.py\u001b[0m in \u001b[0;36m_load_sbert_model\u001b[0;34m(self, model_name_or_path, token, cache_folder, revision, trust_remote_code)\u001b[0m\n\u001b[1;32m   1294\u001b[0m                 \u001b[0;32melse\u001b[0m\u001b[0;34m:\u001b[0m\u001b[0;34m\u001b[0m\u001b[0;34m\u001b[0m\u001b[0m\n\u001b[1;32m   1295\u001b[0m                     \u001b[0mkwargs\u001b[0m\u001b[0;34m[\u001b[0m\u001b[0;34m\"tokenizer_args\"\u001b[0m\u001b[0;34m]\u001b[0m \u001b[0;34m=\u001b[0m \u001b[0mhub_kwargs\u001b[0m\u001b[0;34m\u001b[0m\u001b[0;34m\u001b[0m\u001b[0m\n\u001b[0;32m-> 1296\u001b[0;31m                 \u001b[0mmodule\u001b[0m \u001b[0;34m=\u001b[0m \u001b[0mTransformer\u001b[0m\u001b[0;34m(\u001b[0m\u001b[0mmodel_name_or_path\u001b[0m\u001b[0;34m,\u001b[0m \u001b[0mcache_dir\u001b[0m\u001b[0;34m=\u001b[0m\u001b[0mcache_folder\u001b[0m\u001b[0;34m,\u001b[0m \u001b[0;34m**\u001b[0m\u001b[0mkwargs\u001b[0m\u001b[0;34m)\u001b[0m\u001b[0;34m\u001b[0m\u001b[0;34m\u001b[0m\u001b[0m\n\u001b[0m\u001b[1;32m   1297\u001b[0m             \u001b[0;32melse\u001b[0m\u001b[0;34m:\u001b[0m\u001b[0;34m\u001b[0m\u001b[0;34m\u001b[0m\u001b[0m\n\u001b[1;32m   1298\u001b[0m                 \u001b[0;31m# Normalize does not require any files to be loaded\u001b[0m\u001b[0;34m\u001b[0m\u001b[0;34m\u001b[0m\u001b[0m\n",
            "\u001b[0;32m/usr/local/lib/python3.10/dist-packages/sentence_transformers/models/Transformer.py\u001b[0m in \u001b[0;36m__init__\u001b[0;34m(self, model_name_or_path, max_seq_length, model_args, cache_dir, tokenizer_args, do_lower_case, tokenizer_name_or_path)\u001b[0m\n\u001b[1;32m     34\u001b[0m \u001b[0;34m\u001b[0m\u001b[0m\n\u001b[1;32m     35\u001b[0m         \u001b[0mconfig\u001b[0m \u001b[0;34m=\u001b[0m \u001b[0mAutoConfig\u001b[0m\u001b[0;34m.\u001b[0m\u001b[0mfrom_pretrained\u001b[0m\u001b[0;34m(\u001b[0m\u001b[0mmodel_name_or_path\u001b[0m\u001b[0;34m,\u001b[0m \u001b[0;34m**\u001b[0m\u001b[0mmodel_args\u001b[0m\u001b[0;34m,\u001b[0m \u001b[0mcache_dir\u001b[0m\u001b[0;34m=\u001b[0m\u001b[0mcache_dir\u001b[0m\u001b[0;34m)\u001b[0m\u001b[0;34m\u001b[0m\u001b[0;34m\u001b[0m\u001b[0m\n\u001b[0;32m---> 36\u001b[0;31m         \u001b[0mself\u001b[0m\u001b[0;34m.\u001b[0m\u001b[0m_load_model\u001b[0m\u001b[0;34m(\u001b[0m\u001b[0mmodel_name_or_path\u001b[0m\u001b[0;34m,\u001b[0m \u001b[0mconfig\u001b[0m\u001b[0;34m,\u001b[0m \u001b[0mcache_dir\u001b[0m\u001b[0;34m,\u001b[0m \u001b[0;34m**\u001b[0m\u001b[0mmodel_args\u001b[0m\u001b[0;34m)\u001b[0m\u001b[0;34m\u001b[0m\u001b[0;34m\u001b[0m\u001b[0m\n\u001b[0m\u001b[1;32m     37\u001b[0m \u001b[0;34m\u001b[0m\u001b[0m\n\u001b[1;32m     38\u001b[0m         self.tokenizer = AutoTokenizer.from_pretrained(\n",
            "\u001b[0;32m/usr/local/lib/python3.10/dist-packages/sentence_transformers/models/Transformer.py\u001b[0m in \u001b[0;36m_load_model\u001b[0;34m(self, model_name_or_path, config, cache_dir, **model_args)\u001b[0m\n\u001b[1;32m     63\u001b[0m             \u001b[0mself\u001b[0m\u001b[0;34m.\u001b[0m\u001b[0m_load_mt5_model\u001b[0m\u001b[0;34m(\u001b[0m\u001b[0mmodel_name_or_path\u001b[0m\u001b[0;34m,\u001b[0m \u001b[0mconfig\u001b[0m\u001b[0;34m,\u001b[0m \u001b[0mcache_dir\u001b[0m\u001b[0;34m,\u001b[0m \u001b[0;34m**\u001b[0m\u001b[0mmodel_args\u001b[0m\u001b[0;34m)\u001b[0m\u001b[0;34m\u001b[0m\u001b[0;34m\u001b[0m\u001b[0m\n\u001b[1;32m     64\u001b[0m         \u001b[0;32melse\u001b[0m\u001b[0;34m:\u001b[0m\u001b[0;34m\u001b[0m\u001b[0;34m\u001b[0m\u001b[0m\n\u001b[0;32m---> 65\u001b[0;31m             self.auto_model = AutoModel.from_pretrained(\n\u001b[0m\u001b[1;32m     66\u001b[0m                 \u001b[0mmodel_name_or_path\u001b[0m\u001b[0;34m,\u001b[0m \u001b[0mconfig\u001b[0m\u001b[0;34m=\u001b[0m\u001b[0mconfig\u001b[0m\u001b[0;34m,\u001b[0m \u001b[0mcache_dir\u001b[0m\u001b[0;34m=\u001b[0m\u001b[0mcache_dir\u001b[0m\u001b[0;34m,\u001b[0m \u001b[0;34m**\u001b[0m\u001b[0mmodel_args\u001b[0m\u001b[0;34m\u001b[0m\u001b[0;34m\u001b[0m\u001b[0m\n\u001b[1;32m     67\u001b[0m             )\n",
            "\u001b[0;32m/usr/local/lib/python3.10/dist-packages/transformers/models/auto/auto_factory.py\u001b[0m in \u001b[0;36mfrom_pretrained\u001b[0;34m(cls, pretrained_model_name_or_path, *model_args, **kwargs)\u001b[0m\n\u001b[1;32m    557\u001b[0m             \u001b[0;32melse\u001b[0m\u001b[0;34m:\u001b[0m\u001b[0;34m\u001b[0m\u001b[0;34m\u001b[0m\u001b[0m\n\u001b[1;32m    558\u001b[0m                 \u001b[0mcls\u001b[0m\u001b[0;34m.\u001b[0m\u001b[0mregister\u001b[0m\u001b[0;34m(\u001b[0m\u001b[0mconfig\u001b[0m\u001b[0;34m.\u001b[0m\u001b[0m__class__\u001b[0m\u001b[0;34m,\u001b[0m \u001b[0mmodel_class\u001b[0m\u001b[0;34m,\u001b[0m \u001b[0mexist_ok\u001b[0m\u001b[0;34m=\u001b[0m\u001b[0;32mTrue\u001b[0m\u001b[0;34m)\u001b[0m\u001b[0;34m\u001b[0m\u001b[0;34m\u001b[0m\u001b[0m\n\u001b[0;32m--> 559\u001b[0;31m             return model_class.from_pretrained(\n\u001b[0m\u001b[1;32m    560\u001b[0m                 \u001b[0mpretrained_model_name_or_path\u001b[0m\u001b[0;34m,\u001b[0m \u001b[0;34m*\u001b[0m\u001b[0mmodel_args\u001b[0m\u001b[0;34m,\u001b[0m \u001b[0mconfig\u001b[0m\u001b[0;34m=\u001b[0m\u001b[0mconfig\u001b[0m\u001b[0;34m,\u001b[0m \u001b[0;34m**\u001b[0m\u001b[0mhub_kwargs\u001b[0m\u001b[0;34m,\u001b[0m \u001b[0;34m**\u001b[0m\u001b[0mkwargs\u001b[0m\u001b[0;34m\u001b[0m\u001b[0;34m\u001b[0m\u001b[0m\n\u001b[1;32m    561\u001b[0m             )\n",
            "\u001b[0;32m/usr/local/lib/python3.10/dist-packages/transformers/modeling_utils.py\u001b[0m in \u001b[0;36mfrom_pretrained\u001b[0;34m(cls, pretrained_model_name_or_path, config, cache_dir, ignore_mismatched_sizes, force_download, local_files_only, token, revision, use_safetensors, *model_args, **kwargs)\u001b[0m\n\u001b[1;32m   3836\u001b[0m                 \u001b[0moffload_index\u001b[0m\u001b[0;34m,\u001b[0m\u001b[0;34m\u001b[0m\u001b[0;34m\u001b[0m\u001b[0m\n\u001b[1;32m   3837\u001b[0m                 \u001b[0merror_msgs\u001b[0m\u001b[0;34m,\u001b[0m\u001b[0;34m\u001b[0m\u001b[0;34m\u001b[0m\u001b[0m\n\u001b[0;32m-> 3838\u001b[0;31m             \u001b[0;34m)\u001b[0m \u001b[0;34m=\u001b[0m \u001b[0mcls\u001b[0m\u001b[0;34m.\u001b[0m\u001b[0m_load_pretrained_model\u001b[0m\u001b[0;34m(\u001b[0m\u001b[0;34m\u001b[0m\u001b[0;34m\u001b[0m\u001b[0m\n\u001b[0m\u001b[1;32m   3839\u001b[0m                 \u001b[0mmodel\u001b[0m\u001b[0;34m,\u001b[0m\u001b[0;34m\u001b[0m\u001b[0;34m\u001b[0m\u001b[0m\n\u001b[1;32m   3840\u001b[0m                 \u001b[0mstate_dict\u001b[0m\u001b[0;34m,\u001b[0m\u001b[0;34m\u001b[0m\u001b[0;34m\u001b[0m\u001b[0m\n",
            "\u001b[0;32m/usr/local/lib/python3.10/dist-packages/transformers/modeling_utils.py\u001b[0m in \u001b[0;36m_load_pretrained_model\u001b[0;34m(cls, model, state_dict, loaded_keys, resolved_archive_file, pretrained_model_name_or_path, ignore_mismatched_sizes, sharded_metadata, _fast_init, low_cpu_mem_usage, device_map, offload_folder, offload_state_dict, dtype, hf_quantizer, keep_in_fp32_modules, gguf_path)\u001b[0m\n\u001b[1;32m   4244\u001b[0m             \u001b[0;32melse\u001b[0m\u001b[0;34m:\u001b[0m\u001b[0;34m\u001b[0m\u001b[0;34m\u001b[0m\u001b[0m\n\u001b[1;32m   4245\u001b[0m                 \u001b[0;31m# Sharded checkpoint or whole but low_cpu_mem_usage==True\u001b[0m\u001b[0;34m\u001b[0m\u001b[0;34m\u001b[0m\u001b[0m\n\u001b[0;32m-> 4246\u001b[0;31m                 \u001b[0merror_msgs\u001b[0m \u001b[0;34m=\u001b[0m \u001b[0m_load_state_dict_into_model\u001b[0m\u001b[0;34m(\u001b[0m\u001b[0mmodel_to_load\u001b[0m\u001b[0;34m,\u001b[0m \u001b[0mstate_dict\u001b[0m\u001b[0;34m,\u001b[0m \u001b[0mstart_prefix\u001b[0m\u001b[0;34m)\u001b[0m\u001b[0;34m\u001b[0m\u001b[0;34m\u001b[0m\u001b[0m\n\u001b[0m\u001b[1;32m   4247\u001b[0m \u001b[0;34m\u001b[0m\u001b[0m\n\u001b[1;32m   4248\u001b[0m         \u001b[0;32melse\u001b[0m\u001b[0;34m:\u001b[0m\u001b[0;34m\u001b[0m\u001b[0;34m\u001b[0m\u001b[0m\n",
            "\u001b[0;32m/usr/local/lib/python3.10/dist-packages/transformers/modeling_utils.py\u001b[0m in \u001b[0;36m_load_state_dict_into_model\u001b[0;34m(model_to_load, state_dict, start_prefix)\u001b[0m\n\u001b[1;32m    709\u001b[0m                 \u001b[0mload\u001b[0m\u001b[0;34m(\u001b[0m\u001b[0mchild\u001b[0m\u001b[0;34m,\u001b[0m \u001b[0mstate_dict\u001b[0m\u001b[0;34m,\u001b[0m \u001b[0mprefix\u001b[0m \u001b[0;34m+\u001b[0m \u001b[0mname\u001b[0m \u001b[0;34m+\u001b[0m \u001b[0;34m\".\"\u001b[0m\u001b[0;34m)\u001b[0m\u001b[0;34m\u001b[0m\u001b[0;34m\u001b[0m\u001b[0m\n\u001b[1;32m    710\u001b[0m \u001b[0;34m\u001b[0m\u001b[0m\n\u001b[0;32m--> 711\u001b[0;31m     \u001b[0mload\u001b[0m\u001b[0;34m(\u001b[0m\u001b[0mmodel_to_load\u001b[0m\u001b[0;34m,\u001b[0m \u001b[0mstate_dict\u001b[0m\u001b[0;34m,\u001b[0m \u001b[0mprefix\u001b[0m\u001b[0;34m=\u001b[0m\u001b[0mstart_prefix\u001b[0m\u001b[0;34m)\u001b[0m\u001b[0;34m\u001b[0m\u001b[0;34m\u001b[0m\u001b[0m\n\u001b[0m\u001b[1;32m    712\u001b[0m     \u001b[0;31m# Delete `state_dict` so it could be collected by GC earlier. Note that `state_dict` is a copy of the argument, so\u001b[0m\u001b[0;34m\u001b[0m\u001b[0;34m\u001b[0m\u001b[0m\n\u001b[1;32m    713\u001b[0m     \u001b[0;31m# it's safe to delete it.\u001b[0m\u001b[0;34m\u001b[0m\u001b[0;34m\u001b[0m\u001b[0m\n",
            "\u001b[0;32m/usr/local/lib/python3.10/dist-packages/transformers/modeling_utils.py\u001b[0m in \u001b[0;36mload\u001b[0;34m(module, state_dict, prefix)\u001b[0m\n\u001b[1;32m    707\u001b[0m         \u001b[0;32mfor\u001b[0m \u001b[0mname\u001b[0m\u001b[0;34m,\u001b[0m \u001b[0mchild\u001b[0m \u001b[0;32min\u001b[0m \u001b[0mmodule\u001b[0m\u001b[0;34m.\u001b[0m\u001b[0m_modules\u001b[0m\u001b[0;34m.\u001b[0m\u001b[0mitems\u001b[0m\u001b[0;34m(\u001b[0m\u001b[0;34m)\u001b[0m\u001b[0;34m:\u001b[0m\u001b[0;34m\u001b[0m\u001b[0;34m\u001b[0m\u001b[0m\n\u001b[1;32m    708\u001b[0m             \u001b[0;32mif\u001b[0m \u001b[0mchild\u001b[0m \u001b[0;32mis\u001b[0m \u001b[0;32mnot\u001b[0m \u001b[0;32mNone\u001b[0m\u001b[0;34m:\u001b[0m\u001b[0;34m\u001b[0m\u001b[0;34m\u001b[0m\u001b[0m\n\u001b[0;32m--> 709\u001b[0;31m                 \u001b[0mload\u001b[0m\u001b[0;34m(\u001b[0m\u001b[0mchild\u001b[0m\u001b[0;34m,\u001b[0m \u001b[0mstate_dict\u001b[0m\u001b[0;34m,\u001b[0m \u001b[0mprefix\u001b[0m \u001b[0;34m+\u001b[0m \u001b[0mname\u001b[0m \u001b[0;34m+\u001b[0m \u001b[0;34m\".\"\u001b[0m\u001b[0;34m)\u001b[0m\u001b[0;34m\u001b[0m\u001b[0;34m\u001b[0m\u001b[0m\n\u001b[0m\u001b[1;32m    710\u001b[0m \u001b[0;34m\u001b[0m\u001b[0m\n\u001b[1;32m    711\u001b[0m     \u001b[0mload\u001b[0m\u001b[0;34m(\u001b[0m\u001b[0mmodel_to_load\u001b[0m\u001b[0;34m,\u001b[0m \u001b[0mstate_dict\u001b[0m\u001b[0;34m,\u001b[0m \u001b[0mprefix\u001b[0m\u001b[0;34m=\u001b[0m\u001b[0mstart_prefix\u001b[0m\u001b[0;34m)\u001b[0m\u001b[0;34m\u001b[0m\u001b[0;34m\u001b[0m\u001b[0m\n",
            "\u001b[0;32m/usr/local/lib/python3.10/dist-packages/transformers/modeling_utils.py\u001b[0m in \u001b[0;36mload\u001b[0;34m(module, state_dict, prefix)\u001b[0m\n\u001b[1;32m    707\u001b[0m         \u001b[0;32mfor\u001b[0m \u001b[0mname\u001b[0m\u001b[0;34m,\u001b[0m \u001b[0mchild\u001b[0m \u001b[0;32min\u001b[0m \u001b[0mmodule\u001b[0m\u001b[0;34m.\u001b[0m\u001b[0m_modules\u001b[0m\u001b[0;34m.\u001b[0m\u001b[0mitems\u001b[0m\u001b[0;34m(\u001b[0m\u001b[0;34m)\u001b[0m\u001b[0;34m:\u001b[0m\u001b[0;34m\u001b[0m\u001b[0;34m\u001b[0m\u001b[0m\n\u001b[1;32m    708\u001b[0m             \u001b[0;32mif\u001b[0m \u001b[0mchild\u001b[0m \u001b[0;32mis\u001b[0m \u001b[0;32mnot\u001b[0m \u001b[0;32mNone\u001b[0m\u001b[0;34m:\u001b[0m\u001b[0;34m\u001b[0m\u001b[0;34m\u001b[0m\u001b[0m\n\u001b[0;32m--> 709\u001b[0;31m                 \u001b[0mload\u001b[0m\u001b[0;34m(\u001b[0m\u001b[0mchild\u001b[0m\u001b[0;34m,\u001b[0m \u001b[0mstate_dict\u001b[0m\u001b[0;34m,\u001b[0m \u001b[0mprefix\u001b[0m \u001b[0;34m+\u001b[0m \u001b[0mname\u001b[0m \u001b[0;34m+\u001b[0m \u001b[0;34m\".\"\u001b[0m\u001b[0;34m)\u001b[0m\u001b[0;34m\u001b[0m\u001b[0;34m\u001b[0m\u001b[0m\n\u001b[0m\u001b[1;32m    710\u001b[0m \u001b[0;34m\u001b[0m\u001b[0m\n\u001b[1;32m    711\u001b[0m     \u001b[0mload\u001b[0m\u001b[0;34m(\u001b[0m\u001b[0mmodel_to_load\u001b[0m\u001b[0;34m,\u001b[0m \u001b[0mstate_dict\u001b[0m\u001b[0;34m,\u001b[0m \u001b[0mprefix\u001b[0m\u001b[0;34m=\u001b[0m\u001b[0mstart_prefix\u001b[0m\u001b[0;34m)\u001b[0m\u001b[0;34m\u001b[0m\u001b[0;34m\u001b[0m\u001b[0m\n",
            "\u001b[0;32m/usr/local/lib/python3.10/dist-packages/transformers/modeling_utils.py\u001b[0m in \u001b[0;36mload\u001b[0;34m(module, state_dict, prefix)\u001b[0m\n\u001b[1;32m    707\u001b[0m         \u001b[0;32mfor\u001b[0m \u001b[0mname\u001b[0m\u001b[0;34m,\u001b[0m \u001b[0mchild\u001b[0m \u001b[0;32min\u001b[0m \u001b[0mmodule\u001b[0m\u001b[0;34m.\u001b[0m\u001b[0m_modules\u001b[0m\u001b[0;34m.\u001b[0m\u001b[0mitems\u001b[0m\u001b[0;34m(\u001b[0m\u001b[0;34m)\u001b[0m\u001b[0;34m:\u001b[0m\u001b[0;34m\u001b[0m\u001b[0;34m\u001b[0m\u001b[0m\n\u001b[1;32m    708\u001b[0m             \u001b[0;32mif\u001b[0m \u001b[0mchild\u001b[0m \u001b[0;32mis\u001b[0m \u001b[0;32mnot\u001b[0m \u001b[0;32mNone\u001b[0m\u001b[0;34m:\u001b[0m\u001b[0;34m\u001b[0m\u001b[0;34m\u001b[0m\u001b[0m\n\u001b[0;32m--> 709\u001b[0;31m                 \u001b[0mload\u001b[0m\u001b[0;34m(\u001b[0m\u001b[0mchild\u001b[0m\u001b[0;34m,\u001b[0m \u001b[0mstate_dict\u001b[0m\u001b[0;34m,\u001b[0m \u001b[0mprefix\u001b[0m \u001b[0;34m+\u001b[0m \u001b[0mname\u001b[0m \u001b[0;34m+\u001b[0m \u001b[0;34m\".\"\u001b[0m\u001b[0;34m)\u001b[0m\u001b[0;34m\u001b[0m\u001b[0;34m\u001b[0m\u001b[0m\n\u001b[0m\u001b[1;32m    710\u001b[0m \u001b[0;34m\u001b[0m\u001b[0m\n\u001b[1;32m    711\u001b[0m     \u001b[0mload\u001b[0m\u001b[0;34m(\u001b[0m\u001b[0mmodel_to_load\u001b[0m\u001b[0;34m,\u001b[0m \u001b[0mstate_dict\u001b[0m\u001b[0;34m,\u001b[0m \u001b[0mprefix\u001b[0m\u001b[0;34m=\u001b[0m\u001b[0mstart_prefix\u001b[0m\u001b[0;34m)\u001b[0m\u001b[0;34m\u001b[0m\u001b[0;34m\u001b[0m\u001b[0m\n",
            "\u001b[0;32m/usr/local/lib/python3.10/dist-packages/transformers/modeling_utils.py\u001b[0m in \u001b[0;36mload\u001b[0;34m(module, state_dict, prefix)\u001b[0m\n\u001b[1;32m    707\u001b[0m         \u001b[0;32mfor\u001b[0m \u001b[0mname\u001b[0m\u001b[0;34m,\u001b[0m \u001b[0mchild\u001b[0m \u001b[0;32min\u001b[0m \u001b[0mmodule\u001b[0m\u001b[0;34m.\u001b[0m\u001b[0m_modules\u001b[0m\u001b[0;34m.\u001b[0m\u001b[0mitems\u001b[0m\u001b[0;34m(\u001b[0m\u001b[0;34m)\u001b[0m\u001b[0;34m:\u001b[0m\u001b[0;34m\u001b[0m\u001b[0;34m\u001b[0m\u001b[0m\n\u001b[1;32m    708\u001b[0m             \u001b[0;32mif\u001b[0m \u001b[0mchild\u001b[0m \u001b[0;32mis\u001b[0m \u001b[0;32mnot\u001b[0m \u001b[0;32mNone\u001b[0m\u001b[0;34m:\u001b[0m\u001b[0;34m\u001b[0m\u001b[0;34m\u001b[0m\u001b[0m\n\u001b[0;32m--> 709\u001b[0;31m                 \u001b[0mload\u001b[0m\u001b[0;34m(\u001b[0m\u001b[0mchild\u001b[0m\u001b[0;34m,\u001b[0m \u001b[0mstate_dict\u001b[0m\u001b[0;34m,\u001b[0m \u001b[0mprefix\u001b[0m \u001b[0;34m+\u001b[0m \u001b[0mname\u001b[0m \u001b[0;34m+\u001b[0m \u001b[0;34m\".\"\u001b[0m\u001b[0;34m)\u001b[0m\u001b[0;34m\u001b[0m\u001b[0;34m\u001b[0m\u001b[0m\n\u001b[0m\u001b[1;32m    710\u001b[0m \u001b[0;34m\u001b[0m\u001b[0m\n\u001b[1;32m    711\u001b[0m     \u001b[0mload\u001b[0m\u001b[0;34m(\u001b[0m\u001b[0mmodel_to_load\u001b[0m\u001b[0;34m,\u001b[0m \u001b[0mstate_dict\u001b[0m\u001b[0;34m,\u001b[0m \u001b[0mprefix\u001b[0m\u001b[0;34m=\u001b[0m\u001b[0mstart_prefix\u001b[0m\u001b[0;34m)\u001b[0m\u001b[0;34m\u001b[0m\u001b[0;34m\u001b[0m\u001b[0m\n",
            "\u001b[0;32m/usr/local/lib/python3.10/dist-packages/transformers/modeling_utils.py\u001b[0m in \u001b[0;36mload\u001b[0;34m(module, state_dict, prefix)\u001b[0m\n\u001b[1;32m    703\u001b[0m                             \u001b[0mmodule\u001b[0m\u001b[0;34m.\u001b[0m\u001b[0m_load_from_state_dict\u001b[0m\u001b[0;34m(\u001b[0m\u001b[0;34m*\u001b[0m\u001b[0margs\u001b[0m\u001b[0;34m)\u001b[0m\u001b[0;34m\u001b[0m\u001b[0;34m\u001b[0m\u001b[0m\n\u001b[1;32m    704\u001b[0m             \u001b[0;32melse\u001b[0m\u001b[0;34m:\u001b[0m\u001b[0;34m\u001b[0m\u001b[0;34m\u001b[0m\u001b[0m\n\u001b[0;32m--> 705\u001b[0;31m                 \u001b[0mmodule\u001b[0m\u001b[0;34m.\u001b[0m\u001b[0m_load_from_state_dict\u001b[0m\u001b[0;34m(\u001b[0m\u001b[0;34m*\u001b[0m\u001b[0margs\u001b[0m\u001b[0;34m)\u001b[0m\u001b[0;34m\u001b[0m\u001b[0;34m\u001b[0m\u001b[0m\n\u001b[0m\u001b[1;32m    706\u001b[0m \u001b[0;34m\u001b[0m\u001b[0m\n\u001b[1;32m    707\u001b[0m         \u001b[0;32mfor\u001b[0m \u001b[0mname\u001b[0m\u001b[0;34m,\u001b[0m \u001b[0mchild\u001b[0m \u001b[0;32min\u001b[0m \u001b[0mmodule\u001b[0m\u001b[0;34m.\u001b[0m\u001b[0m_modules\u001b[0m\u001b[0;34m.\u001b[0m\u001b[0mitems\u001b[0m\u001b[0;34m(\u001b[0m\u001b[0;34m)\u001b[0m\u001b[0;34m:\u001b[0m\u001b[0;34m\u001b[0m\u001b[0;34m\u001b[0m\u001b[0m\n",
            "\u001b[0;32m/usr/local/lib/python3.10/dist-packages/torch/nn/modules/module.py\u001b[0m in \u001b[0;36m_load_from_state_dict\u001b[0;34m(self, state_dict, prefix, local_metadata, strict, missing_keys, unexpected_keys, error_msgs)\u001b[0m\n\u001b[1;32m   2038\u001b[0m                                 \u001b[0msetattr\u001b[0m\u001b[0;34m(\u001b[0m\u001b[0mself\u001b[0m\u001b[0;34m,\u001b[0m \u001b[0mname\u001b[0m\u001b[0;34m,\u001b[0m \u001b[0minput_param\u001b[0m\u001b[0;34m)\u001b[0m\u001b[0;34m\u001b[0m\u001b[0;34m\u001b[0m\u001b[0m\n\u001b[1;32m   2039\u001b[0m                         \u001b[0;32melse\u001b[0m\u001b[0;34m:\u001b[0m\u001b[0;34m\u001b[0m\u001b[0;34m\u001b[0m\u001b[0m\n\u001b[0;32m-> 2040\u001b[0;31m                             \u001b[0mparam\u001b[0m\u001b[0;34m.\u001b[0m\u001b[0mcopy_\u001b[0m\u001b[0;34m(\u001b[0m\u001b[0minput_param\u001b[0m\u001b[0;34m)\u001b[0m\u001b[0;34m\u001b[0m\u001b[0;34m\u001b[0m\u001b[0m\n\u001b[0m\u001b[1;32m   2041\u001b[0m                 \u001b[0;32mexcept\u001b[0m \u001b[0mException\u001b[0m \u001b[0;32mas\u001b[0m \u001b[0mex\u001b[0m\u001b[0;34m:\u001b[0m\u001b[0;34m\u001b[0m\u001b[0;34m\u001b[0m\u001b[0m\n\u001b[1;32m   2042\u001b[0m                     error_msgs.append(f'While copying the parameter named \"{key}\", '\n",
            "\u001b[0;31mKeyboardInterrupt\u001b[0m: "
          ]
        }
      ],
      "source": [
        "import torch\n",
        "from sentence_transformers import SentenceTransformer\n",
        "\n",
        "\n",
        "# Load the Stella model\n",
        "model = SentenceTransformer(\"dunzhang/stella_en_1.5B_v5\", trust_remote_code=True).cuda()\n",
        "\n",
        "# Set the model sequence length\n",
        "model.max_seq_length = 512  # Maximum sequence length supported by the model\n"
      ]
    },
    {
      "cell_type": "code",
      "execution_count": null,
      "metadata": {
        "id": "vzuuLQt9f-4t"
      },
      "outputs": [],
      "source": [
        "# Load your dataset\n",
        "import pandas as pd\n",
        "df = pd.read_csv(\"/content/drive/MyDrive/llm_outputs_ollama_with_time.csv\")\n",
        "\n",
        "# Add EOS token to each input and output\n",
        "def add_eos(text_list):\n",
        "    # print(model.tokenizer.eos_token)\n",
        "    # print(text_list)\n",
        "    return [str(text) + model.tokenizer.eos_token for text in text_list]\n",
        "\n",
        "df['xi_eos'] = add_eos(df['Input Prompt'].tolist())\n",
        "df['xj_eos'] = add_eos(df['LLM Output'].tolist())\n",
        "\n",
        "# Convert LLM labels into numerical codes\n",
        "df['label_encoded'] = pd.Categorical(df['Used LLM']).codes\n",
        "df"
      ]
    },
    {
      "cell_type": "code",
      "execution_count": null,
      "metadata": {
        "id": "l3Np99ZehqyT"
      },
      "outputs": [],
      "source": [
        "# Function to generate embeddings\n",
        "def generate_embeddings(texts, model, batch_size=64):\n",
        "    return model.encode(texts, batch_size=batch_size, normalize_embeddings=True)\n",
        "\n",
        "# Generate embeddings for input and output texts\n",
        "xi_embeddings = generate_embeddings(df['xi_eos'].tolist(), model)\n",
        "xj_embeddings = generate_embeddings(df['xj_eos'].tolist(), model)\n",
        "\n",
        "# Combine embeddings of xi and xj for each input-output pair\n",
        "combined_embeddings = [torch.cat((torch.tensor(xi), torch.tensor(xj))) for xi, xj in zip(xi_embeddings, xj_embeddings)]\n"
      ]
    },
    {
      "cell_type": "code",
      "source": [
        "# import pickle\n",
        "\n",
        "# # Save the combined embeddings to a file\n",
        "# with open('/content/drive/MyDrive/combined_embeddings.pkl', 'wb') as f:\n",
        "#     pickle.dump(combined_embeddings, f)\n",
        "\n",
        "# print(\"Combined embeddings saved successfully.\")\n"
      ],
      "metadata": {
        "id": "KRbT7RFr7o_m"
      },
      "execution_count": null,
      "outputs": []
    },
    {
      "cell_type": "code",
      "source": [
        "# # Load your dataset\n",
        "# import pandas as pd\n",
        "# df = pd.read_csv(\"/content/drive/MyDrive/llm_outputs_ollama_with_time.csv\")\n",
        "# df['label_encoded'] = pd.Categorical(df['Used LLM']).codes\n"
      ],
      "metadata": {
        "id": "UBHUq8RnEq0n"
      },
      "execution_count": 3,
      "outputs": []
    },
    {
      "cell_type": "code",
      "source": [
        "# from google.colab import drive\n",
        "# drive.mount('/content/drive')"
      ],
      "metadata": {
        "colab": {
          "base_uri": "https://localhost:8080/"
        },
        "id": "AUn2VrcNjfO1",
        "outputId": "156f8677-06bb-4cfa-dde6-8f88ca56b33e"
      },
      "execution_count": 2,
      "outputs": [
        {
          "output_type": "stream",
          "name": "stdout",
          "text": [
            "Mounted at /content/drive\n"
          ]
        }
      ]
    },
    {
      "cell_type": "code",
      "source": [
        "# import pickle\n",
        "\n",
        "# # Load the combined embeddings from the file\n",
        "# with open('/content/drive/MyDrive/combined_embeddings.pkl', 'rb') as f:\n",
        "#     combined_embeddings = pickle.load(f)"
      ],
      "metadata": {
        "id": "RAtzEGzoBe9z"
      },
      "execution_count": 4,
      "outputs": []
    },
    {
      "cell_type": "code",
      "source": [
        "class BERTClassifier(nn.Module):\n",
        "    def __init__(self, num_classes):\n",
        "        super(BERTClassifier, self).__init__()\n",
        "        self.bert = BertModel.from_pretrained('bert-base-uncased')\n",
        "        self.fc = nn.Linear(self.bert.config.hidden_size, num_classes)\n",
        "\n",
        "    def forward(self, input_ids, attention_mask):\n",
        "        outputs = self.bert(input_ids, attention_mask=attention_mask)\n",
        "        cls_output = outputs[1]  # CLS token's output\n",
        "        out = self.fc(cls_output)\n",
        "        return out\n"
      ],
      "metadata": {
        "id": "qY_uodD_IRcj"
      },
      "execution_count": 8,
      "outputs": []
    },
    {
      "cell_type": "code",
      "execution_count": 9,
      "metadata": {
        "id": "kt7ZDxcihtgI",
        "colab": {
          "base_uri": "https://localhost:8080/"
        },
        "outputId": "9c8c04bb-330d-4901-9293-0bcdff389876"
      },
      "outputs": [
        {
          "output_type": "execute_result",
          "data": {
            "text/plain": [
              "LLMClassifier(\n",
              "  (fc): Sequential(\n",
              "    (0): Linear(in_features=2048, out_features=256, bias=True)\n",
              "    (1): ReLU()\n",
              "    (2): Linear(in_features=256, out_features=6, bias=True)\n",
              "  )\n",
              ")"
            ]
          },
          "metadata": {},
          "execution_count": 9
        }
      ],
      "source": [
        "import torch.nn as nn\n",
        "import torch.optim as optim\n",
        "from torch.utils.data import Dataset, DataLoader\n",
        "\n",
        "# Define a dataset class\n",
        "class LLMClassifierDataset(Dataset):\n",
        "    def __init__(self, embeddings, labels):\n",
        "        self.embeddings = embeddings\n",
        "        self.labels = labels\n",
        "\n",
        "    def __len__(self):\n",
        "        return len(self.labels)\n",
        "\n",
        "    def __getitem__(self, idx):\n",
        "        return {\n",
        "            'embeddings': torch.tensor(self.embeddings[idx], dtype=torch.float32),\n",
        "            'labels': torch.tensor(self.labels[idx], dtype=torch.long)\n",
        "        }\n",
        "\n",
        "# Define the neural network model\n",
        "class LLMClassifier(nn.Module):\n",
        "    def __init__(self, input_size, num_classes):\n",
        "        super(LLMClassifier, self).__init__()\n",
        "        self.fc = nn.Sequential(\n",
        "            nn.Linear(input_size, 256),\n",
        "            nn.ReLU(),\n",
        "            nn.Linear(256, num_classes)\n",
        "        )\n",
        "\n",
        "    def forward(self, x):\n",
        "        return self.fc(x)\n",
        "\n",
        "# Prepare data\n",
        "from sklearn.model_selection import train_test_split\n",
        "\n",
        "# Split data into training and testing sets\n",
        "X_train, X_test, y_train, y_test = train_test_split(combined_embeddings, df['label_encoded'].tolist(), test_size=0.2, random_state=42)\n",
        "\n",
        "# Create dataset and dataloader\n",
        "train_dataset = LLMClassifierDataset(X_train, y_train)\n",
        "test_dataset = LLMClassifierDataset(X_test, y_test)\n",
        "\n",
        "train_loader = DataLoader(train_dataset, batch_size=16, shuffle=True)\n",
        "test_loader = DataLoader(test_dataset, batch_size=16)\n",
        "from transformers import BertTokenizer, BertModel, AdamW\n",
        "\n",
        "# Initialize the model, loss function, and optimizer\n",
        "# model_classifier = BERTClassifier(num_classes=len(df['label_encoded'].unique()))\n",
        "\n",
        "model_classifier = LLMClassifier(input_size=2048, num_classes=len(df['label_encoded'].unique()))  # Input size = 2048 (two 1024-dimensional embeddings concatenated)\n",
        "loss_fn = nn.CrossEntropyLoss()\n",
        "optimizer = optim.Adam(model_classifier.parameters(), lr=1e-4)\n",
        "\n",
        "# Move to GPU if available\n",
        "device = torch.device('cuda' if torch.cuda.is_available() else 'cpu')\n",
        "model_classifier.to(device)\n"
      ]
    },
    {
      "cell_type": "code",
      "source": [],
      "metadata": {
        "id": "gxUBtsZSI1vq"
      },
      "execution_count": null,
      "outputs": []
    },
    {
      "cell_type": "code",
      "execution_count": 10,
      "metadata": {
        "id": "ecZZ49oql2iJ",
        "colab": {
          "base_uri": "https://localhost:8080/"
        },
        "outputId": "9f5e7c69-918e-4d85-9986-4723ade4244f"
      },
      "outputs": [
        {
          "output_type": "stream",
          "name": "stderr",
          "text": [
            "<ipython-input-9-52699972c462>:16: UserWarning: To copy construct from a tensor, it is recommended to use sourceTensor.clone().detach() or sourceTensor.clone().detach().requires_grad_(True), rather than torch.tensor(sourceTensor).\n",
            "  'embeddings': torch.tensor(self.embeddings[idx], dtype=torch.float32),\n"
          ]
        },
        {
          "output_type": "stream",
          "name": "stdout",
          "text": [
            "Epoch 1, Loss: 0.965177235548695\n",
            "Epoch 2, Loss: 0.5925307305107514\n",
            "Epoch 3, Loss: 0.5066007704784473\n",
            "Epoch 4, Loss: 0.4629412461668253\n",
            "Epoch 5, Loss: 0.43606955774873496\n",
            "Epoch 6, Loss: 0.41653616448119285\n",
            "Epoch 7, Loss: 0.401500541780144\n",
            "Epoch 8, Loss: 0.389742914211005\n",
            "Epoch 9, Loss: 0.37983110349749527\n",
            "Epoch 10, Loss: 0.3707531965685387\n"
          ]
        }
      ],
      "source": [
        "# Training function\n",
        "def train(model, train_loader, optimizer, loss_fn, epochs=5+5):\n",
        "    model.train()\n",
        "    for epoch in range(epochs):\n",
        "        total_loss = 0\n",
        "        for batch in train_loader:\n",
        "            optimizer.zero_grad()\n",
        "\n",
        "            embeddings = batch['embeddings'].to(device)\n",
        "            labels = batch['labels'].to(device)\n",
        "\n",
        "            outputs = model(embeddings)\n",
        "            loss = loss_fn(outputs, labels)\n",
        "            total_loss += loss.item()\n",
        "\n",
        "            loss.backward()\n",
        "            optimizer.step()\n",
        "\n",
        "        print(f\"Epoch {epoch + 1}, Loss: {total_loss / len(train_loader)}\")\n",
        "\n",
        "# Train the model\n",
        "train(model_classifier, train_loader, optimizer, loss_fn)\n"
      ]
    },
    {
      "cell_type": "markdown",
      "source": [],
      "metadata": {
        "id": "sy3okzBck0b7"
      }
    },
    {
      "cell_type": "code",
      "source": [
        "# prompt: change this evaluate to return true_labels, pred_labels = evaluate(model, test_loader)\n",
        "\n",
        "def evaluate(model, test_loader):\n",
        "    model.eval()\n",
        "    true_labels = []\n",
        "    pred_labels = []\n",
        "    with torch.no_grad():\n",
        "        for batch in test_loader:\n",
        "            embeddings = batch['embeddings'].to(device)\n",
        "            labels = batch['labels'].to(device)\n",
        "\n",
        "            outputs = model(embeddings)\n",
        "            _, predicted = torch.max(outputs, 1)\n",
        "\n",
        "            true_labels.extend(labels.cpu().numpy().tolist())\n",
        "            pred_labels.extend(predicted.cpu().numpy().tolist())\n",
        "\n",
        "    return true_labels, pred_labels\n",
        "\n",
        "# Evaluate the model\n",
        "true_labels, pred_labels = evaluate(model_classifier, test_loader)\n",
        "\n",
        "# Calculate the accuracy\n",
        "accuracy = accuracy_score(true_labels, pred_labels)\n",
        "print(f\"Accuracy: {accuracy}\")\n"
      ],
      "metadata": {
        "colab": {
          "base_uri": "https://localhost:8080/"
        },
        "id": "kCTuAXvgk0tl",
        "outputId": "782bab97-28ff-4785-a228-1ce3791fa6ee"
      },
      "execution_count": 14,
      "outputs": [
        {
          "output_type": "stream",
          "name": "stderr",
          "text": [
            "<ipython-input-9-52699972c462>:16: UserWarning: To copy construct from a tensor, it is recommended to use sourceTensor.clone().detach() or sourceTensor.clone().detach().requires_grad_(True), rather than torch.tensor(sourceTensor).\n",
            "  'embeddings': torch.tensor(self.embeddings[idx], dtype=torch.float32),\n"
          ]
        },
        {
          "output_type": "stream",
          "name": "stdout",
          "text": [
            "Accuracy: 0.8469166666666667\n"
          ]
        }
      ]
    },
    {
      "cell_type": "code",
      "source": [
        "print(true_labels)  # Print true labels\n",
        "print(pred_labels)  # Print predicted labels"
      ],
      "metadata": {
        "colab": {
          "base_uri": "https://localhost:8080/"
        },
        "id": "OOI2P1Zmk8cJ",
        "outputId": "7476ce81-852f-4908-e0f0-90eb4fb301e8"
      },
      "execution_count": 15,
      "outputs": [
        {
          "output_type": "stream",
          "name": "stdout",
          "text": [
            "[5, 4, 0, 2, 2, 1, 3, 0, 1, 5, 4, 3, 5, 5, 3, 4, 3, 5, 0, 3, 1, 0, 5, 4, 1, 0, 1, 2, 3, 4, 0, 4, 0, 1, 3, 5, 2, 2, 1, 2, 2, 0, 4, 5, 5, 2, 0, 4, 4, 1, 1, 3, 3, 2, 2, 1, 1, 2, 0, 0, 1, 0, 0, 3, 5, 0, 1, 3, 4, 1, 3, 1, 0, 2, 5, 1, 5, 0, 3, 2, 1, 4, 5, 3, 3, 1, 2, 4, 2, 4, 5, 3, 4, 5, 1, 3, 1, 0, 5, 5, 3, 0, 1, 3, 5, 4, 3, 1, 3, 5, 4, 5, 5, 0, 4, 5, 4, 0, 2, 5, 0, 5, 2, 5, 0, 0, 2, 1, 3, 4, 0, 0, 4, 4, 2, 3, 2, 1, 2, 3, 3, 3, 5, 3, 4, 1, 3, 3, 3, 5, 4, 2, 4, 4, 0, 1, 5, 1, 0, 3, 1, 1, 1, 1, 4, 2, 1, 4, 1, 0, 2, 4, 0, 4, 5, 1, 0, 0, 5, 5, 1, 5, 0, 3, 4, 2, 4, 5, 4, 4, 1, 4, 3, 2, 3, 1, 4, 5, 1, 5, 3, 5, 2, 0, 1, 0, 1, 1, 2, 1, 4, 4, 3, 3, 4, 5, 0, 1, 0, 1, 3, 0, 5, 3, 2, 2, 0, 2, 4, 4, 4, 5, 1, 2, 3, 1, 5, 4, 2, 3, 1, 4, 2, 1, 5, 5, 3, 2, 0, 5, 1, 0, 4, 4, 5, 1, 2, 0, 4, 0, 5, 0, 5, 2, 2, 0, 4, 4, 4, 0, 3, 0, 1, 5, 1, 3, 0, 0, 5, 2, 0, 3, 0, 4, 5, 5, 5, 1, 1, 0, 0, 1, 1, 2, 5, 5, 1, 1, 2, 1, 1, 2, 3, 4, 3, 1, 0, 0, 1, 3, 5, 2, 5, 3, 0, 0, 3, 0, 4, 1, 4, 5, 0, 1, 2, 1, 5, 2, 1, 1, 5, 2, 2, 4, 2, 0, 5, 3, 4, 2, 5, 3, 2, 4, 1, 4, 2, 2, 3, 4, 4, 3, 5, 4, 2, 3, 0, 1, 0, 5, 5, 4, 1, 1, 3, 4, 3, 2, 2, 1, 4, 2, 5, 2, 5, 4, 0, 2, 3, 0, 0, 0, 2, 0, 4, 1, 5, 0, 2, 1, 2, 2, 5, 5, 5, 1, 5, 0, 0, 3, 2, 1, 2, 1, 1, 4, 0, 3, 5, 4, 0, 3, 4, 3, 0, 4, 2, 2, 3, 1, 0, 1, 0, 0, 0, 2, 2, 0, 1, 5, 5, 1, 5, 4, 1, 3, 4, 1, 3, 0, 3, 2, 2, 5, 0, 2, 3, 3, 4, 3, 4, 4, 3, 1, 4, 1, 1, 0, 2, 4, 5, 1, 4, 5, 3, 1, 4, 2, 4, 5, 5, 4, 3, 5, 5, 3, 5, 0, 5, 4, 0, 0, 5, 3, 1, 1, 3, 5, 4, 4, 0, 2, 5, 4, 3, 5, 0, 5, 4, 1, 0, 3, 4, 3, 5, 5, 2, 0, 2, 4, 3, 4, 4, 2, 1, 2, 3, 5, 5, 4, 4, 1, 0, 2, 0, 4, 3, 4, 3, 5, 0, 5, 3, 4, 2, 2, 4, 1, 2, 1, 5, 5, 2, 5, 5, 0, 1, 3, 5, 5, 2, 0, 1, 2, 3, 0, 5, 2, 1, 4, 3, 2, 5, 2, 1, 3, 0, 5, 2, 1, 5, 1, 4, 0, 1, 4, 1, 0, 0, 4, 4, 5, 3, 4, 3, 4, 1, 4, 2, 2, 0, 3, 4, 4, 1, 5, 0, 1, 1, 5, 3, 3, 1, 1, 5, 1, 2, 3, 3, 5, 4, 2, 2, 3, 5, 4, 3, 0, 0, 2, 4, 3, 2, 2, 5, 2, 5, 2, 4, 1, 4, 5, 1, 3, 0, 4, 3, 2, 2, 0, 5, 0, 4, 4, 1, 0, 1, 4, 1, 4, 3, 0, 3, 4, 5, 2, 3, 3, 0, 0, 1, 0, 3, 1, 5, 4, 4, 5, 3, 2, 1, 5, 2, 4, 3, 1, 4, 0, 2, 3, 2, 0, 3, 3, 3, 1, 3, 4, 5, 4, 3, 1, 5, 2, 0, 1, 5, 1, 3, 0, 4, 1, 3, 4, 1, 0, 2, 4, 0, 1, 5, 5, 2, 1, 0, 2, 3, 1, 1, 1, 5, 3, 1, 1, 4, 1, 3, 2, 3, 1, 3, 1, 1, 0, 4, 3, 1, 4, 3, 2, 5, 1, 2, 5, 2, 2, 5, 3, 2, 1, 0, 0, 0, 4, 3, 0, 2, 4, 1, 4, 4, 1, 4, 1, 1, 3, 1, 2, 3, 4, 5, 0, 1, 2, 4, 0, 5, 1, 1, 2, 3, 4, 4, 5, 4, 1, 3, 0, 3, 2, 0, 5, 0, 2, 1, 3, 1, 5, 1, 5, 0, 3, 1, 2, 4, 5, 4, 2, 0, 5, 5, 5, 3, 4, 4, 3, 0, 2, 0, 2, 4, 1, 4, 3, 2, 1, 2, 5, 4, 1, 1, 3, 2, 2, 2, 2, 4, 4, 2, 4, 3, 0, 4, 0, 1, 4, 0, 4, 4, 1, 1, 0, 3, 1, 2, 2, 2, 3, 3, 4, 5, 3, 1, 0, 2, 3, 5, 2, 1, 0, 2, 1, 4, 5, 0, 5, 2, 4, 3, 1, 4, 1, 4, 1, 5, 3, 2, 2, 1, 3, 4, 2, 0, 4, 0, 4, 1, 5, 5, 1, 1, 0, 2, 4, 1, 3, 0, 4, 4, 2, 0, 0, 0, 1, 1, 2, 1, 1, 1, 0, 5, 5, 1, 2, 1, 0, 0, 3, 3, 3, 3, 1, 4, 4, 4, 3, 2, 1, 5, 3, 4, 5, 0, 0, 3, 2, 2, 2, 2, 0, 2, 5, 5, 2, 4, 5, 3, 0, 0, 2, 4, 1, 5, 1, 2, 1, 3, 5, 2, 1, 1, 4, 5, 0, 3, 5, 1, 4, 1, 2, 4, 2, 4, 0, 0, 2, 5, 5, 5, 4, 5, 5, 0, 0, 1, 2, 2, 2, 3, 5, 4, 4, 1, 4, 1, 0, 1, 5, 4, 5, 4, 5, 2, 4, 4, 3, 2, 1, 2, 1, 4, 0, 2, 1, 3, 2, 5, 5, 3, 3, 0, 2, 4, 5, 3, 2, 1, 4, 3, 4, 4, 4, 4, 5, 3, 3, 0, 4, 3, 3, 1, 2, 0, 3, 1, 3, 5, 5, 1, 2, 5, 0, 5, 4, 5, 1, 0, 5, 1, 4, 4, 1, 2, 4, 0, 2, 1, 1, 4, 4, 1, 5, 3, 1, 2, 5, 1, 1, 3, 0, 5, 0, 0, 1, 5, 4, 5, 4, 2, 1, 3, 5, 0, 1, 2, 1, 1, 2, 2, 0, 3, 4, 2, 3, 3, 3, 3, 1, 0, 0, 1, 0, 1, 1, 1, 3, 0, 1, 3, 5, 4, 0, 1, 1, 3, 1, 3, 3, 5, 3, 3, 3, 1, 3, 3, 4, 4, 0, 4, 1, 5, 5, 1, 2, 5, 5, 2, 4, 5, 2, 3, 1, 0, 3, 5, 1, 1, 1, 3, 5, 4, 4, 4, 0, 3, 4, 0, 4, 4, 2, 0, 2, 0, 1, 5, 2, 1, 1, 1, 1, 1, 0, 2, 5, 0, 3, 5, 2, 2, 1, 1, 5, 1, 2, 3, 3, 1, 5, 2, 1, 4, 4, 2, 2, 2, 5, 3, 2, 2, 1, 0, 3, 3, 2, 2, 2, 1, 2, 1, 0, 3, 1, 2, 3, 1, 2, 0, 5, 4, 3, 1, 4, 1, 3, 5, 1, 5, 5, 4, 1, 2, 2, 2, 3, 2, 1, 2, 1, 5, 5, 0, 5, 4, 0, 1, 0, 2, 2, 4, 1, 2, 4, 1, 4, 3, 3, 2, 3, 2, 3, 3, 0, 5, 0, 0, 5, 2, 2, 1, 5, 0, 0, 4, 3, 4, 2, 3, 2, 0, 0, 5, 5, 1, 2, 1, 3, 1, 4, 0, 4, 1, 4, 5, 1, 5, 5, 0, 5, 3, 1, 1, 4, 5, 2, 2, 0, 5, 4, 0, 1, 3, 3, 2, 1, 0, 4, 1, 3, 5, 5, 1, 0, 5, 1, 2, 1, 3, 4, 2, 5, 5, 2, 2, 1, 3, 1, 5, 5, 1, 2, 1, 4, 0, 1, 3, 2, 4, 3, 3, 4, 3, 1, 4, 0, 3, 1, 2, 0, 4, 4, 2, 0, 3, 1, 1, 0, 5, 2, 3, 5, 3, 3, 0, 3, 1, 3, 1, 3, 0, 3, 1, 2, 1, 2, 1, 3, 3, 3, 3, 5, 2, 4, 3, 0, 2, 2, 3, 3, 3, 4, 2, 1, 2, 3, 1, 0, 5, 5, 1, 4, 4, 5, 3, 0, 3, 1, 5, 5, 3, 5, 5, 1, 4, 5, 5, 0, 0, 3, 5, 4, 1, 1, 2, 1, 3, 4, 2, 2, 4, 2, 5, 1, 1, 0, 0, 5, 2, 1, 0, 4, 3, 0, 5, 3, 1, 5, 5, 2, 2, 5, 1, 5, 3, 0, 1, 4, 3, 5, 2, 0, 4, 3, 2, 1, 4, 4, 4, 5, 2, 4, 3, 2, 1, 0, 0, 0, 0, 3, 0, 3, 0, 5, 5, 5, 1, 3, 4, 0, 0, 1, 2, 3, 4, 3, 2, 4, 2, 3, 1, 0, 2, 1, 3, 0, 3, 3, 5, 1, 4, 3, 1, 2, 4, 1, 3, 1, 4, 1, 2, 0, 2, 1, 5, 4, 4, 4, 3, 3, 0, 1, 1, 2, 3, 2, 5, 5, 1, 0, 3, 5, 5, 2, 3, 0, 4, 1, 2, 1, 4, 0, 5, 2, 3, 4, 1, 3, 2, 4, 2, 3, 0, 1, 4, 5, 0, 5, 4, 0, 3, 0, 4, 5, 1, 2, 2, 5, 5, 5, 4, 2, 0, 3, 0, 5, 1, 2, 5, 2, 2, 3, 4, 2, 2, 2, 1, 3, 2, 0, 0, 2, 0, 1, 4, 1, 5, 2, 2, 3, 0, 2, 4, 1, 0, 1, 3, 5, 0, 2, 4, 5, 5, 0, 4, 2, 3, 0, 4, 1, 4, 2, 2, 0, 1, 2, 4, 1, 5, 4, 2, 1, 5, 4, 0, 4, 5, 2, 5, 2, 0, 5, 1, 3, 5, 5, 0, 5, 3, 4, 0, 1, 2, 5, 4, 3, 4, 1, 0, 4, 0, 4, 0, 1, 3, 5, 4, 4, 5, 4, 1, 5, 3, 2, 4, 4, 3, 3, 2, 0, 2, 2, 2, 5, 3, 1, 2, 1, 4, 4, 0, 5, 1, 3, 4, 5, 3, 5, 3, 4, 0, 0, 5, 5, 3, 4, 1, 2, 2, 3, 4, 1, 3, 2, 1, 4, 1, 0, 4, 4, 4, 0, 3, 3, 1, 1, 4, 5, 4, 3, 4, 3, 3, 4, 2, 1, 2, 0, 0, 4, 5, 3, 1, 4, 1, 2, 5, 1, 1, 0, 4, 1, 4, 1, 4, 3, 1, 0, 2, 2, 5, 0, 3, 1, 3, 3, 0, 3, 3, 5, 3, 2, 4, 4, 2, 2, 5, 0, 5, 1, 5, 4, 0, 0, 3, 4, 2, 1, 3, 2, 2, 3, 1, 2, 0, 0, 0, 4, 3, 3, 5, 4, 0, 1, 5, 3, 5, 4, 3, 1, 3, 5, 0, 4, 5, 4, 3, 5, 1, 2, 5, 0, 0, 2, 2, 1, 5, 1, 0, 3, 0, 2, 4, 5, 1, 3, 3, 2, 4, 4, 4, 1, 5, 0, 3, 4, 3, 4, 0, 2, 1, 4, 1, 0, 0, 5, 3, 2, 0, 4, 0, 0, 3, 0, 4, 3, 0, 2, 3, 5, 1, 3, 3, 1, 0, 5, 4, 1, 3, 2, 5, 4, 4, 0, 2, 1, 0, 0, 0, 1, 2, 1, 3, 0, 1, 4, 2, 2, 5, 4, 0, 5, 4, 2, 1, 0, 0, 0, 2, 5, 4, 5, 4, 3, 0, 1, 1, 4, 0, 2, 0, 3, 3, 2, 1, 5, 3, 0, 4, 3, 4, 0, 4, 4, 2, 0, 0, 3, 4, 2, 0, 5, 1, 4, 2, 2, 0, 1, 5, 4, 2, 3, 2, 5, 0, 2, 5, 5, 1, 2, 1, 4, 0, 4, 2, 0, 3, 1, 1, 2, 0, 1, 4, 4, 4, 1, 0, 4, 0, 3, 2, 2, 0, 1, 4, 3, 0, 3, 0, 2, 2, 0, 4, 3, 0, 1, 2, 5, 3, 0, 1, 3, 0, 1, 3, 3, 3, 3, 3, 1, 5, 5, 3, 5, 2, 5, 5, 4, 5, 5, 3, 4, 5, 2, 2, 4, 4, 4, 1, 4, 1, 4, 5, 1, 0, 3, 2, 1, 0, 4, 3, 2, 5, 0, 5, 3, 2, 1, 2, 3, 1, 4, 5, 5, 2, 3, 2, 3, 0, 0, 3, 0, 3, 3, 2, 3, 3, 2, 5, 4, 4, 1, 5, 3, 4, 5, 5, 3, 1, 0, 1, 1, 3, 5, 4, 0, 3, 3, 4, 3, 3, 4, 0, 1, 3, 4, 1, 0, 5, 5, 3, 0, 4, 0, 4, 0, 0, 3, 4, 5, 4, 5, 0, 4, 3, 1, 5, 0, 1, 0, 3, 2, 2, 0, 0, 1, 0, 4, 3, 1, 2, 3, 4, 0, 3, 2, 5, 4, 3, 0, 2, 3, 5, 0, 4, 2, 5, 2, 5, 4, 0, 4, 3, 2, 2, 5, 0, 4, 5, 5, 3, 0, 1, 4, 0, 5, 3, 4, 2, 4, 5, 3, 2, 4, 0, 1, 5, 5, 1, 4, 5, 1, 5, 5, 2, 4, 4, 2, 5, 0, 1, 2, 4, 0, 5, 3, 0, 0, 2, 0, 0, 4, 0, 5, 4, 3, 5, 3, 3, 1, 1, 0, 4, 5, 2, 4, 3, 1, 1, 3, 5, 2, 4, 0, 0, 1, 4, 2, 3, 3, 5, 0, 5, 0, 3, 3, 5, 4, 3, 3, 2, 3, 3, 5, 3, 3, 1, 4, 2, 3, 3, 1, 4, 5, 0, 3, 4, 3, 2, 1, 4, 5, 4, 4, 1, 4, 5, 2, 2, 4, 3, 2, 2, 3, 3, 3, 2, 5, 3, 4, 0, 0, 4, 0, 4, 0, 1, 4, 1, 5, 1, 1, 2, 1, 4, 4, 2, 3, 4, 4, 4, 1, 3, 0, 4, 1, 4, 0, 5, 4, 4, 0, 4, 3, 5, 1, 0, 0, 5, 3, 3, 1, 4, 5, 5, 0, 0, 1, 5, 3, 4, 4, 3, 2, 3, 4, 0, 0, 1, 4, 4, 5, 3, 5, 0, 2, 0, 3, 2, 4, 1, 5, 1, 5, 3, 5, 3, 2, 1, 5, 1, 2, 3, 0, 3, 3, 3, 5, 1, 0, 3, 5, 2, 0, 1, 1, 5, 3, 2, 0, 1, 0, 1, 1, 0, 3, 2, 1, 2, 5, 1, 3, 3, 1, 4, 4, 5, 2, 4, 4, 3, 1, 2, 5, 3, 4, 0, 0, 3, 1, 0, 5, 1, 3, 5, 5, 5, 1, 3, 5, 5, 5, 3, 1, 5, 1, 3, 1, 0, 4, 4, 3, 5, 3, 5, 5, 2, 3, 2, 3, 4, 3, 1, 0, 3, 0, 1, 3, 0, 3, 2, 3, 2, 0, 5, 5, 2, 5, 5, 3, 3, 5, 5, 0, 3, 1, 0, 4, 4, 5, 3, 2, 0, 3, 3, 2, 0, 3, 5, 5, 2, 0, 1, 1, 2, 1, 2, 4, 3, 0, 2, 4, 2, 4, 2, 0, 3, 4, 3, 4, 1, 2, 2, 5, 3, 4, 5, 4, 1, 1, 3, 2, 3, 0, 3, 1, 5, 0, 3, 3, 1, 2, 3, 4, 1, 3, 3, 4, 2, 2, 5, 3, 4, 1, 0, 4, 4, 1, 4, 2, 4, 0, 2, 2, 1, 3, 0, 4, 1, 1, 3, 5, 5, 4, 4, 5, 2, 0, 5, 1, 2, 1, 1, 5, 2, 2, 2, 4, 4, 1, 5, 3, 0, 3, 4, 3, 1, 0, 3, 4, 4, 4, 3, 5, 5, 5, 0, 0, 4, 5, 3, 5, 3, 5, 4, 5, 0, 3, 3, 1, 1, 0, 1, 5, 3, 0, 2, 1, 2, 5, 3, 3, 0, 4, 5, 2, 1, 3, 0, 3, 0, 1, 2, 1, 4, 1, 2, 2, 4, 5, 0, 3, 3, 2, 1, 5, 1, 5, 0, 5, 2, 1, 1, 2, 1, 1, 2, 2, 5, 0, 4, 3, 4, 1, 0, 2, 1, 0, 0, 2, 0, 0, 5, 2, 2, 2, 5, 3, 2, 1, 5, 2, 1, 5, 0, 4, 3, 5, 2, 3, 1, 4, 0, 3, 0, 2, 4, 5, 2, 4, 3, 3, 5, 2, 1, 4, 0, 4, 0, 3, 0, 0, 1, 3, 1, 0, 3, 3, 2, 4, 3, 1, 3, 2, 5, 4, 1, 4, 5, 1, 0, 1, 5, 0, 5, 2, 5, 0, 3, 2, 0, 5, 1, 2, 2, 0, 2, 2, 2, 4, 1, 3, 3, 3, 3, 3, 4, 2, 2, 1, 2, 2, 3, 4, 0, 4, 0, 0, 2, 4, 3, 2, 0, 0, 1, 3, 1, 4, 4, 5, 5, 5, 2, 5, 2, 0, 1, 5, 3, 5, 4, 3, 0, 1, 5, 3, 3, 4, 4, 0, 1, 4, 4, 2, 2, 3, 2, 5, 4, 5, 0, 4, 4, 0, 4, 0, 4, 0, 3, 3, 2, 4, 5, 5, 5, 0, 4, 1, 2, 1, 1, 5, 1, 0, 0, 5, 5, 4, 0, 5, 5, 3, 1, 3, 0, 3, 3, 5, 1, 2, 4, 0, 2, 3, 3, 4, 3, 2, 2, 2, 4, 1, 5, 5, 0, 5, 3, 1, 4, 1, 0, 4, 4, 5, 3, 0, 1, 1, 2, 1, 0, 3, 4, 5, 0, 3, 5, 1, 2, 1, 2, 2, 5, 2, 5, 3, 3, 4, 3, 4, 3, 0, 2, 0, 4, 3, 2, 1, 4, 3, 1, 1, 2, 3, 2, 4, 3, 5, 3, 5, 5, 1, 4, 2, 2, 1, 2, 3, 4, 4, 2, 4, 5, 0, 3, 3, 0, 0, 0, 5, 3, 1, 2, 0, 3, 5, 1, 1, 5, 5, 2, 3, 0, 4, 0, 0, 4, 0, 1, 2, 4, 0, 5, 2, 5, 1, 0, 5, 3, 4, 2, 4, 3, 0, 2, 3, 5, 4, 2, 5, 2, 3, 5, 2, 1, 2, 1, 5, 2, 5, 3, 4, 0, 2, 4, 4, 5, 4, 4, 3, 4, 1, 3, 5, 4, 2, 2, 5, 2, 1, 3, 0, 4, 5, 3, 2, 0, 5, 1, 5, 2, 1, 0, 1, 0, 1, 4, 1, 0, 1, 1, 4, 5, 1, 4, 0, 1, 5, 2, 0, 3, 0, 2, 3, 2, 4, 3, 4, 4, 1, 4, 5, 0, 0, 1, 1, 5, 3, 0, 1, 1, 5, 3, 2, 3, 1, 4, 1, 5, 2, 1, 2, 1, 3, 0, 5, 3, 5, 4, 3, 5, 5, 1, 0, 4, 4, 0, 4, 0, 2, 4, 2, 2, 3, 0, 5, 1, 4, 1, 0, 1, 0, 4, 5, 2, 3, 2, 0, 1, 2, 5, 2, 2, 2, 5, 4, 5, 1, 0, 0, 5, 3, 2, 1, 3, 5, 0, 4, 5, 1, 2, 0, 0, 2, 2, 3, 0, 0, 2, 0, 0, 5, 5, 4, 2, 2, 1, 5, 3, 1, 0, 2, 2, 4, 2, 3, 2, 3, 2, 5, 5, 1, 4, 2, 2, 0, 5, 1, 1, 3, 4, 4, 1, 3, 5, 0, 3, 3, 4, 2, 2, 1, 5, 4, 5, 1, 3, 0, 0, 0, 3, 0, 3, 1, 1, 1, 1, 3, 1, 5, 2, 5, 4, 2, 4, 2, 1, 2, 4, 1, 5, 5, 4, 3, 1, 2, 0, 1, 1, 4, 5, 1, 3, 3, 3, 0, 4, 4, 2, 1, 0, 5, 3, 5, 4, 1, 0, 1, 2, 0, 0, 0, 4, 0, 5, 3, 4, 2, 5, 3, 4, 1, 3, 2, 2, 4, 4, 5, 0, 4, 4, 3, 5, 1, 4, 0, 5, 2, 1, 2, 2, 1, 2, 3, 2, 1, 1, 3, 5, 4, 4, 1, 2, 1, 2, 3, 5, 2, 0, 4, 1, 2, 4, 2, 2, 5, 2, 3, 2, 0, 5, 1, 0, 3, 3, 3, 5, 0, 4, 5, 1, 0, 3, 3, 4, 4, 4, 0, 5, 3, 2, 3, 3, 1, 5, 2, 0, 1, 1, 5, 2, 5, 5, 0, 1, 3, 2, 3, 3, 2, 1, 3, 5, 3, 3, 3, 3, 5, 0, 3, 0, 4, 1, 2, 4, 2, 0, 2, 3, 5, 3, 4, 2, 2, 5, 3, 5, 2, 1, 2, 0, 3, 1, 3, 3, 0, 1, 0, 3, 1, 1, 0, 2, 1, 3, 1, 5, 4, 0, 3, 4, 4, 1, 1, 2, 3, 1, 1, 1, 4, 4, 3, 2, 5, 3, 0, 3, 2, 2, 4, 4, 5, 4, 4, 4, 5, 0, 5, 4, 3, 3, 3, 5, 0, 1, 3, 5, 0, 4, 4, 2, 4, 5, 1, 4, 0, 0, 2, 4, 5, 4, 5, 2, 0, 0, 5, 3, 5, 5, 0, 3, 0, 5, 1, 5, 0, 3, 2, 3, 0, 2, 1, 0, 4, 4, 1, 2, 4, 0, 2, 2, 4, 4, 3, 0, 0, 4, 0, 3, 5, 0, 5, 3, 5, 4, 5, 2, 3, 1, 5, 4, 1, 2, 4, 3, 2, 0, 4, 0, 2, 0, 5, 3, 3, 5, 3, 1, 4, 4, 2, 0, 5, 5, 3, 4, 3, 3, 2, 2, 3, 5, 1, 5, 4, 3, 5, 4, 4, 3, 0, 1, 5, 5, 5, 5, 5, 0, 5, 4, 4, 4, 5, 3, 4, 0, 2, 4, 3, 3, 2, 2, 4, 2, 3, 4, 5, 2, 1, 2, 3, 5, 2, 1, 0, 4, 1, 4, 3, 4, 1, 0, 5, 0, 4, 1, 5, 3, 3, 4, 0, 4, 2, 3, 5, 2, 1, 2, 0, 4, 4, 1, 3, 4, 1, 0, 2, 2, 4, 2, 5, 0, 5, 2, 2, 5, 5, 1, 4, 3, 1, 5, 3, 0, 1, 0, 0, 4, 0, 4, 0, 4, 5, 3, 0, 5, 0, 1, 3, 0, 3, 3, 1, 0, 0, 4, 3, 1, 3, 2, 5, 4, 4, 2, 3, 5, 0, 3, 5, 4, 2, 2, 3, 0, 1, 4, 3, 3, 3, 0, 5, 5, 2, 1, 5, 4, 2, 3, 0, 4, 2, 1, 4, 0, 5, 2, 5, 1, 5, 0, 5, 1, 1, 5, 0, 3, 2, 4, 5, 4, 3, 3, 0, 3, 4, 1, 4, 5, 5, 5, 5, 4, 1, 3, 4, 0, 5, 0, 4, 0, 0, 1, 1, 4, 1, 1, 0, 2, 4, 2, 1, 3, 0, 1, 4, 1, 0, 0, 0, 2, 2, 4, 1, 3, 5, 5, 5, 4, 1, 0, 1, 4, 1, 2, 2, 2, 4, 0, 2, 2, 5, 2, 5, 5, 2, 3, 1, 2, 5, 2, 3, 5, 0, 3, 0, 1, 3, 5, 5, 4, 0, 5, 3, 0, 3, 5, 4, 2, 3, 1, 3, 4, 5, 3, 0, 4, 2, 4, 5, 2, 3, 5, 4, 0, 4, 1, 2, 1, 1, 1, 2, 4, 2, 2, 1, 2, 1, 1, 2, 1, 2, 1, 1, 1, 2, 1, 0, 0, 2, 4, 1, 5, 1, 3, 2, 3, 3, 5, 4, 2, 0, 0, 4, 5, 2, 3, 2, 0, 4, 5, 4, 3, 5, 5, 5, 0, 5, 5, 2, 1, 1, 2, 1, 5, 1, 0, 1, 5, 1, 5, 3, 0, 3, 0, 0, 1, 2, 4, 0, 3, 0, 5, 5, 2, 5, 0, 5, 5, 0, 0, 5, 5, 1, 2, 0, 4, 1, 2, 1, 5, 3, 4, 5, 1, 0, 2, 1, 2, 3, 5, 3, 2, 3, 5, 4, 0, 2, 1, 5, 5, 4, 3, 2, 3, 1, 4, 3, 0, 5, 4, 4, 2, 4, 0, 0, 4, 3, 4, 4, 1, 0, 3, 0, 0, 1, 1, 4, 1, 5, 1, 0, 4, 3, 3, 5, 1, 3, 2, 4, 2, 0, 0, 0, 2, 4, 2, 4, 1, 0, 1, 3, 2, 2, 1, 1, 2, 0, 0, 0, 0, 1, 4, 0, 1, 4, 1, 3, 2, 5, 2, 3, 5, 4, 4, 1, 2, 0, 3, 5, 2, 1, 1, 1, 3, 0, 2, 1, 0, 1, 5, 3, 3, 3, 5, 1, 2, 1, 3, 0, 5, 0, 2, 4, 1, 0, 4, 0, 5, 4, 2, 2, 0, 2, 2, 1, 1, 4, 2, 2, 2, 3, 0, 3, 2, 1, 1, 2, 5, 5, 5, 3, 0, 0, 0, 3, 1, 5, 1, 1, 5, 1, 1, 1, 0, 0, 2, 0, 4, 2, 0, 4, 5, 0, 3, 1, 0, 1, 1, 4, 3, 2, 5, 2, 2, 0, 4, 1, 0, 2, 2, 4, 5, 3, 5, 0, 4, 5, 3, 2, 4, 2, 0, 2, 3, 0, 5, 3, 0, 1, 0, 4, 3, 3, 2, 4, 1, 2, 0, 1, 3, 4, 4, 0, 3, 2, 4, 1, 2, 1, 2, 4, 5, 2, 4, 4, 1, 2, 3, 5, 5, 4, 4, 1, 4, 5, 0, 1, 5, 1, 3, 1, 4, 1, 4, 3, 4, 3, 4, 5, 0, 4, 5, 5, 5, 4, 4, 4, 4, 0, 0, 0, 0, 3, 1, 5, 1, 5, 2, 5, 2, 4, 2, 3, 0, 5, 5, 5, 2, 4, 2, 0, 0, 0, 5, 1, 4, 4, 1, 4, 0, 0, 5, 3, 4, 1, 5, 4, 3, 3, 1, 5, 5, 1, 4, 2, 3, 3, 2, 5, 5, 5, 0, 1, 3, 5, 1, 0, 5, 4, 3, 0, 2, 2, 5, 1, 5, 5, 1, 2, 0, 1, 2, 2, 5, 5, 2, 2, 0, 4, 0, 2, 3, 0, 3, 5, 3, 1, 1, 2, 4, 2, 2, 3, 1, 3, 1, 2, 5, 3, 1, 1, 1, 3, 2, 4, 1, 2, 0, 4, 2, 3, 1, 5, 1, 4, 4, 1, 1, 2, 1, 2, 3, 0, 2, 1, 2, 4, 3, 4, 3, 1, 5, 1, 2, 3, 3, 5, 0, 3, 0, 3, 1, 1, 3, 2, 0, 0, 4, 1, 2, 5, 5, 4, 4, 0, 2, 1, 0, 5, 1, 4, 5, 1, 4, 4, 0, 3, 4, 3, 4, 3, 5, 0, 3, 3, 3, 2, 0, 5, 5, 3, 1, 5, 0, 0, 5, 1, 4, 4, 0, 5, 1, 5, 1, 3, 5, 1, 1, 5, 5, 1, 1, 1, 5, 2, 4, 3, 0, 1, 5, 1, 3, 5, 0, 3, 0, 5, 1, 3, 3, 4, 4, 5, 2, 3, 1, 1, 0, 3, 2, 0, 5, 0, 4, 4, 4, 3, 2, 5, 4, 1, 3, 3, 0, 3, 4, 5, 0, 1, 3, 2, 2, 1, 1, 5, 1, 3, 3, 5, 3, 5, 0, 1, 4, 5, 2, 2, 4, 5, 1, 2, 2, 1, 3, 0, 3, 2, 2, 3, 2, 4, 2, 2, 5, 1, 4, 5, 2, 5, 4, 5, 3, 3, 3, 0, 1, 5, 2, 5, 5, 0, 1, 0, 5, 2, 0, 5, 2, 2, 5, 2, 4, 3, 1, 5, 4, 4, 1, 4, 1, 0, 2, 3, 4, 0, 5, 3, 3, 1, 3, 1, 4, 0, 0, 2, 3, 5, 0, 5, 1, 0, 2, 2, 0, 5, 3, 1, 1, 2, 2, 5, 1, 4, 2, 2, 5, 3, 3, 2, 1, 3, 0, 2, 0, 2, 4, 4, 2, 1, 4, 0, 5, 4, 2, 3, 5, 3, 2, 3, 4, 5, 1, 2, 4, 2, 0, 5, 2, 0, 3, 3, 1, 0, 4, 1, 1, 4, 2, 2, 1, 0, 3, 0, 0, 1, 0, 0, 1, 4, 3, 4, 3, 2, 4, 5, 1, 2, 4, 2, 2, 4, 2, 5, 0, 3, 3, 4, 4, 3, 5, 0, 0, 3, 4, 5, 2, 0, 1, 2, 2, 4, 4, 3, 5, 4, 2, 5, 3, 2, 3, 3, 4, 1, 0, 5, 1, 2, 3, 5, 5, 4, 3, 1, 1, 2, 5, 4, 2, 2, 0, 0, 4, 5, 0, 4, 5, 5, 3, 0, 3, 4, 2, 0, 4, 4, 4, 2, 4, 3, 0, 3, 3, 4, 0, 2, 2, 1, 4, 1, 2, 5, 1, 2, 2, 5, 1, 1, 4, 4, 3, 3, 0, 1, 0, 2, 4, 3, 0, 0, 2, 2, 3, 0, 5, 2, 0, 4, 3, 4, 4, 4, 4, 2, 1, 3, 0, 4, 5, 1, 1, 5, 2, 0, 5, 3, 1, 5, 0, 0, 3, 1, 3, 4, 5, 4, 5, 0, 0, 0, 5, 4, 4, 0, 3, 2, 5, 0, 2, 1, 2, 2, 2, 1, 1, 1, 0, 0, 2, 4, 0, 3, 3, 5, 3, 2, 0, 2, 1, 1, 4, 3, 3, 1, 2, 0, 4, 2, 3, 4, 5, 1, 2, 4, 0, 1, 4, 5, 1, 1, 0, 3, 3, 3, 1, 4, 1, 0, 2, 3, 0, 3, 4, 2, 3, 3, 0, 3, 2, 3, 3, 4, 5, 3, 1, 4, 3, 3, 2, 4, 5, 1, 2, 0, 3, 2, 4, 3, 4, 2, 4, 3, 4, 2, 3, 0, 5, 0, 0, 0, 1, 1, 3, 2, 3, 4, 0, 5, 5, 2, 0, 0, 5, 3, 4, 0, 4, 3, 1, 1, 1, 0, 0, 2, 3, 1, 2, 3, 5, 4, 0, 0, 2, 4, 3, 3, 0, 3, 3, 3, 2, 2, 3, 5, 5, 1, 5, 0, 0, 2, 0, 3, 5, 5, 3, 5, 4, 2, 5, 2, 2, 2, 2, 2, 0, 1, 2, 5, 4, 4, 2, 2, 2, 0, 1, 4, 5, 3, 3, 4, 3, 3, 5, 1, 3, 1, 3, 4, 2, 2, 4, 2, 0, 4, 4, 1, 3, 3, 2, 4, 4, 1, 5, 4, 5, 1, 2, 3, 2, 0, 2, 0, 1, 2, 5, 0, 4, 1, 3, 1, 3, 0, 3, 1, 2, 5, 5, 4, 0, 2, 4, 1, 0, 0, 2, 0, 4, 0, 5, 5, 2, 5, 0, 5, 2, 4, 5, 2, 5, 3, 3, 1, 4, 0, 5, 5, 0, 1, 0, 0, 3, 2, 1, 4, 1, 5, 2, 5, 2, 5, 2, 0, 5, 4, 1, 0, 2, 3, 0, 4, 5, 2, 5, 4, 2, 5, 4, 5, 3, 4, 5, 4, 5, 4, 3, 3, 5, 2, 1, 0, 0, 1, 2, 5, 5, 2, 1, 1, 1, 5, 4, 1, 2, 5, 0, 4, 3, 3, 3, 3, 5, 5, 4, 2, 2, 4, 2, 1, 4, 5, 5, 2, 0, 4, 0, 1, 1, 3, 4, 1, 0, 3, 5, 5, 1, 1, 2, 2, 4, 3, 3, 4, 3, 5, 5, 1, 0, 3, 3, 2, 1, 0, 1, 2, 0, 4, 0, 0, 5, 2, 1, 1, 2, 0, 3, 2, 4, 4, 0, 0, 5, 3, 0, 3, 2, 0, 0, 5, 1, 2, 0, 5, 3, 0, 2, 4, 5, 5, 0, 2, 0, 0, 1, 1, 1, 3, 2, 1, 2, 0, 3, 2, 3, 1, 2, 0, 1, 0, 3, 3, 0, 3, 5, 4, 1, 1, 5, 1, 1, 5, 1, 1, 5, 2, 0, 5, 4, 3, 2, 3, 4, 2, 0, 5, 5, 4, 2, 2, 1, 1, 5, 5, 3, 3, 5, 4, 0, 5, 3, 5, 3, 5, 1, 1, 4, 4, 2, 4, 4, 5, 1, 3, 4, 1, 5, 1, 1, 4, 3, 2, 2, 2, 2, 3, 2, 2, 3, 0, 5, 4, 1, 4, 5, 3, 1, 4, 3, 5, 0, 5, 1, 4, 4, 4, 4, 0, 2, 5, 0, 0, 0, 1, 0, 2, 4, 1, 5, 0, 2, 5, 3, 5, 1, 2, 3, 4, 0, 1, 5, 5, 3, 0, 3, 1, 3, 4, 5, 3, 1, 3, 1, 4, 2, 0, 3, 4, 2, 4, 0, 4, 1, 5, 3, 4, 0, 5, 3, 5, 4, 1, 0, 0, 3, 4, 1, 5, 5, 5, 0, 2, 5, 0, 4, 1, 0, 3, 4, 5, 4, 1, 2, 4, 0, 1, 3, 2, 4, 3, 0, 5, 0, 2, 0, 1, 2, 4, 0, 4, 1, 0, 0, 3, 4, 2, 0, 2, 1, 1, 0, 4, 4, 4, 1, 3, 0, 0, 1, 5, 0, 1, 1, 3, 2, 0, 4, 0, 5, 4, 3, 2, 3, 5, 0, 2, 2, 5, 0, 1, 5, 3, 0, 4, 1, 2, 1, 2, 2, 2, 4, 4, 0, 2, 3, 0, 2, 2, 4, 0, 0, 1, 1, 5, 1, 1, 5, 4, 3, 5, 3, 0, 5, 4, 3, 4, 3, 3, 4, 2, 4, 2, 5, 4, 3, 5, 2, 4, 5, 4, 2, 1, 1, 1, 3, 1, 4, 5, 3, 5, 4, 4, 0, 4, 2, 4, 2, 3, 0, 4, 1, 3, 1, 4, 5, 1, 2, 4, 0, 4, 4, 2, 4, 2, 3, 0, 0, 3, 2, 1, 1, 3, 2, 3, 1, 0, 1, 2, 4, 1, 3, 3, 0, 0, 0, 1, 0, 3, 3, 3, 3, 1, 5, 5, 4, 4, 4, 4, 2, 2, 4, 1, 0, 3, 3, 5, 2, 2, 4, 1, 2, 1, 1, 5, 1, 2, 1, 0, 0, 1, 4, 4, 4, 0, 5, 4, 1, 2, 3, 1, 1, 1, 2, 0, 3, 2, 4, 2, 3, 3, 1, 4, 3, 1, 2, 5, 3, 3, 5, 3, 1, 5, 3, 5, 2, 0, 5, 1, 3, 4, 4, 3, 2, 1, 2, 4, 1, 2, 1, 5, 2, 2, 5, 3, 4, 1, 2, 5, 5, 1, 4, 0, 5, 2, 0, 4, 4, 2, 3, 5, 2, 2, 3, 5, 2, 0, 5, 2, 2, 4, 0, 5, 5, 0, 5, 3, 3, 0, 3, 3, 1, 4, 4, 2, 4, 1, 5, 3, 4, 5, 5, 3, 2, 0, 5, 3, 4, 5, 2, 5, 4, 3, 4, 5, 3, 3, 2, 0, 3, 0, 2, 1, 0, 4, 3, 1, 1, 4, 5, 1, 4, 5, 3, 5, 2, 3, 1, 0, 5, 1, 0, 1, 5, 4, 4, 5, 1, 5, 4, 0, 0, 4, 3, 3, 5, 4, 1, 1, 2, 3, 0, 1, 1, 1, 0, 3, 2, 1, 4, 2, 5, 2, 1, 2, 4, 0, 3, 2, 2, 4, 4, 1, 0, 1, 4, 0, 5, 3, 4, 5, 0, 4, 0, 1, 1, 0, 1, 0, 4, 2, 2, 0, 5, 4, 4, 1, 1, 3, 3, 0, 2, 1, 1, 2, 5, 4, 5, 4, 4, 3, 1, 5, 1, 1, 0, 2, 4, 2, 4, 0, 4, 4, 4, 0, 1, 1, 4, 0, 5, 4, 4, 3, 0, 2, 3, 1, 3, 3, 4, 4, 4, 2, 5, 1, 5, 2, 1, 3, 3, 2, 5, 1, 2, 5, 2, 2, 0, 0, 4, 4, 1, 2, 0, 1, 4, 1, 5, 2, 3, 5, 0, 3, 5, 4, 4, 4, 4, 4, 4, 2, 4, 5, 1, 4, 5, 3, 5, 0, 2, 4, 5, 5, 3, 0, 5, 2, 3, 0, 3, 1, 4, 1, 1, 1, 4, 1, 3, 0, 0, 5, 1, 1, 2, 5, 5, 5, 2, 2, 3, 5, 1, 0, 2, 4, 2, 0, 0, 2, 1, 2, 1, 2, 2, 4, 0, 3, 5, 2, 4, 0, 5, 0, 2, 1, 5, 3, 1, 3, 3, 1, 5, 2, 2, 2, 0, 1, 4, 0, 1, 1, 4, 0, 2, 0, 2, 5, 3, 4, 3, 3, 4, 0, 1, 5, 1, 3, 0, 5, 0, 2, 3, 2, 5, 1, 3, 5, 0, 0, 4, 0, 2, 0, 2, 1, 3, 0, 2, 2, 2, 0, 1, 2, 0, 1, 0, 4, 4, 5, 4, 2, 2, 4, 4, 5, 5, 0, 2, 4, 2, 3, 1, 5, 5, 1, 0, 0, 0, 0, 5, 0, 0, 3, 0, 5, 4, 5, 0, 2, 2, 1, 3, 2, 2, 3, 5, 2, 1, 1, 3, 1, 1, 5, 0, 3, 3, 1, 5, 0, 3, 0, 2, 3, 5, 1, 0, 2, 5, 4, 0, 4, 2, 2, 5, 3, 2, 0, 5, 5, 4, 4, 4, 2, 0, 0, 4, 3, 2, 5, 5, 4, 5, 2, 3, 4, 0, 5, 3, 2, 0, 4, 1, 3, 5, 2, 5, 1, 2, 2, 1, 1, 0, 4, 0, 2, 0, 4, 1, 2, 1, 3, 0, 5, 0, 5, 0, 2, 3, 4, 4, 2, 0, 0, 5, 2, 4, 4, 5, 5, 5, 5, 1, 0, 4, 5, 1, 1, 5, 0, 0, 2, 4, 0, 4, 4, 2, 3, 0, 5, 1, 2, 3, 3, 3, 3, 3, 2, 2, 0, 2, 5, 2, 3, 2, 1, 4, 2, 3, 0, 3, 2, 2, 2, 0, 5, 0, 5, 3, 1, 5, 3, 3, 1, 3, 2, 4, 0, 3, 1, 3, 2, 1, 0, 1, 1, 1, 2, 1, 5, 3, 2, 1, 2, 3, 3, 2, 1, 1, 5, 5, 0, 3, 4, 5, 2, 2, 0, 0, 4, 3, 5, 5, 5, 2, 3, 1, 5, 2, 0, 3, 3, 3, 4, 3, 0, 0, 4, 4, 2, 3, 0, 2, 4, 2, 3, 1, 5, 5, 1, 1, 4, 3, 5, 5, 5, 0, 4, 1, 3, 4, 0, 1, 3, 3, 3, 1, 1, 2, 4, 3, 2, 1, 2, 3, 1, 3, 5, 4, 0, 5, 5, 4, 3, 5, 1, 5, 1, 0, 4, 3, 1, 5, 2, 2, 3, 3, 1, 2, 1, 4, 5, 0, 2, 0, 3, 0, 1, 5, 3, 5, 4, 3, 1, 0, 2, 5, 3, 4, 2, 0, 0, 2, 2, 3, 2, 3, 2, 4, 1, 0, 1, 3, 3, 1, 4, 3, 4, 3, 3, 2, 1, 2, 4, 5, 2, 1, 3, 3, 4, 3, 5, 3, 2, 1, 1, 4, 0, 0, 5, 0, 5, 5, 3, 3, 1, 0, 0, 2, 3, 4, 3, 3, 1, 1, 3, 3, 2, 2, 2, 3, 1, 1, 2, 5, 5, 1, 3, 1, 3, 4, 3, 3, 1, 5, 3, 4, 4, 1, 3, 0, 1, 2, 5, 3, 5, 4, 5, 1, 5, 2, 5, 4, 0, 2, 3, 5, 2, 3, 3, 4, 2, 4, 4, 1, 1, 2, 1, 2, 5, 0, 1, 0, 0, 4, 3, 3, 1, 4, 2, 2, 1, 3, 3, 0, 5, 1, 3, 4, 4, 5, 5, 0, 3, 5, 3, 0, 4, 3, 5, 4, 2, 1, 3, 0, 4, 3, 4, 3, 2, 2, 4, 3, 4, 3, 1, 0, 2, 2, 0, 5, 5, 5, 1, 2, 4, 4, 0, 5, 2, 0, 3, 2, 1, 1, 1, 4, 3, 4, 0, 5, 0, 3, 3, 4, 4, 4, 3, 4, 1, 3, 0, 4, 1, 4, 1, 0, 0, 3, 4, 2, 4, 4, 4, 4, 2, 2, 0, 2, 4, 1, 0, 0, 4, 0, 0, 2, 5, 3, 2, 4, 5, 5, 5, 5, 0, 5, 1, 3, 2, 3, 1, 3, 2, 2, 0, 2, 2, 4, 2, 2, 4, 1, 4, 4, 5, 1, 3, 3, 3, 0, 2, 0, 3, 2, 5, 2, 2, 0, 2, 5, 1, 2, 1, 2, 3, 4, 5, 1, 5, 0, 3, 4, 5, 1, 5, 5, 5, 2, 2, 0, 3, 0, 1, 5, 0, 5, 0, 2, 2, 1, 4, 5, 5, 0, 0, 5, 4, 4, 2, 0, 2, 1, 1, 0, 3, 3, 0, 0, 1, 1, 2, 2, 1, 4, 2, 1, 3, 5, 0, 1, 4, 4, 5, 2, 0, 5, 5, 3, 3, 1, 2, 3, 0, 2, 5, 0, 5, 2, 1, 3, 3, 1, 5, 4, 4, 1, 1, 5, 4, 5, 3, 2, 4, 4, 5, 2, 2, 1, 4, 0, 2, 5, 1, 0, 3, 3, 1, 2, 1, 5, 2, 4, 4, 5, 2, 5, 3, 3, 1, 2, 3, 3, 1, 5, 0, 5, 5, 3, 3, 5, 0, 5, 4, 0, 1, 2, 1, 2, 0, 1, 5, 3, 2, 1, 0, 3, 0, 0, 2, 1, 5, 1, 4, 5, 1, 3, 4, 3, 5, 0, 3, 1, 2, 2, 0, 4, 5, 0, 5, 0, 4, 1, 1, 2, 1, 2, 1, 2, 2, 5, 1, 3, 4, 1, 0, 2, 3, 0, 4, 0, 1, 2, 1, 5, 3, 5, 2, 3, 5, 4, 0, 4, 2, 0, 1, 3, 5, 4, 4, 4, 3, 0, 4, 4, 0, 1, 5, 0, 5, 4, 5, 1, 1, 5, 3, 4, 1, 5, 5, 4, 3, 0, 0, 3, 4, 3, 3, 3, 1, 3, 3, 2, 4, 2, 4, 1, 0, 4, 3, 5, 2, 5, 4, 2, 4, 1, 5, 3, 5, 5, 2, 3, 5, 1, 5, 3, 2, 4, 4, 2, 1, 4, 3, 4, 3, 2, 3, 0, 2, 3, 0, 1, 1, 2, 0, 4, 2, 3, 0, 2, 2, 1, 0, 1, 3, 1, 5, 3, 3, 2, 1, 1, 5, 1, 4, 4, 2, 1, 1, 0, 5, 1, 1, 2, 5, 2, 3, 3, 4, 4, 4, 5, 0, 0, 4, 1, 5, 3, 0, 2, 3, 4, 4, 4, 5, 4, 3, 1, 4, 1, 3, 4, 5, 4, 5, 4, 0, 3, 4, 0, 2, 3, 4, 3, 4, 0, 2, 1, 0, 0, 3, 5, 3, 3, 3, 3, 1, 4, 3, 0, 5, 0, 4, 1, 5, 1, 3, 4, 1, 1, 5, 5, 0, 3, 1, 4, 5, 2, 4, 4, 5, 3, 4, 0, 2, 0, 2, 2, 1, 3, 2, 5, 3, 3, 3, 2, 2, 5, 3, 1, 0, 2, 0, 5, 3, 2, 3, 3, 1, 2, 3, 4, 4, 1, 4, 1, 4, 3, 0, 2, 2, 1, 0, 5, 2, 0, 2, 4, 3, 1, 1, 5, 0, 3, 2, 1, 5, 4, 5, 0, 1, 3, 0, 1, 1, 0, 4, 2, 2, 3, 0, 3, 2, 3, 2, 4, 0, 1, 5, 4, 4, 5, 0, 4, 1, 4, 5, 1, 5, 5, 5, 1, 1, 2, 2, 5, 1, 3, 4, 0, 5, 3, 3, 3, 0, 0, 5, 3, 2, 0, 3, 1, 5, 0, 1, 4, 2, 2, 0, 4, 4, 5, 3, 5, 4, 5, 2, 5, 0, 3, 4, 1, 2, 2, 0, 2, 1, 2, 3, 2, 3, 3, 4, 5, 5, 3, 4, 5, 1, 1, 5, 0, 3, 2, 4, 4, 2, 5, 3, 5, 2, 1, 3, 2, 4, 3, 5, 5, 2, 2, 2, 3, 2, 4, 4, 1, 3, 0, 2, 4, 2, 1, 3, 2, 2, 1, 1, 2, 5, 5, 1, 2, 4, 3, 5, 3, 0, 0, 1, 3, 4, 2, 4, 4, 2, 3, 4, 1, 5, 4, 0, 2, 2, 5, 5, 5, 2, 1, 2, 3, 0, 5, 5, 5, 5, 1, 2, 4, 0, 2, 0, 1, 3, 5, 2, 3, 3, 3, 5, 3, 2, 4, 1, 3, 2, 0, 2, 0, 0, 2, 3, 1, 2, 3, 1, 1, 4, 3, 5, 5, 3, 1, 0, 4, 3, 4, 1, 3, 4, 0, 4, 2, 4, 2, 0, 1, 0, 3, 2, 4, 5, 3, 0, 2, 1, 3, 1, 2, 1, 1, 1, 3, 4, 5, 2, 5, 5, 1, 2, 2, 0, 4, 4, 4, 3, 0, 4, 5, 3, 3, 5, 2, 3, 3, 0, 2, 5, 2, 5, 3, 1, 5, 4, 2, 3, 3, 5, 0, 4, 3, 1, 3, 2, 4, 4, 0, 5, 3, 5, 0, 3, 4, 4, 2, 1, 2, 4, 3, 5, 2, 3, 2, 1, 4, 1, 2, 1, 4, 3, 3, 1, 0, 1, 3, 3, 5, 2, 0, 0, 1, 2, 0, 2, 0, 2, 3, 0, 4, 5, 5, 5, 2, 0, 2, 3, 5, 3, 3, 4, 5, 5, 4, 3, 3, 1, 1, 1, 1, 1, 2, 2, 5, 0, 3, 3, 0, 3, 2, 5, 3, 1, 3, 0, 3, 1, 3, 5, 4, 4, 5, 0, 1, 5, 0, 0, 2, 3, 5, 2, 0, 2, 5, 2, 4, 1, 4, 1, 2, 0, 5, 3, 3, 3, 3, 1, 4, 3, 3, 2, 1, 2, 0, 4, 2, 0, 2, 4, 0, 5, 4, 5, 0, 3, 2, 3, 3, 5, 0, 5, 2, 4, 4, 1, 1, 3, 2, 3, 4, 5, 2, 1, 1, 0, 4, 1, 3, 2, 5, 4, 2, 2, 2, 4, 5, 2, 0, 1, 4, 4, 0, 1, 0, 5, 2, 3, 5, 0, 4, 5, 3, 1, 0, 0, 5, 1, 4, 2, 5, 3, 2, 5, 2, 4, 1, 1, 5, 0, 1, 2, 2, 0, 2, 5, 2, 1, 4, 1, 1, 2, 5, 0, 4, 0, 4, 5, 4, 1, 1, 3, 0, 0, 1, 3, 1, 1, 2, 4, 4, 3, 5, 2, 3, 3, 3, 3, 5, 2, 1, 2, 5, 2, 4, 0, 0, 5, 0, 0, 1, 1, 1, 0, 3, 0, 5, 3, 2, 0, 3, 3, 1, 1, 3, 2, 0, 4, 2, 3, 5, 2, 4, 5, 4, 5, 2, 1, 2, 4, 3, 5, 4, 3, 3, 0, 0, 2, 5, 3, 2, 4, 1, 4, 5, 4, 5, 3, 1, 4, 5, 5, 3, 4, 4, 4, 5, 0, 1, 2, 5, 2, 0, 2, 1, 2, 1, 5, 3, 1, 4, 0, 0, 2, 4, 1, 5, 1, 5, 5, 3, 0, 2, 1, 4, 0, 4, 1, 4, 1, 2, 4, 1, 0, 0, 2, 3, 0, 0, 0, 5, 1, 2, 5, 4, 4, 3, 5, 3, 0, 1, 0, 1, 0, 0, 0, 0, 5, 0, 1, 0, 0, 4, 2, 1, 5, 1, 5, 3, 3, 5, 0, 2, 0, 3, 1, 5, 0, 1, 4, 1, 0, 3, 4, 1, 2, 4, 1, 1, 1, 2, 3, 3, 0, 3, 1, 3, 0, 2, 4, 3, 4, 0, 5, 0, 1, 3, 3, 4, 0, 2, 4, 3, 1, 2, 4, 2, 0, 0, 4, 1, 3, 0, 0, 5, 1, 5, 0, 2, 5, 1, 4, 5, 2, 0, 2, 3, 4, 5, 0, 4, 4, 5, 5, 4, 5, 1, 3, 1, 2, 0, 2, 5, 4, 2, 0, 0, 0, 2, 5, 2, 0, 5, 1, 3, 4, 1, 5, 4, 1, 2, 1, 0, 1, 2, 2, 1, 2, 3, 3, 0, 3, 3, 4, 3, 0, 2, 3, 3, 5, 2, 3, 4, 5, 3, 5, 3, 2, 3, 0, 4, 0, 2, 0, 4, 2, 1, 4, 5, 4, 3, 3, 0, 0, 2, 0, 3, 3, 3, 0, 2, 2, 2, 2, 5, 2, 5, 5, 2, 2, 5, 4, 0, 5, 4, 4, 0, 5, 0, 4, 5, 2, 0, 4, 0, 1, 1, 3, 1, 4, 1, 3, 4, 0, 0, 2, 5, 4, 5, 2, 1, 2, 1, 0, 0, 4, 2, 1, 2, 0, 1, 0, 4, 2, 2, 1, 5, 5, 0, 2, 3, 3, 0, 4, 0, 4, 5, 1, 1, 0, 2, 0, 5, 0, 4, 2, 2, 2, 4, 0, 2, 3, 2, 0, 1, 3, 0, 4, 4, 4, 5, 0, 3, 2, 2, 2, 4, 1, 2, 4, 0, 4, 2, 1, 1, 0, 4, 5, 0, 1, 0, 0, 2, 5, 1, 2, 2, 0, 0, 1, 2, 1, 4, 2, 4, 5, 1, 1, 1, 0, 0, 1, 1, 4, 0, 4, 4, 2, 4, 3, 5, 3, 4, 0, 5, 1, 5, 3, 4, 0, 2, 0, 4, 5, 1, 1, 1, 4, 4, 0, 3, 1, 1, 4, 5, 3, 4, 5, 3, 3, 0, 5, 5, 3, 3, 2, 1, 2, 1, 3, 0, 0, 4, 1, 5, 5, 1, 2, 4, 2, 4, 0, 2, 1, 0, 3, 4, 2, 5, 2, 4, 1, 5, 0, 4, 3, 2, 4, 1, 2, 2, 4, 3, 1, 5, 2, 5, 1, 1, 4, 2, 2, 4, 0, 3, 5, 3, 1, 5, 2, 0, 1, 0, 4, 5, 0, 2, 5, 5, 4, 5, 2, 1, 1, 5, 0, 3, 5, 2, 2, 5, 0, 4, 5, 5, 5, 3, 1, 1, 0, 4, 5, 4, 0, 3, 0, 2, 2, 0, 0, 1, 2, 4, 5, 1, 2, 2, 2, 5, 1, 2, 2, 3, 5, 5, 2, 3, 2, 2, 5, 0, 0, 4, 2, 4, 0, 1, 0, 3, 5, 5, 0, 1, 5, 3, 0, 4, 3, 3, 5, 0, 0, 1, 0, 5, 2, 1, 2, 3, 3, 5, 2, 2, 1, 2, 4, 5, 4, 1, 1, 1, 3, 0, 2, 2, 3, 3, 3, 2, 2, 0, 0, 4, 3, 1, 3, 5, 0, 4, 3, 1, 3, 3, 2, 1, 0, 5, 4, 3, 1, 3, 1, 3, 1, 3, 4, 3, 0, 1, 0, 3, 3, 3, 1, 4, 1, 5, 2, 3, 3, 2, 5, 5, 4, 0, 1, 2, 2, 4, 4, 5, 1, 1, 5, 2, 4, 1, 3, 4, 1, 4, 2, 3, 2, 3, 5, 2, 4, 0, 4, 4, 1, 2, 3, 2, 1, 4, 5, 2, 2, 1, 5, 0, 4, 4, 4, 3, 4, 3, 4, 0, 3, 5, 4, 1, 5, 0, 3, 2, 5, 4, 4, 2, 4, 4, 3, 3, 1, 1, 3, 2, 1, 0, 0, 0, 3, 3, 5, 5, 3, 2, 2, 3, 4, 1, 0, 0, 3, 1, 3, 3, 1, 3, 0, 0, 1, 4, 4, 5, 5, 5, 4, 1, 3, 3, 4, 3, 2, 2, 5, 4, 5, 1, 0, 1, 3, 4, 3, 0, 4, 3, 5, 4, 0, 2, 0, 0, 2, 2, 0, 5, 2, 1, 4, 0, 4, 1, 2, 1, 0, 2, 0, 3, 1, 3, 5, 2, 2, 2, 0, 5, 2, 4, 4, 2, 0, 2, 5, 0, 3, 1, 5, 3, 2, 0, 0, 3, 4, 0, 5, 3, 3, 1, 5, 1, 3, 0, 5, 0, 4, 1, 3, 1, 5, 3, 5, 2, 0, 2, 1, 5, 2, 2, 4, 0, 5, 1, 5, 4, 1, 3, 0, 3, 4, 4, 0, 0, 3, 5, 5, 4, 1, 1, 3, 3, 3, 1, 5, 3, 3, 1, 5, 2, 4, 4, 1, 4, 1, 0, 3, 2, 5, 3, 3, 4, 1, 2, 4, 0, 3, 0, 4, 5, 5, 4, 3, 2, 0, 3, 2, 5, 0, 2, 5, 3, 1, 0, 4, 0, 1, 4, 4, 2, 3, 2, 0, 2, 5, 3, 0, 3, 5, 0, 1, 2, 5, 5, 3, 3, 2, 0, 0, 3, 2, 3, 4, 4, 3, 3, 5, 0, 4, 3, 3, 3, 1, 2, 1, 4, 2, 3, 1, 5, 2, 2, 0, 1, 0, 4, 2, 0, 4, 1, 1, 0, 1, 3, 0, 3, 2, 5, 5, 5, 2, 3, 3, 2, 4, 1, 2, 0, 1, 3, 2, 0, 4, 2, 2, 3, 0, 5, 1, 0, 4, 0, 4, 1, 5, 2, 0, 3, 3, 4, 2, 2, 0, 1, 1, 0, 5, 3, 3, 4, 3, 1, 1, 2, 5, 2, 1, 0, 3, 2, 3, 5, 5, 5, 1, 5, 1, 0, 4, 4, 1, 3, 4, 4, 2, 4, 4, 3, 1, 3, 2, 2, 2, 0, 0, 5, 4, 1, 2, 5, 4, 0, 5, 3, 1, 1, 3, 0, 0, 2, 2, 4, 3, 2, 5, 1, 1, 5, 4, 1, 5, 2, 1, 1, 5, 1, 4, 0, 0, 5, 2, 2, 3, 0, 0, 5, 0, 0, 5, 5, 3, 0, 1, 0, 2, 4, 3, 3, 0, 3, 0, 0, 1, 5, 4, 2, 3, 5, 4, 5, 5, 3, 0, 5, 4, 2, 3, 2, 0, 2, 5, 1, 0, 2, 1, 4, 5, 0, 1, 5, 2, 2, 1, 1, 0, 5, 5, 4, 4, 4, 4, 2, 0, 2, 3, 4, 4, 4, 1, 1, 4, 0, 3, 4, 1, 2, 5, 4, 4, 1, 4, 0, 4, 5, 1, 0, 1, 4, 2, 3, 3, 2, 5, 3, 3, 4, 2, 5, 3, 3, 1, 5, 3, 5, 3, 4, 4, 1, 4, 3, 0, 4, 5, 4, 5, 5, 0, 1, 1, 3, 2, 1, 4, 3, 0, 0, 3, 2, 4, 1, 0, 4, 4, 0, 1, 5, 1, 0, 2, 3, 4, 4, 0, 2, 4, 1, 5, 2, 4, 4, 0, 0, 5, 1, 3, 4, 2, 1, 2, 1, 3, 4, 1, 2, 1, 0, 2, 2, 0, 5, 4, 2, 2, 5, 0, 1, 2, 5, 0, 0, 1, 5, 2, 5, 0, 4, 4, 0, 2, 5, 0, 4, 1, 3, 0, 0, 4, 5, 2, 0, 3, 2, 1, 1, 3, 1, 5, 3, 4, 3, 2, 0, 0, 5, 2, 4, 3, 3, 4, 0, 3, 1, 2, 1, 3, 4, 3, 0, 1, 4, 5, 1, 5, 5, 4, 4, 5, 3, 4, 2, 2, 0, 0, 0, 3, 3, 3, 0, 0, 4, 4, 4, 5, 2, 4, 5, 4, 2, 1, 4, 1, 1, 3, 1, 4, 2, 2, 3, 0, 1, 2, 2, 2, 2, 5, 5, 4, 4, 5, 2, 1, 1, 1, 3, 0, 3, 5, 3, 3, 4, 0, 2, 5, 4, 4, 0, 5, 3, 0, 2, 1, 3, 4, 4, 2, 2, 2, 0, 3, 5, 0, 4, 5, 5, 3, 0, 2, 0, 5, 3, 0, 2, 4, 0, 4, 0, 0, 4, 4, 4, 3, 1, 1, 0, 4, 3, 4, 3, 0, 3, 4, 0, 1, 5, 1, 3, 2, 2, 0, 4, 0, 4, 2, 0, 3, 4, 5, 5, 5, 2, 5, 5, 0, 2, 3, 5, 1, 3, 5, 4, 4, 2, 1, 3, 1, 0, 2, 1, 4, 3, 5, 0, 0, 4, 3, 3, 3, 5, 5, 3, 5, 3, 3, 0, 2, 4, 5, 5, 3, 1, 3, 5, 5, 3, 3, 1, 1, 0, 1, 5, 0, 5, 0, 4, 4, 2, 0, 3, 0, 2, 2, 5, 4, 3, 0, 1, 0, 2, 2, 1, 3, 4, 5, 2, 5, 1, 1, 0, 1, 2, 1, 5, 2, 2, 5, 4, 1, 3, 1, 3, 1, 3, 5, 0, 3, 2, 5, 2, 1, 2, 3, 0, 3, 0, 0, 0, 1, 3, 2, 5, 0, 5, 5, 4, 1, 4, 1, 1, 4, 0, 3, 1, 2, 0, 2, 1, 3, 4, 5, 3, 1, 5, 1, 4, 2, 2, 5, 4, 3, 1, 3, 2, 5, 0, 1, 5, 1, 4, 1, 0, 2, 4, 1, 4, 4, 0, 4, 3, 0, 3, 3, 1, 1, 4, 5, 1, 2, 5, 5, 5, 2, 1, 5, 3, 1, 1, 4, 4, 2, 5, 1, 4, 3, 3, 0, 1, 1, 5, 0, 5, 2, 1, 1, 0, 1, 2, 4, 3, 3, 0, 5, 2, 3, 3, 2, 2, 4, 3, 3, 0, 1, 2, 2, 4, 0, 4, 2, 4, 5, 0, 5, 0, 1, 4, 1, 2, 5, 0, 5, 3, 5, 5, 3, 0, 1, 3, 5, 1, 3, 4, 1, 2, 2, 3, 2, 5, 0, 2, 4, 0, 2, 4, 2, 4, 5, 0, 0, 1, 1, 5, 0, 2, 5, 2, 3, 3, 3, 0, 5, 4, 5, 0, 3, 3, 5, 4, 4, 4, 0, 3, 5, 4, 2, 1, 4, 0, 5, 1, 1, 0, 0, 3, 1, 3, 5, 4, 3, 3, 5, 5, 2, 3, 3, 0, 5, 0, 5, 5, 0, 3, 2, 5, 0, 0, 4, 4, 2, 2, 5, 5, 1, 4, 2, 5, 2, 3, 0, 3, 5, 3, 2, 3, 4, 4, 2, 4, 1, 2, 3, 4, 5, 3, 4, 5, 3, 0, 0, 3, 4, 2, 2, 1, 5, 1, 1, 0, 4, 2, 1, 2, 5, 4, 1, 1, 2, 3, 1, 2, 2, 5, 3, 4, 1, 3, 4, 3, 1, 5, 4, 2, 0, 0, 0, 5, 5, 5, 2, 3, 2, 2, 0, 2, 0, 4, 4, 0, 2, 5, 0, 1, 4, 4, 4, 2, 4, 5, 0, 4, 1, 2, 3, 3, 5, 5, 0, 5, 5, 3, 1, 0, 1, 3, 0, 2, 5, 4, 4, 2, 0, 2, 1, 0, 2, 3, 3, 5, 0, 5, 5, 0, 2, 2, 0, 1, 5, 4, 4, 2, 1, 5, 3, 3, 0, 3, 1, 0, 4, 1, 1, 2, 1, 4, 2, 5, 1, 1, 4, 4, 2, 1, 4, 1, 2, 2, 1, 4, 5, 4, 1, 1, 5, 3, 3, 3, 1, 5, 3, 3, 0, 4, 5, 0, 3, 2, 5, 1, 1, 0, 3, 1, 1, 3, 1, 1, 5, 2, 4, 5, 3, 2, 0, 5, 0, 2, 4, 1, 3, 2, 1, 4, 2, 1, 1, 2, 4, 1, 1, 3, 4, 4, 0, 0, 0, 5, 3, 3, 3, 1, 3, 5, 1, 5, 2, 2, 4, 1, 0, 1, 3, 4, 2, 3, 1, 3, 4, 3, 1, 4, 1, 0, 3, 2, 3, 5, 1, 0, 5, 0, 1, 4, 4, 2, 5, 2, 2, 5, 0, 5, 0, 0, 5, 4, 1, 2, 3, 1, 2, 5, 5, 1, 0, 2, 1, 1, 5, 5, 2, 3, 4, 1, 1, 0, 2, 2, 5, 0, 0, 1, 1, 4, 3, 1, 1, 3, 1, 2, 1, 5, 0, 1, 5, 1, 2, 4, 4, 1, 5, 1, 2, 1, 4, 0, 2, 2, 4, 4, 5, 3, 0, 2, 0, 3, 1, 4, 4, 2, 4, 4, 0, 2, 3, 2, 3, 2, 3, 5, 1, 2, 4, 4, 3, 4, 1, 2, 1, 3, 1, 2, 2, 4, 2, 4, 2, 5, 5, 0, 4, 3, 1, 4, 2, 5, 4, 5, 5, 2, 2, 5, 1, 2, 3, 3, 3, 5, 0, 0, 2, 1, 3, 3, 2, 1, 4, 1, 3, 0, 0, 1, 4, 0, 2, 0, 2, 3, 3, 5, 4, 5, 0, 3, 2, 2, 1, 5, 4, 5, 2, 2, 3, 3, 0, 0, 3, 3, 1, 5, 1, 2, 4, 4, 0, 0, 0, 4, 5, 0, 4, 1, 0, 5, 1, 0, 3, 0, 3, 4, 1, 2, 2, 4, 1, 5, 2, 5, 3, 5, 1, 3, 3, 3, 4, 5, 0, 0, 1, 5, 0, 3, 2, 1, 4, 0, 2, 0, 0, 2, 4, 1, 5, 2, 4, 2, 5, 2, 0, 1, 1, 3, 4, 2, 5, 0, 2, 0, 2, 3, 3, 1, 2, 3, 2, 5, 5, 3, 5, 2, 2, 4, 2, 4, 1, 3, 1, 2, 1, 3, 3, 0, 2, 2, 4, 1, 3, 5, 1, 4, 0, 5, 2, 5, 0, 2, 0, 0, 1, 3, 0, 3, 3, 5, 4, 0, 1, 1, 2, 2, 2, 1, 0, 1, 5, 0, 0, 5, 0, 2, 2, 4, 1, 5, 5, 5, 0, 0, 1, 4, 2, 5, 0, 1, 2, 0, 1, 1, 2, 4, 3, 2, 1, 0, 2, 2, 2, 0, 4, 0, 1, 0, 3, 4, 1, 2, 1, 5, 5, 2, 2, 1, 2, 3, 0, 1, 3, 5, 2, 3, 3, 0, 4, 3, 3, 2, 1, 5, 1, 1, 5, 2, 1, 2, 4, 4, 0, 0, 5, 2, 5, 2, 3, 3, 5, 5, 2, 5, 3, 0, 2, 5, 4, 4, 4, 5, 2, 3, 0, 1, 3, 5, 3, 4, 3, 1, 0, 0, 5, 2, 2, 3, 1, 3, 3, 1, 0, 1, 2, 3, 4, 3, 0, 5, 1, 2, 1, 0, 5, 1, 5, 5, 4, 3, 4, 3, 3, 0, 3, 1, 3, 2, 5, 1, 2, 2, 2, 0, 4, 0, 5, 5, 1, 1, 4, 5, 0, 2, 1, 4, 2, 1, 0, 0, 5, 2, 4, 0, 1, 2, 5, 0, 2, 3, 5, 4, 3, 4, 2, 2, 1, 1, 0, 1, 0, 1, 5, 2, 1, 3, 1, 3, 2, 4, 3, 5, 3, 2, 5, 4, 4, 4, 4, 3, 4, 3, 3, 5, 3, 1, 2, 3, 0, 4, 1, 2, 4, 0, 2, 1, 2, 0, 3, 5, 1, 0, 3, 3, 2, 4, 0, 3, 0, 1, 0, 4, 3, 3, 2, 3, 5, 3, 1, 1, 1, 2, 5, 4, 1, 3, 5, 0, 2, 5, 0, 0, 0, 2, 2, 2, 0, 0, 0, 2, 2, 0, 0, 2, 1, 5, 0, 5, 2, 4, 4, 5, 0, 5, 2, 5, 4, 1, 2, 5, 3, 5, 4, 2, 2, 2, 3, 3, 0, 3, 2, 2, 2, 0, 3, 1, 5, 5, 3, 2, 0, 4, 2, 1, 5, 2, 3, 2, 3, 0, 2, 1, 5, 5, 5, 1, 3, 3, 5, 2, 2, 5, 0, 4, 2, 1, 0, 5, 1, 3, 4, 1, 3, 5, 5, 3, 4, 4, 0, 5, 4, 2, 3, 2, 0, 5, 1, 0, 1, 0, 1, 5, 4, 5, 4, 3, 1, 2, 3, 2, 2, 5, 3, 2, 1, 1, 0, 2, 2, 4, 5, 2, 1, 3, 0, 2, 1, 5, 1, 1, 2, 4, 1, 1, 3, 1, 1, 4, 3, 3, 4, 4, 5, 4, 5, 2, 5, 0, 3, 1, 1, 4, 0, 5, 3, 3, 2, 1, 3, 2, 4, 1, 2, 0, 0, 3, 4, 0, 3, 3, 2, 5, 5, 5, 5, 0, 5, 1, 3, 3, 4, 4, 0, 0, 5, 5, 1, 4, 5, 2, 0, 5, 1, 0, 0, 1, 1, 2, 3, 5, 2, 2, 4, 4, 1, 3, 2, 5, 5, 0, 0, 3, 0, 5, 2, 0, 0, 4, 3, 3, 3, 0, 1, 2, 4, 4, 3, 5, 1, 4, 4, 2, 3, 3, 1, 3, 2, 2, 4, 0, 5, 1, 5, 1, 4, 0, 3, 3, 1, 0, 4, 3, 4, 5, 1, 1, 4, 0, 2, 2, 4, 1, 2, 3, 4, 0, 0, 3, 5, 0, 5, 2, 5, 0, 3, 3, 5, 5, 5, 5, 1, 1, 2, 4, 2, 3, 1, 0, 1, 3, 3, 0, 0, 4, 2, 4, 5, 2, 2, 1, 3, 2, 1, 0, 3, 2, 3, 1, 2, 5, 2, 0, 4, 1, 4, 4, 1, 2, 4, 3, 2, 0, 2, 1, 5, 5, 3, 0, 3, 0, 4, 4, 3, 4, 2, 2, 1, 1, 4, 4, 1, 2, 2, 0, 5, 1, 1, 5, 2, 4, 3, 4, 2, 5, 5, 5, 2, 2, 5, 3, 3, 4, 3, 3, 1, 0, 3, 2, 1, 3, 0, 4, 1, 1, 2, 4, 2, 1, 0, 2, 3, 4, 5, 0, 5, 0, 3, 4, 4, 5, 1, 2, 0, 2, 5, 2, 2, 4, 2, 4, 1, 4, 1, 1, 2, 1, 4, 3, 4, 1, 4, 1, 1, 1, 1, 1, 1, 3, 1, 1, 4, 1, 0, 4, 0, 2, 5, 2, 2, 1, 3, 0, 4, 0, 5, 3, 5, 4, 1, 3, 4, 1, 3, 3, 3, 2, 4, 5, 0, 5, 0, 0, 5, 0, 2, 0, 5, 3, 0, 4, 3, 5, 4, 4, 2, 0, 1, 3, 0, 4, 5, 3, 4, 4, 0, 5, 4, 1, 5, 0, 3, 3, 0, 0, 3, 4, 3, 4, 2, 4, 4, 4, 3, 0, 2, 3, 1, 3, 0, 5, 2, 4, 5, 4, 2, 5, 4, 4, 5, 2, 5, 4, 5, 2, 0, 1, 4, 0, 5, 5, 5, 4, 0, 2, 0, 5, 0, 0, 4, 3, 4, 0, 3, 5, 3, 4, 5, 0, 1, 0, 4, 3, 1, 2, 5, 1, 0, 5, 2, 5, 4, 1, 3, 3, 4, 5, 0, 0, 1, 3, 0, 3, 2, 2, 4, 4, 4, 0, 3, 4, 1, 0, 4, 3, 5, 0, 0, 3, 3, 4, 0, 5, 3, 5, 3, 1, 1, 2, 2, 3, 4, 1, 5, 1, 0, 3, 5, 5, 5, 5, 0, 2, 1, 5, 2, 4, 1, 1, 3, 4, 3, 5, 5, 3, 4, 1, 0, 4, 1, 0, 2, 4, 3, 1, 4, 1, 3, 2, 4, 1, 0, 4, 1, 3, 5, 5, 5, 3, 1, 0, 2, 3, 3, 1, 2, 4, 4, 3, 1, 0, 5, 4, 1, 1, 4, 0, 1, 2, 5, 2, 3, 5, 3, 5, 5, 0, 5, 5, 1, 1, 0, 1, 4, 0, 0, 5, 1, 5, 3, 0, 5, 4, 4, 1, 4, 0, 0, 5, 5, 4, 2, 5, 5, 1, 4, 0, 0, 3, 0, 4, 0, 3, 1, 4, 4, 2, 5, 2, 0, 1, 3, 0, 3, 2, 5, 2, 4, 1, 0, 2, 2, 5, 4, 4, 0, 3, 4, 2, 5, 5, 0, 1, 0, 3, 4, 5, 0, 4, 0, 2, 4, 5, 0, 0, 4, 0, 1, 2, 5, 3, 0, 0, 2, 0, 3, 0, 3, 2, 2, 1, 5, 4, 2, 3, 0, 4, 1, 0, 2, 4, 5, 0, 0, 2, 4, 3, 5, 5, 1, 0, 3, 3, 5, 2, 5, 4, 3, 2, 0, 1, 1, 4, 5, 5, 4, 0, 5, 3, 3, 1, 2, 5, 0, 0, 4, 1, 2, 4, 3, 3, 5, 4, 4, 3, 0, 2, 3, 1, 2, 3, 5, 2, 4, 5, 2, 2, 0, 5, 1, 4, 0, 4, 2, 2, 4, 1, 1, 4, 4, 0, 2, 5, 5, 3, 4, 4, 0, 1, 1, 1, 2, 2, 3, 4, 5, 0, 2, 1, 4, 0, 1, 3, 5, 1, 0, 0, 5, 3, 5, 4, 1, 2, 3, 1, 2, 2, 1, 2, 0, 4, 3, 3, 0, 4, 2, 2, 0, 3, 5, 5, 4, 1, 2, 5, 5, 1, 1, 4, 3, 1, 4, 0, 3, 4, 5, 1, 3, 3, 5, 1, 0, 1, 0, 1, 1, 3, 2, 0, 1, 2, 3, 5, 3, 1, 1, 5, 3, 1, 1, 4, 5, 5, 0, 5, 5, 1, 0, 4, 5, 0, 4, 2, 0, 4, 3, 3, 1, 5, 4, 4, 3, 5, 5, 3, 1, 0, 0, 2, 0, 1, 4, 4, 2, 5, 3, 4, 2, 5, 1, 5, 5, 5, 4, 5, 5, 0, 4, 2, 2, 3, 3, 4, 2, 2, 5, 3, 0, 1, 1, 3, 2, 5, 5, 1, 5, 1, 4, 0, 0, 1, 5, 4, 4, 5, 4, 1, 0, 5, 0, 2, 3, 3, 3, 2, 1, 5, 4, 5, 1, 0, 5, 1, 0, 5, 5, 4, 3, 4, 3, 1, 1, 2, 5, 1, 0, 4, 1, 1, 3, 4, 1, 4, 2, 1, 5, 0, 3, 3, 5, 0, 1, 3, 4, 1, 0, 0, 2, 0, 1, 3, 2, 0, 2, 3, 5, 3, 0, 0, 2, 2, 0, 3, 4, 0, 0, 3, 4, 0, 5, 2, 5, 4, 4, 3, 1, 1, 2, 2, 2, 2, 5, 2, 5, 0, 1, 1, 5, 1, 4, 2, 0, 3, 3, 4, 1, 2, 3, 2, 1, 4, 4, 3, 1, 4, 5, 4, 1, 2, 4, 3, 2, 4, 5, 0, 0, 2, 1, 1, 2, 2, 1, 2, 2, 4, 4, 1, 3, 3, 2, 2, 4, 1, 4, 5, 3, 5, 5, 5, 5, 0, 1, 5, 5, 2, 5, 0, 5, 0, 4, 0, 1, 3, 2, 4, 3, 4, 0, 0, 5, 0, 0, 4, 3, 5, 5, 3, 2, 1, 2, 3, 4, 0, 3, 3, 1, 5, 2, 0, 2, 4, 0, 4, 4, 2, 0, 0, 3, 1, 5, 2, 4, 3, 3, 0, 3, 0, 5, 4, 1, 1, 0, 1, 4, 0, 1, 5, 5, 5, 5, 3, 0, 3, 2, 0, 0, 3, 5, 0, 2, 3, 3, 3, 2, 5, 5, 4, 4, 0, 4, 5, 4, 4, 2, 3, 2, 3, 1, 5, 1, 3, 0, 5, 5, 3, 2, 0, 0, 0, 3, 4, 5, 4, 4, 2, 0, 5, 5, 5, 2, 3, 1, 2, 2, 0, 4, 5, 5, 5, 0, 4, 2, 5, 1, 3, 0, 5, 5, 4, 4, 0, 5, 0, 4, 2, 5, 3, 3, 1, 0, 2, 0, 1, 4, 4, 1, 0, 5, 4, 2, 3, 4, 2, 3, 3, 0, 3, 2, 5, 3, 4, 5, 2, 5, 2, 0, 4, 3, 0, 0, 5, 2, 0, 2, 0, 3, 2, 2, 5, 3, 5, 0, 0, 0, 2, 4, 2, 3, 2, 0, 2, 0, 0, 3, 0, 5, 4, 0, 3, 2, 5, 1, 4, 5, 0, 0, 2, 0, 2, 4, 3, 5, 3, 1, 1, 0, 5, 2, 5, 2, 5, 4, 0, 2, 0, 4, 4, 5, 4, 2, 3, 3, 4, 2, 0, 1, 0, 1, 4, 3, 4, 2, 0, 2, 3, 0, 0, 3, 2, 3, 1, 5, 2, 2, 1, 5, 0, 2, 1, 1, 3, 1, 2, 4, 5, 4, 0, 4, 5, 0, 3, 0, 4, 3, 3, 2, 4, 5, 0, 0, 3, 4, 1, 5, 0, 5, 0, 1, 4, 5, 5, 2, 2, 2, 0, 5, 1, 5, 0, 4, 1, 3, 2, 2, 1, 1, 5, 2, 4, 3, 5, 4, 4, 0, 5, 2, 5, 5, 5, 5, 3, 4, 0, 5, 1, 1, 4, 5, 1, 4, 4, 4, 0, 2, 0, 4, 5, 5, 2, 4, 4, 0, 5, 3, 1, 2, 3, 3, 1, 1, 3, 1, 4, 5, 4, 2, 3, 1, 0, 2, 1, 4, 2, 5, 3, 1, 2, 1, 1, 2, 1, 3, 0, 3, 0, 1, 4, 4, 5, 0, 1, 1, 3, 5, 4, 2, 4, 3, 4, 4, 0, 2, 4, 5, 2, 3, 3, 5, 5, 3, 5, 1, 0, 0, 3, 5, 1, 5, 3, 4, 2, 2, 3, 4, 1, 2, 3, 5, 5, 4, 1, 4, 0, 0, 2, 4, 2, 0, 3, 5, 4, 1, 0, 5, 4, 4, 2, 0, 4, 1, 3, 3, 2, 1, 1, 4, 1, 5, 3, 4, 4, 5, 3, 0, 4, 5, 1, 0, 2, 3, 4, 5, 1, 4, 5, 2, 5, 0, 3, 1, 3, 0, 3, 3, 0, 2, 5, 4, 1, 2, 3, 4, 1, 5, 5, 1, 4, 1, 3, 4, 0, 0, 1, 4, 4, 3, 5, 3, 2, 2, 4, 2, 3, 0, 3, 3, 3, 4, 5, 1, 0, 1, 1, 5, 0, 4, 2, 5, 3, 4, 4, 2, 4, 4, 3, 3, 2, 0, 0, 0, 2, 3, 2, 5, 1, 4, 4, 4, 3, 2, 2, 3, 5, 5, 0, 0, 4, 1, 2, 3, 4, 5, 1, 4, 4, 0, 0, 3, 3, 2, 5, 5, 0, 1, 2, 2, 0, 1, 1, 4, 5, 2, 0, 4, 4, 0, 5, 2, 1, 4, 1, 1, 3, 1, 2, 2, 5, 0, 4, 3, 3, 2, 1, 5, 4, 4, 3, 0, 4, 5, 2, 0, 3, 5, 0, 1, 3, 4, 2, 1, 0, 2, 2, 2, 2, 2, 1, 2, 4, 0, 5, 3, 5, 0, 2, 3, 5, 3, 2, 2, 1, 0, 0, 3, 2, 1, 2, 0, 4, 4, 0, 3, 0, 3, 5, 4, 4, 5, 2, 5, 4, 4, 3, 0, 3, 5, 4, 0, 1, 5, 5, 1, 2, 5, 3, 0, 0, 0, 3, 2, 5, 4, 1, 3, 5, 5, 4, 5, 2, 4, 4, 2, 1, 0, 3, 3, 3, 3, 1, 3, 4, 0, 1, 4, 1, 0, 1, 1, 1, 5, 3, 0, 3, 5, 4, 5, 5, 3, 2, 1, 3, 2, 3, 4, 1, 5, 5, 0, 0, 5, 1, 1, 5, 2, 3, 2, 4, 3, 5, 0, 4, 4, 4, 1, 4, 1, 5, 4, 0, 1, 4, 5, 0, 5, 1, 3, 2, 4, 2, 0, 5, 3, 4, 3, 1, 2, 3, 0, 3, 1, 2, 5, 5, 3, 5, 1, 4, 0, 1, 1, 0, 0, 1, 5, 5, 2, 1, 0, 4, 4, 0, 0, 3, 1, 1, 1, 3, 5]\n",
            "[0, 5, 0, 2, 2, 1, 3, 0, 4, 5, 4, 3, 5, 1, 3, 4, 3, 5, 0, 3, 1, 0, 5, 4, 0, 0, 1, 2, 3, 3, 0, 4, 0, 1, 1, 5, 2, 2, 4, 2, 2, 0, 4, 5, 5, 2, 0, 4, 4, 1, 1, 3, 3, 2, 2, 1, 1, 2, 0, 0, 5, 0, 0, 3, 5, 0, 5, 3, 4, 1, 3, 1, 0, 2, 5, 1, 5, 0, 3, 2, 1, 5, 0, 3, 3, 1, 2, 4, 2, 4, 5, 3, 4, 1, 1, 3, 1, 0, 5, 1, 1, 0, 1, 5, 5, 4, 3, 1, 3, 5, 4, 5, 5, 3, 4, 5, 4, 0, 2, 5, 0, 5, 2, 5, 1, 0, 2, 5, 5, 4, 0, 0, 5, 4, 2, 5, 2, 1, 2, 3, 3, 3, 5, 3, 1, 1, 3, 3, 3, 4, 4, 2, 1, 4, 0, 1, 5, 4, 0, 3, 1, 5, 1, 1, 4, 2, 1, 3, 1, 0, 2, 4, 0, 4, 5, 1, 0, 0, 5, 1, 1, 5, 0, 3, 4, 2, 4, 5, 4, 3, 1, 5, 3, 2, 0, 0, 4, 5, 3, 5, 1, 5, 2, 0, 5, 0, 3, 1, 2, 1, 4, 4, 3, 3, 3, 5, 1, 1, 0, 1, 5, 0, 5, 5, 2, 2, 0, 2, 4, 4, 4, 5, 5, 2, 5, 1, 5, 4, 2, 3, 1, 4, 2, 1, 5, 5, 3, 2, 0, 3, 1, 0, 0, 4, 4, 1, 2, 0, 4, 0, 5, 0, 5, 2, 2, 0, 4, 4, 4, 0, 3, 0, 1, 4, 1, 3, 0, 0, 5, 2, 0, 3, 0, 4, 5, 0, 5, 4, 1, 0, 0, 1, 5, 2, 5, 5, 4, 1, 2, 3, 1, 2, 3, 4, 3, 4, 0, 0, 1, 3, 5, 2, 5, 3, 0, 0, 3, 0, 4, 1, 4, 5, 0, 1, 2, 0, 5, 2, 1, 1, 5, 2, 2, 4, 2, 0, 5, 3, 4, 2, 0, 3, 2, 4, 1, 4, 2, 2, 5, 4, 4, 3, 0, 4, 3, 3, 0, 1, 1, 1, 5, 4, 5, 1, 3, 1, 3, 2, 2, 1, 5, 2, 5, 2, 3, 4, 0, 2, 3, 0, 0, 0, 2, 0, 4, 1, 5, 0, 2, 1, 2, 2, 5, 5, 1, 1, 5, 0, 0, 3, 2, 1, 2, 1, 4, 4, 0, 3, 5, 4, 0, 3, 4, 3, 0, 4, 2, 2, 5, 1, 0, 1, 0, 0, 0, 2, 2, 0, 5, 5, 5, 1, 1, 4, 1, 0, 4, 5, 3, 0, 3, 2, 2, 5, 0, 2, 3, 5, 4, 3, 4, 4, 5, 1, 4, 1, 1, 5, 2, 4, 5, 1, 4, 5, 3, 1, 0, 2, 4, 5, 5, 5, 1, 1, 5, 3, 5, 0, 5, 3, 0, 0, 3, 5, 1, 1, 3, 5, 4, 4, 0, 2, 5, 4, 3, 5, 0, 3, 4, 1, 0, 2, 4, 1, 5, 5, 2, 0, 2, 0, 3, 4, 5, 2, 1, 2, 3, 5, 5, 4, 4, 3, 0, 2, 0, 4, 3, 4, 3, 5, 0, 5, 3, 4, 2, 2, 0, 4, 2, 1, 5, 5, 2, 5, 5, 0, 3, 3, 5, 5, 2, 0, 1, 2, 3, 0, 5, 2, 1, 4, 3, 2, 5, 2, 1, 4, 0, 5, 2, 1, 3, 1, 4, 0, 1, 3, 1, 0, 0, 4, 5, 5, 3, 4, 3, 4, 1, 4, 2, 2, 0, 3, 4, 5, 1, 5, 0, 1, 1, 5, 3, 3, 1, 1, 5, 1, 2, 3, 3, 5, 1, 2, 2, 3, 5, 4, 3, 0, 0, 2, 4, 5, 2, 2, 5, 2, 5, 2, 4, 5, 4, 5, 1, 3, 4, 4, 3, 2, 2, 0, 5, 0, 4, 4, 0, 0, 5, 4, 5, 4, 3, 0, 3, 5, 5, 2, 3, 5, 0, 0, 1, 0, 3, 1, 5, 4, 4, 3, 3, 2, 1, 5, 2, 4, 1, 1, 4, 0, 2, 3, 2, 0, 3, 3, 3, 1, 3, 4, 5, 4, 3, 3, 5, 2, 0, 1, 5, 4, 3, 0, 4, 1, 3, 4, 1, 0, 2, 4, 0, 1, 5, 5, 2, 1, 0, 2, 3, 1, 1, 1, 5, 2, 4, 1, 4, 1, 3, 2, 3, 1, 3, 1, 5, 0, 4, 3, 1, 1, 3, 2, 5, 1, 2, 5, 2, 2, 4, 3, 2, 1, 0, 0, 3, 4, 3, 0, 2, 1, 5, 4, 5, 1, 4, 1, 3, 3, 1, 2, 3, 4, 4, 0, 1, 2, 4, 0, 5, 1, 1, 2, 3, 5, 4, 5, 4, 5, 3, 0, 3, 2, 0, 5, 4, 2, 1, 3, 1, 5, 1, 5, 0, 3, 4, 2, 4, 5, 4, 2, 0, 5, 5, 5, 3, 4, 5, 3, 0, 2, 0, 2, 4, 1, 4, 3, 2, 1, 2, 5, 4, 1, 1, 3, 2, 2, 2, 2, 4, 4, 2, 5, 3, 0, 4, 0, 1, 4, 0, 4, 4, 1, 1, 0, 3, 1, 2, 2, 2, 3, 3, 4, 5, 3, 1, 0, 2, 3, 5, 2, 3, 0, 2, 1, 3, 5, 0, 5, 2, 4, 3, 0, 4, 1, 5, 1, 5, 3, 2, 2, 3, 3, 1, 2, 0, 4, 0, 4, 3, 5, 5, 1, 1, 0, 2, 4, 1, 3, 0, 4, 3, 2, 0, 0, 0, 1, 5, 2, 5, 1, 1, 0, 5, 5, 1, 2, 1, 0, 0, 2, 3, 3, 3, 1, 4, 4, 4, 5, 2, 1, 5, 3, 4, 5, 0, 0, 3, 2, 2, 2, 2, 0, 2, 5, 5, 2, 4, 5, 4, 0, 0, 2, 4, 5, 5, 1, 2, 4, 5, 5, 2, 1, 5, 4, 5, 0, 3, 5, 1, 4, 1, 4, 4, 2, 3, 0, 0, 2, 5, 3, 5, 4, 5, 5, 0, 0, 1, 2, 2, 2, 3, 5, 5, 4, 1, 4, 4, 0, 1, 5, 4, 5, 4, 5, 2, 5, 4, 3, 2, 1, 2, 1, 4, 0, 2, 1, 3, 2, 5, 5, 3, 3, 0, 2, 4, 5, 4, 2, 1, 4, 3, 4, 1, 4, 4, 5, 5, 3, 0, 2, 3, 5, 1, 2, 0, 5, 1, 3, 5, 5, 1, 2, 5, 0, 5, 4, 5, 4, 0, 5, 5, 4, 4, 1, 2, 4, 0, 2, 1, 4, 5, 4, 0, 5, 3, 1, 2, 5, 3, 5, 3, 0, 5, 0, 0, 1, 1, 4, 5, 4, 2, 1, 3, 5, 0, 1, 2, 1, 1, 2, 2, 0, 1, 3, 2, 3, 3, 3, 3, 1, 0, 0, 1, 0, 1, 4, 1, 3, 0, 1, 3, 5, 1, 0, 4, 1, 3, 1, 3, 3, 5, 3, 5, 0, 1, 3, 3, 4, 4, 0, 4, 4, 5, 5, 1, 2, 5, 5, 2, 4, 5, 2, 4, 1, 0, 3, 5, 1, 1, 1, 3, 5, 4, 5, 4, 0, 3, 4, 0, 4, 4, 2, 0, 2, 0, 1, 5, 2, 5, 1, 1, 1, 1, 0, 2, 5, 0, 3, 5, 2, 2, 1, 1, 5, 1, 2, 5, 3, 1, 5, 2, 1, 5, 4, 2, 2, 2, 4, 3, 2, 2, 1, 0, 3, 3, 2, 4, 2, 1, 2, 1, 0, 3, 1, 2, 3, 1, 2, 0, 5, 4, 3, 1, 4, 1, 3, 5, 4, 5, 5, 4, 1, 2, 2, 2, 3, 2, 1, 2, 3, 3, 5, 0, 5, 3, 0, 1, 0, 2, 2, 4, 1, 2, 4, 1, 1, 4, 3, 2, 3, 2, 3, 3, 0, 5, 0, 0, 5, 2, 2, 5, 5, 0, 0, 5, 3, 4, 2, 3, 2, 0, 4, 5, 5, 1, 2, 1, 5, 0, 4, 0, 4, 1, 4, 3, 1, 5, 5, 0, 3, 3, 1, 1, 4, 5, 2, 2, 0, 5, 0, 0, 5, 3, 3, 2, 1, 0, 4, 1, 3, 5, 5, 5, 0, 1, 5, 2, 4, 3, 3, 2, 5, 5, 2, 2, 1, 3, 3, 5, 4, 1, 2, 1, 4, 0, 1, 3, 2, 4, 3, 3, 1, 3, 1, 4, 0, 3, 4, 2, 0, 4, 4, 2, 0, 5, 1, 1, 0, 5, 2, 5, 5, 3, 3, 0, 3, 1, 3, 1, 3, 0, 1, 1, 2, 4, 2, 1, 5, 3, 3, 3, 5, 3, 4, 3, 0, 2, 2, 5, 5, 3, 4, 2, 1, 2, 3, 1, 0, 5, 5, 4, 3, 1, 5, 3, 0, 3, 1, 3, 5, 1, 5, 5, 1, 4, 5, 5, 0, 0, 3, 5, 4, 1, 1, 2, 1, 5, 4, 2, 2, 4, 2, 5, 1, 1, 0, 0, 5, 2, 1, 0, 4, 3, 0, 5, 3, 4, 5, 5, 2, 2, 5, 1, 5, 4, 0, 2, 4, 3, 5, 2, 0, 4, 3, 2, 1, 4, 4, 4, 3, 2, 4, 3, 2, 1, 0, 0, 0, 0, 3, 0, 3, 0, 4, 0, 5, 2, 3, 4, 0, 0, 1, 2, 3, 5, 3, 2, 4, 2, 3, 5, 0, 2, 1, 3, 0, 3, 3, 5, 1, 1, 0, 1, 2, 1, 1, 3, 1, 4, 1, 2, 0, 2, 1, 5, 4, 3, 4, 3, 3, 0, 1, 1, 2, 3, 2, 4, 1, 1, 0, 3, 5, 5, 2, 3, 0, 4, 1, 2, 1, 1, 0, 5, 2, 5, 4, 4, 3, 2, 4, 2, 3, 0, 1, 4, 5, 0, 5, 4, 3, 3, 0, 4, 3, 1, 2, 2, 4, 5, 5, 4, 2, 0, 3, 0, 1, 1, 2, 5, 2, 2, 3, 4, 2, 2, 2, 1, 3, 2, 0, 0, 2, 0, 1, 4, 5, 5, 2, 2, 3, 0, 2, 4, 1, 0, 1, 5, 5, 0, 2, 4, 5, 3, 0, 4, 1, 5, 0, 5, 1, 4, 2, 2, 0, 0, 2, 4, 1, 5, 4, 2, 1, 5, 1, 0, 4, 5, 2, 5, 2, 0, 5, 1, 5, 5, 5, 0, 5, 3, 5, 0, 1, 2, 5, 1, 1, 4, 4, 0, 5, 0, 4, 0, 1, 3, 5, 4, 4, 5, 4, 1, 5, 3, 2, 4, 4, 3, 3, 2, 0, 2, 2, 4, 1, 5, 1, 2, 5, 1, 1, 0, 5, 1, 3, 4, 5, 3, 5, 3, 4, 0, 0, 5, 5, 3, 4, 0, 2, 2, 5, 4, 1, 3, 2, 1, 5, 5, 0, 4, 5, 4, 0, 3, 3, 3, 1, 4, 5, 4, 5, 4, 3, 3, 4, 2, 1, 2, 0, 0, 4, 5, 3, 1, 4, 1, 2, 4, 1, 1, 0, 4, 4, 4, 1, 4, 3, 1, 3, 2, 2, 5, 0, 3, 3, 3, 3, 0, 3, 3, 5, 3, 2, 4, 4, 2, 2, 5, 0, 0, 1, 5, 4, 0, 0, 3, 4, 2, 1, 3, 2, 2, 3, 1, 2, 0, 0, 0, 5, 3, 4, 5, 4, 0, 5, 5, 3, 5, 3, 3, 1, 3, 5, 0, 4, 5, 5, 3, 5, 1, 2, 5, 3, 0, 2, 2, 3, 5, 1, 0, 1, 0, 2, 5, 5, 1, 3, 3, 2, 4, 5, 4, 5, 5, 0, 3, 4, 3, 4, 0, 2, 0, 4, 1, 0, 0, 5, 3, 2, 0, 4, 0, 0, 3, 0, 4, 3, 0, 2, 3, 5, 1, 3, 5, 1, 5, 5, 4, 1, 3, 2, 5, 4, 4, 0, 2, 1, 0, 0, 0, 1, 2, 1, 3, 0, 4, 4, 2, 4, 5, 4, 0, 5, 4, 2, 4, 0, 0, 0, 2, 5, 5, 5, 4, 3, 0, 1, 1, 4, 0, 2, 0, 5, 3, 2, 1, 5, 4, 0, 4, 2, 4, 0, 4, 5, 2, 0, 0, 3, 4, 2, 0, 5, 1, 4, 2, 2, 0, 1, 5, 4, 2, 3, 2, 5, 0, 2, 4, 5, 1, 2, 1, 4, 0, 4, 2, 0, 3, 1, 5, 2, 0, 0, 4, 4, 4, 1, 0, 5, 0, 5, 2, 2, 0, 1, 4, 3, 0, 1, 0, 2, 2, 0, 4, 4, 0, 1, 4, 5, 3, 0, 1, 2, 0, 5, 3, 3, 3, 3, 5, 1, 5, 5, 3, 5, 2, 5, 5, 4, 5, 5, 3, 4, 5, 2, 2, 4, 4, 1, 1, 4, 1, 4, 5, 1, 0, 3, 2, 1, 0, 4, 3, 2, 2, 0, 4, 3, 2, 1, 2, 3, 5, 4, 5, 3, 2, 3, 2, 3, 0, 0, 3, 0, 3, 3, 2, 3, 3, 2, 5, 4, 4, 1, 5, 3, 4, 5, 3, 1, 3, 0, 1, 5, 5, 5, 4, 0, 5, 3, 4, 4, 3, 4, 0, 1, 3, 4, 1, 0, 5, 5, 3, 0, 5, 0, 1, 0, 0, 3, 4, 5, 1, 5, 0, 1, 3, 1, 3, 0, 1, 0, 3, 2, 2, 0, 0, 5, 0, 4, 3, 1, 2, 3, 4, 0, 3, 2, 5, 4, 3, 0, 2, 3, 5, 0, 4, 2, 5, 2, 5, 4, 0, 4, 1, 2, 2, 5, 0, 4, 5, 0, 3, 0, 4, 5, 0, 5, 4, 4, 2, 4, 5, 3, 2, 4, 0, 1, 5, 5, 1, 4, 5, 1, 5, 5, 2, 4, 3, 2, 5, 0, 5, 2, 4, 0, 5, 3, 0, 0, 2, 0, 0, 4, 0, 5, 4, 3, 3, 1, 3, 1, 1, 0, 4, 5, 2, 4, 3, 1, 1, 3, 5, 2, 4, 0, 5, 1, 4, 2, 3, 3, 5, 0, 5, 0, 5, 3, 5, 4, 3, 5, 2, 1, 0, 5, 3, 3, 3, 4, 2, 3, 2, 1, 4, 5, 0, 5, 3, 3, 2, 0, 4, 5, 3, 4, 1, 4, 5, 2, 2, 4, 3, 2, 2, 3, 3, 5, 2, 5, 3, 4, 0, 0, 4, 0, 4, 0, 1, 4, 1, 5, 1, 1, 2, 0, 4, 1, 2, 3, 4, 4, 4, 1, 1, 0, 0, 3, 5, 0, 5, 4, 4, 0, 4, 3, 1, 1, 0, 0, 5, 3, 5, 1, 5, 3, 5, 0, 0, 1, 5, 3, 4, 4, 3, 2, 3, 4, 0, 0, 4, 4, 4, 5, 3, 5, 0, 2, 0, 1, 2, 4, 1, 5, 1, 5, 3, 5, 3, 2, 1, 5, 1, 2, 0, 0, 3, 3, 3, 1, 1, 0, 3, 3, 2, 0, 5, 1, 5, 3, 2, 0, 1, 0, 1, 1, 0, 3, 2, 1, 2, 5, 1, 3, 3, 3, 4, 4, 5, 3, 4, 4, 3, 1, 2, 5, 5, 5, 0, 0, 3, 5, 0, 3, 4, 3, 5, 5, 5, 5, 3, 3, 5, 5, 3, 5, 5, 5, 3, 1, 0, 4, 2, 5, 5, 3, 5, 5, 2, 3, 2, 5, 4, 4, 1, 0, 3, 0, 1, 3, 0, 3, 2, 3, 2, 0, 5, 5, 2, 5, 5, 3, 3, 5, 5, 0, 5, 1, 0, 4, 4, 5, 5, 2, 0, 4, 3, 2, 0, 3, 5, 5, 2, 0, 1, 1, 4, 1, 2, 4, 3, 0, 2, 4, 2, 4, 2, 0, 3, 4, 3, 4, 1, 2, 2, 5, 3, 4, 5, 4, 1, 1, 3, 2, 3, 1, 3, 1, 5, 0, 3, 3, 1, 2, 3, 4, 1, 5, 3, 5, 2, 2, 4, 3, 4, 1, 0, 4, 4, 1, 1, 2, 4, 0, 2, 2, 5, 3, 0, 4, 1, 5, 3, 5, 5, 4, 3, 5, 2, 0, 5, 1, 2, 1, 1, 5, 2, 2, 2, 0, 5, 1, 5, 3, 0, 5, 4, 5, 1, 0, 3, 4, 4, 4, 4, 5, 5, 3, 0, 0, 5, 3, 3, 5, 3, 5, 4, 1, 0, 3, 3, 1, 1, 0, 1, 5, 3, 0, 2, 1, 2, 5, 3, 3, 1, 4, 5, 2, 3, 3, 0, 3, 0, 3, 2, 1, 4, 1, 2, 2, 4, 4, 0, 3, 3, 2, 5, 5, 1, 1, 0, 5, 2, 1, 5, 2, 1, 5, 2, 2, 5, 5, 4, 3, 5, 3, 0, 2, 5, 0, 0, 2, 1, 0, 5, 2, 2, 2, 5, 3, 2, 1, 5, 2, 3, 5, 0, 4, 3, 5, 2, 3, 5, 4, 3, 3, 0, 2, 4, 5, 2, 1, 3, 3, 1, 2, 1, 4, 0, 4, 0, 1, 0, 0, 1, 3, 1, 0, 3, 3, 2, 4, 3, 4, 3, 2, 5, 4, 1, 4, 5, 1, 0, 5, 5, 0, 1, 2, 5, 0, 3, 2, 0, 5, 1, 3, 2, 0, 2, 2, 2, 3, 1, 5, 3, 3, 3, 3, 4, 2, 2, 1, 2, 2, 3, 4, 0, 4, 0, 0, 2, 4, 3, 2, 0, 0, 1, 3, 1, 4, 5, 5, 5, 5, 2, 5, 2, 0, 1, 5, 3, 5, 4, 3, 0, 1, 5, 3, 5, 4, 4, 0, 1, 4, 5, 2, 2, 3, 2, 5, 3, 5, 0, 3, 4, 0, 4, 0, 5, 0, 3, 3, 2, 4, 5, 5, 5, 0, 5, 1, 2, 5, 1, 5, 1, 0, 0, 5, 5, 4, 0, 5, 5, 3, 1, 1, 0, 3, 3, 5, 1, 2, 4, 0, 2, 3, 5, 5, 3, 2, 2, 2, 4, 4, 4, 5, 3, 5, 3, 1, 4, 4, 0, 4, 1, 5, 3, 0, 1, 1, 2, 1, 0, 3, 3, 5, 0, 4, 5, 1, 2, 1, 2, 2, 0, 2, 5, 5, 3, 4, 3, 5, 3, 0, 2, 0, 4, 3, 2, 1, 4, 3, 1, 1, 2, 3, 2, 4, 3, 5, 3, 5, 5, 1, 4, 2, 2, 1, 2, 3, 4, 4, 2, 4, 5, 0, 3, 3, 0, 1, 0, 5, 3, 1, 2, 0, 3, 5, 1, 1, 5, 5, 2, 3, 0, 4, 0, 0, 4, 3, 1, 2, 4, 0, 5, 2, 5, 1, 0, 5, 3, 4, 2, 4, 3, 0, 2, 3, 5, 5, 2, 5, 2, 3, 5, 2, 4, 2, 1, 5, 2, 5, 3, 4, 0, 2, 4, 4, 5, 5, 4, 3, 0, 1, 1, 5, 4, 2, 2, 5, 2, 1, 3, 0, 4, 5, 3, 2, 0, 5, 5, 5, 2, 1, 0, 1, 0, 0, 4, 5, 0, 1, 1, 5, 4, 4, 5, 0, 1, 3, 2, 0, 1, 0, 2, 3, 2, 5, 3, 5, 4, 1, 4, 0, 0, 0, 5, 1, 3, 1, 3, 1, 1, 5, 3, 2, 3, 1, 5, 1, 5, 2, 0, 2, 1, 3, 1, 5, 3, 5, 4, 3, 5, 5, 1, 0, 4, 4, 0, 4, 0, 2, 1, 2, 2, 4, 0, 5, 1, 1, 1, 0, 1, 0, 4, 5, 2, 5, 2, 0, 0, 2, 5, 2, 2, 2, 5, 4, 3, 1, 0, 0, 5, 3, 2, 5, 3, 5, 0, 4, 5, 1, 2, 0, 0, 2, 2, 3, 0, 0, 2, 0, 0, 5, 5, 4, 2, 2, 5, 5, 5, 1, 0, 2, 2, 4, 2, 3, 2, 5, 2, 5, 5, 5, 5, 2, 2, 0, 5, 1, 3, 3, 4, 3, 1, 3, 3, 0, 3, 3, 4, 2, 2, 1, 5, 4, 4, 1, 3, 0, 0, 0, 3, 0, 3, 1, 1, 5, 1, 3, 1, 3, 2, 5, 4, 2, 4, 2, 5, 2, 3, 1, 0, 5, 3, 3, 1, 2, 0, 4, 1, 4, 5, 4, 3, 3, 3, 0, 4, 4, 2, 1, 0, 4, 3, 5, 4, 1, 0, 1, 2, 0, 0, 0, 5, 0, 5, 1, 4, 2, 1, 3, 4, 1, 3, 2, 2, 4, 4, 4, 0, 4, 4, 3, 5, 1, 4, 0, 5, 2, 0, 2, 2, 1, 2, 3, 2, 1, 1, 3, 5, 4, 4, 1, 2, 1, 2, 3, 5, 2, 0, 4, 1, 2, 4, 2, 2, 5, 2, 3, 2, 0, 5, 1, 0, 3, 3, 3, 4, 0, 5, 5, 5, 0, 3, 3, 4, 4, 2, 0, 5, 3, 2, 3, 0, 1, 3, 2, 5, 5, 1, 5, 2, 5, 5, 0, 1, 5, 2, 3, 3, 2, 3, 3, 5, 3, 3, 3, 3, 5, 0, 3, 0, 4, 1, 2, 4, 2, 0, 2, 3, 5, 3, 4, 2, 2, 5, 3, 5, 2, 1, 2, 0, 3, 1, 3, 3, 0, 1, 0, 3, 1, 1, 0, 2, 5, 3, 1, 5, 4, 5, 3, 4, 3, 1, 4, 2, 3, 3, 4, 1, 4, 4, 1, 2, 5, 3, 0, 5, 2, 2, 4, 4, 5, 4, 4, 4, 5, 0, 5, 4, 3, 3, 3, 5, 0, 1, 3, 5, 0, 4, 3, 2, 4, 5, 1, 4, 0, 0, 2, 4, 5, 4, 5, 2, 0, 0, 5, 3, 5, 5, 0, 3, 3, 5, 5, 5, 0, 3, 2, 3, 0, 3, 1, 0, 4, 4, 1, 2, 4, 0, 2, 2, 4, 4, 5, 0, 0, 4, 0, 5, 5, 0, 4, 3, 5, 4, 5, 2, 3, 1, 2, 4, 3, 2, 4, 5, 2, 0, 4, 0, 2, 0, 5, 3, 3, 5, 4, 1, 4, 4, 2, 0, 3, 5, 3, 0, 3, 3, 2, 2, 5, 1, 1, 5, 4, 3, 5, 4, 4, 3, 0, 1, 5, 5, 1, 1, 5, 0, 5, 4, 4, 4, 3, 3, 4, 0, 2, 1, 3, 1, 2, 2, 4, 2, 5, 4, 5, 2, 5, 2, 4, 5, 2, 1, 0, 4, 1, 4, 3, 5, 5, 0, 5, 0, 4, 1, 4, 3, 3, 4, 0, 4, 2, 3, 5, 2, 1, 2, 0, 4, 4, 1, 5, 4, 1, 0, 2, 2, 4, 2, 5, 0, 5, 2, 2, 5, 5, 1, 4, 3, 1, 3, 3, 0, 1, 0, 0, 4, 0, 4, 0, 4, 5, 3, 0, 5, 0, 1, 3, 0, 3, 3, 5, 0, 0, 0, 5, 1, 3, 2, 4, 4, 4, 2, 5, 5, 0, 3, 5, 4, 2, 2, 3, 0, 1, 4, 4, 3, 3, 0, 5, 4, 2, 1, 5, 4, 2, 2, 0, 4, 2, 1, 4, 0, 5, 2, 5, 1, 4, 0, 5, 1, 1, 5, 0, 3, 2, 4, 5, 4, 3, 3, 0, 3, 4, 5, 4, 5, 5, 5, 5, 4, 1, 3, 4, 0, 5, 3, 5, 0, 0, 1, 1, 4, 5, 1, 0, 2, 4, 2, 3, 3, 0, 3, 4, 1, 0, 0, 0, 2, 2, 4, 1, 3, 5, 5, 5, 0, 1, 0, 5, 3, 0, 2, 2, 2, 5, 0, 2, 2, 5, 2, 5, 5, 2, 3, 1, 2, 5, 2, 3, 1, 0, 5, 0, 1, 3, 5, 0, 4, 0, 5, 3, 0, 3, 5, 4, 2, 3, 1, 3, 4, 5, 5, 0, 4, 2, 4, 5, 2, 3, 5, 4, 0, 4, 4, 2, 1, 5, 4, 2, 4, 2, 2, 1, 2, 0, 1, 2, 1, 2, 1, 1, 1, 2, 1, 0, 0, 2, 4, 1, 5, 5, 3, 2, 3, 3, 5, 4, 2, 0, 0, 4, 5, 2, 5, 2, 0, 4, 5, 4, 5, 4, 5, 5, 0, 5, 5, 2, 1, 5, 2, 1, 5, 1, 0, 1, 5, 1, 5, 3, 0, 3, 0, 0, 3, 2, 5, 0, 3, 0, 1, 5, 2, 5, 0, 5, 5, 0, 0, 5, 5, 1, 2, 0, 4, 1, 0, 1, 5, 5, 4, 0, 1, 0, 2, 5, 2, 5, 5, 3, 2, 3, 1, 4, 0, 2, 1, 5, 5, 4, 3, 2, 3, 1, 4, 3, 0, 5, 4, 4, 2, 4, 0, 0, 5, 3, 4, 4, 1, 0, 3, 3, 0, 1, 1, 4, 1, 5, 1, 0, 4, 3, 3, 5, 1, 3, 2, 5, 2, 0, 0, 0, 2, 3, 2, 1, 1, 0, 1, 3, 4, 2, 1, 1, 2, 0, 0, 0, 0, 1, 5, 0, 4, 5, 5, 3, 2, 5, 2, 5, 3, 5, 4, 5, 2, 0, 3, 5, 2, 1, 1, 1, 5, 0, 2, 1, 0, 1, 0, 5, 3, 4, 1, 1, 2, 3, 3, 0, 5, 0, 2, 4, 3, 0, 4, 0, 5, 4, 2, 2, 0, 2, 2, 1, 1, 4, 2, 2, 2, 3, 0, 3, 2, 1, 1, 2, 5, 5, 3, 3, 0, 0, 0, 3, 1, 5, 1, 1, 5, 1, 1, 1, 5, 0, 2, 0, 4, 2, 0, 4, 5, 0, 4, 5, 0, 1, 1, 4, 3, 2, 5, 2, 2, 0, 4, 1, 3, 2, 2, 5, 5, 3, 5, 0, 4, 5, 3, 2, 4, 2, 0, 2, 3, 0, 5, 3, 0, 0, 0, 4, 3, 5, 2, 4, 1, 2, 0, 3, 3, 1, 4, 0, 1, 2, 4, 3, 2, 3, 2, 4, 2, 2, 4, 3, 5, 2, 4, 5, 5, 4, 4, 1, 4, 5, 0, 1, 5, 1, 3, 1, 4, 1, 4, 0, 4, 3, 4, 5, 0, 4, 3, 1, 5, 4, 4, 4, 1, 0, 0, 0, 0, 3, 1, 5, 1, 5, 2, 5, 2, 4, 2, 3, 0, 5, 5, 5, 2, 4, 2, 0, 0, 0, 5, 1, 4, 4, 1, 5, 0, 0, 5, 1, 5, 3, 5, 4, 3, 3, 1, 5, 5, 1, 4, 2, 3, 3, 2, 3, 5, 5, 0, 1, 3, 5, 1, 0, 5, 4, 3, 0, 2, 2, 4, 1, 5, 3, 5, 2, 0, 1, 2, 2, 5, 5, 2, 2, 5, 4, 0, 2, 3, 2, 3, 5, 4, 1, 1, 2, 1, 2, 2, 3, 5, 3, 3, 2, 5, 3, 1, 1, 1, 5, 2, 5, 1, 2, 0, 4, 2, 3, 1, 5, 1, 4, 5, 1, 1, 2, 1, 2, 5, 0, 2, 1, 2, 4, 3, 2, 5, 1, 5, 1, 2, 3, 3, 5, 1, 3, 0, 3, 1, 1, 3, 2, 0, 0, 4, 1, 2, 5, 5, 4, 5, 0, 2, 1, 0, 3, 1, 4, 5, 1, 4, 4, 0, 3, 4, 3, 4, 2, 5, 0, 3, 5, 3, 2, 0, 5, 5, 5, 1, 5, 0, 0, 5, 1, 4, 4, 0, 5, 5, 5, 1, 3, 5, 1, 1, 5, 5, 5, 1, 3, 5, 2, 4, 3, 0, 1, 5, 1, 3, 5, 0, 3, 0, 5, 1, 3, 5, 5, 3, 5, 2, 3, 5, 1, 0, 5, 2, 0, 5, 0, 4, 4, 1, 3, 2, 5, 5, 1, 3, 1, 0, 3, 4, 5, 0, 1, 3, 2, 2, 1, 1, 5, 1, 3, 3, 5, 3, 5, 0, 1, 4, 5, 2, 2, 5, 5, 1, 2, 2, 0, 3, 0, 3, 2, 2, 3, 2, 1, 2, 2, 5, 1, 1, 4, 2, 3, 4, 5, 3, 3, 3, 0, 1, 5, 2, 4, 5, 0, 1, 0, 5, 2, 0, 5, 2, 2, 5, 2, 4, 3, 5, 5, 4, 4, 1, 4, 1, 0, 2, 3, 5, 0, 1, 3, 3, 1, 3, 1, 4, 0, 0, 2, 3, 5, 0, 5, 1, 0, 2, 2, 0, 3, 3, 3, 3, 2, 2, 3, 1, 4, 2, 2, 5, 3, 3, 2, 5, 3, 0, 2, 0, 2, 3, 1, 2, 1, 4, 0, 4, 4, 2, 3, 5, 3, 2, 3, 4, 0, 3, 2, 1, 2, 0, 5, 3, 0, 3, 3, 1, 0, 5, 1, 5, 4, 2, 2, 1, 0, 3, 0, 0, 1, 0, 0, 1, 4, 3, 5, 3, 2, 4, 5, 1, 2, 4, 2, 2, 4, 2, 5, 0, 3, 3, 5, 4, 4, 5, 0, 0, 3, 4, 5, 2, 0, 1, 2, 2, 4, 5, 5, 1, 4, 2, 5, 3, 2, 3, 5, 4, 1, 0, 5, 1, 2, 3, 5, 5, 5, 3, 1, 1, 2, 5, 2, 2, 2, 0, 0, 4, 5, 0, 4, 5, 5, 5, 0, 3, 4, 2, 3, 4, 4, 5, 2, 4, 5, 0, 5, 3, 4, 0, 2, 2, 2, 4, 1, 2, 5, 1, 2, 2, 3, 4, 1, 3, 4, 3, 3, 0, 1, 3, 2, 3, 2, 0, 0, 2, 2, 3, 0, 5, 2, 0, 4, 3, 4, 4, 4, 4, 2, 1, 3, 4, 4, 5, 1, 1, 3, 2, 0, 5, 3, 3, 5, 0, 0, 3, 1, 3, 4, 5, 1, 4, 0, 0, 0, 5, 3, 4, 0, 3, 2, 5, 0, 2, 1, 2, 2, 2, 1, 1, 1, 0, 0, 2, 3, 0, 5, 3, 5, 3, 2, 0, 2, 1, 1, 4, 5, 3, 3, 2, 0, 4, 2, 3, 3, 4, 1, 2, 4, 0, 1, 4, 5, 1, 1, 0, 3, 3, 3, 1, 5, 1, 0, 2, 3, 0, 3, 4, 2, 3, 3, 0, 3, 2, 3, 4, 4, 5, 3, 1, 5, 3, 3, 2, 4, 5, 1, 2, 0, 3, 2, 4, 3, 3, 2, 4, 3, 4, 2, 3, 0, 4, 0, 0, 0, 1, 1, 5, 2, 3, 4, 0, 5, 4, 2, 0, 0, 5, 3, 5, 0, 4, 3, 5, 1, 1, 0, 0, 2, 3, 5, 2, 4, 5, 4, 0, 0, 2, 4, 3, 3, 0, 3, 3, 3, 2, 2, 3, 3, 5, 1, 3, 0, 4, 2, 0, 3, 4, 5, 3, 5, 1, 2, 5, 2, 2, 2, 2, 2, 0, 0, 2, 5, 4, 4, 3, 2, 2, 0, 0, 4, 5, 1, 3, 4, 3, 3, 5, 1, 3, 1, 5, 3, 2, 2, 4, 2, 0, 4, 4, 1, 3, 3, 2, 4, 1, 1, 5, 4, 5, 1, 2, 3, 2, 0, 2, 0, 1, 2, 5, 0, 4, 1, 3, 1, 1, 0, 3, 1, 2, 5, 5, 4, 0, 2, 4, 1, 0, 0, 2, 0, 4, 5, 5, 5, 2, 4, 0, 5, 2, 1, 1, 2, 5, 3, 3, 1, 4, 0, 5, 5, 0, 1, 0, 0, 3, 2, 1, 4, 1, 5, 2, 5, 2, 5, 2, 0, 5, 3, 5, 0, 2, 3, 0, 1, 5, 2, 5, 4, 2, 5, 4, 5, 5, 4, 5, 4, 1, 3, 3, 3, 5, 2, 4, 0, 0, 5, 2, 3, 5, 2, 1, 1, 1, 5, 4, 0, 2, 5, 0, 4, 5, 3, 3, 4, 5, 5, 4, 2, 2, 4, 2, 1, 4, 3, 5, 2, 0, 4, 0, 1, 1, 3, 4, 1, 0, 3, 5, 4, 1, 1, 2, 2, 4, 3, 3, 4, 3, 5, 5, 1, 0, 3, 3, 2, 1, 0, 1, 2, 0, 4, 0, 0, 5, 2, 3, 1, 2, 0, 3, 2, 4, 5, 0, 0, 5, 3, 0, 3, 2, 0, 0, 5, 1, 2, 0, 5, 3, 0, 2, 4, 5, 5, 0, 2, 0, 0, 1, 1, 1, 3, 2, 1, 2, 0, 5, 2, 5, 1, 2, 0, 1, 0, 3, 3, 0, 3, 5, 4, 1, 1, 5, 1, 1, 5, 1, 5, 5, 2, 0, 4, 4, 3, 2, 3, 5, 2, 0, 5, 5, 4, 2, 2, 1, 1, 5, 5, 3, 3, 1, 4, 0, 5, 3, 5, 3, 5, 1, 1, 1, 4, 2, 4, 4, 5, 1, 3, 4, 1, 5, 1, 1, 4, 3, 2, 2, 2, 2, 3, 2, 2, 3, 0, 5, 4, 3, 4, 5, 4, 1, 3, 3, 5, 0, 5, 5, 4, 4, 4, 5, 0, 2, 5, 0, 0, 0, 1, 0, 2, 4, 1, 5, 0, 2, 4, 3, 5, 1, 2, 3, 1, 0, 1, 5, 4, 3, 0, 3, 1, 3, 4, 5, 5, 1, 3, 1, 5, 2, 0, 3, 5, 2, 3, 0, 3, 1, 3, 3, 4, 0, 5, 3, 5, 4, 1, 0, 0, 3, 4, 1, 3, 5, 3, 0, 2, 5, 0, 4, 1, 0, 3, 4, 5, 4, 5, 2, 1, 0, 1, 3, 2, 1, 3, 0, 5, 0, 2, 0, 1, 2, 4, 0, 4, 3, 0, 0, 3, 4, 2, 0, 2, 1, 1, 0, 4, 1, 2, 1, 3, 0, 0, 5, 5, 0, 1, 5, 5, 4, 0, 4, 0, 5, 4, 3, 2, 3, 5, 0, 2, 2, 5, 0, 1, 5, 3, 0, 5, 3, 2, 1, 2, 2, 2, 4, 4, 0, 2, 3, 0, 2, 2, 0, 0, 0, 1, 1, 5, 3, 3, 5, 4, 3, 5, 3, 0, 3, 5, 3, 4, 3, 5, 4, 2, 4, 2, 5, 4, 3, 5, 2, 5, 5, 4, 3, 3, 5, 1, 3, 1, 5, 5, 3, 5, 4, 4, 0, 4, 2, 4, 2, 5, 0, 4, 1, 3, 1, 3, 5, 3, 2, 4, 0, 4, 3, 2, 4, 2, 3, 0, 0, 3, 2, 1, 1, 3, 2, 5, 1, 0, 1, 2, 4, 1, 1, 3, 0, 0, 0, 2, 0, 3, 4, 3, 5, 4, 1, 5, 1, 3, 5, 5, 2, 2, 4, 1, 0, 5, 3, 5, 2, 2, 4, 1, 2, 5, 1, 5, 1, 2, 1, 0, 0, 3, 4, 4, 4, 0, 5, 4, 1, 2, 3, 1, 5, 4, 2, 0, 5, 2, 4, 2, 3, 3, 1, 4, 5, 1, 2, 5, 3, 3, 5, 3, 1, 5, 3, 5, 2, 0, 5, 1, 3, 4, 1, 3, 2, 0, 2, 4, 1, 2, 1, 5, 2, 2, 5, 3, 4, 1, 2, 5, 5, 5, 4, 0, 5, 2, 1, 4, 4, 2, 3, 5, 2, 2, 3, 5, 2, 0, 5, 2, 2, 4, 0, 5, 5, 0, 5, 3, 3, 0, 5, 3, 1, 4, 5, 2, 4, 1, 5, 3, 4, 5, 3, 3, 2, 0, 5, 3, 4, 3, 2, 5, 4, 3, 4, 0, 5, 3, 2, 0, 5, 0, 2, 0, 0, 5, 4, 1, 1, 1, 5, 1, 1, 5, 3, 5, 2, 3, 3, 0, 5, 1, 0, 1, 5, 4, 4, 5, 1, 5, 4, 3, 0, 4, 3, 3, 5, 5, 3, 1, 2, 3, 0, 1, 1, 1, 0, 3, 2, 1, 4, 2, 4, 2, 1, 2, 1, 0, 3, 2, 2, 4, 4, 1, 0, 1, 4, 0, 5, 3, 4, 5, 0, 4, 0, 1, 1, 0, 4, 0, 3, 3, 2, 5, 5, 4, 4, 1, 5, 3, 5, 0, 2, 1, 1, 2, 5, 4, 5, 4, 4, 3, 1, 5, 1, 3, 3, 2, 0, 2, 4, 0, 4, 4, 4, 0, 5, 4, 4, 0, 5, 4, 4, 3, 0, 3, 3, 4, 0, 3, 4, 4, 4, 2, 5, 1, 5, 2, 1, 3, 3, 2, 5, 1, 2, 5, 2, 2, 0, 0, 4, 5, 5, 2, 0, 1, 4, 1, 5, 2, 3, 5, 4, 3, 5, 4, 4, 4, 4, 4, 4, 2, 4, 5, 1, 3, 5, 3, 5, 0, 2, 4, 3, 5, 3, 0, 5, 2, 3, 0, 3, 1, 4, 5, 5, 1, 4, 1, 3, 0, 0, 5, 1, 1, 2, 5, 5, 1, 2, 2, 3, 3, 1, 0, 2, 4, 2, 0, 3, 2, 1, 2, 1, 2, 2, 1, 0, 3, 5, 2, 4, 0, 1, 0, 2, 1, 5, 3, 1, 5, 3, 1, 5, 2, 2, 2, 0, 1, 5, 0, 1, 3, 4, 5, 2, 0, 2, 5, 3, 3, 4, 3, 4, 3, 1, 5, 4, 3, 0, 5, 0, 2, 3, 2, 5, 1, 3, 5, 0, 0, 4, 0, 2, 0, 2, 1, 3, 0, 2, 2, 2, 0, 1, 2, 0, 1, 0, 4, 4, 3, 4, 2, 2, 4, 4, 5, 5, 0, 2, 4, 2, 3, 5, 5, 0, 1, 0, 0, 0, 0, 5, 3, 0, 3, 0, 5, 4, 5, 0, 2, 2, 5, 3, 2, 2, 3, 5, 2, 1, 1, 3, 4, 4, 4, 0, 3, 3, 1, 5, 0, 3, 0, 2, 3, 5, 1, 0, 2, 5, 5, 0, 4, 2, 2, 5, 3, 2, 0, 5, 5, 4, 1, 5, 2, 0, 0, 4, 4, 2, 5, 5, 1, 5, 2, 3, 4, 0, 5, 3, 2, 0, 5, 1, 3, 5, 2, 5, 1, 2, 2, 1, 1, 0, 5, 0, 2, 0, 4, 1, 2, 1, 3, 0, 5, 0, 3, 0, 2, 3, 1, 5, 2, 0, 0, 5, 2, 4, 4, 4, 5, 5, 5, 1, 0, 4, 5, 1, 1, 3, 0, 0, 2, 4, 0, 4, 4, 2, 3, 0, 5, 1, 2, 3, 3, 3, 3, 5, 2, 2, 0, 2, 4, 2, 3, 2, 1, 4, 2, 3, 0, 3, 2, 2, 2, 0, 5, 0, 5, 3, 1, 5, 3, 3, 3, 3, 2, 4, 0, 3, 1, 3, 2, 1, 0, 1, 1, 1, 2, 5, 3, 3, 2, 1, 2, 3, 5, 2, 1, 1, 1, 5, 0, 3, 4, 5, 2, 2, 0, 0, 5, 3, 5, 5, 3, 2, 3, 1, 1, 2, 0, 3, 3, 5, 4, 1, 0, 0, 4, 3, 2, 3, 0, 2, 4, 2, 3, 1, 5, 5, 1, 1, 4, 1, 5, 3, 5, 0, 2, 1, 3, 4, 0, 1, 3, 3, 3, 5, 1, 2, 1, 3, 2, 5, 2, 3, 1, 3, 3, 4, 0, 5, 0, 4, 3, 4, 1, 5, 1, 0, 4, 3, 1, 5, 2, 2, 3, 3, 1, 2, 1, 5, 5, 1, 2, 0, 3, 0, 4, 5, 3, 5, 4, 3, 4, 0, 2, 5, 3, 4, 2, 0, 5, 2, 2, 3, 2, 3, 2, 4, 1, 0, 5, 1, 3, 1, 4, 3, 3, 4, 3, 2, 5, 2, 4, 5, 2, 1, 5, 3, 4, 4, 1, 3, 2, 1, 1, 2, 0, 0, 5, 0, 5, 5, 3, 3, 4, 0, 0, 2, 3, 4, 3, 3, 1, 1, 3, 3, 2, 2, 2, 3, 1, 1, 2, 5, 5, 1, 5, 3, 3, 3, 3, 3, 4, 5, 3, 4, 4, 0, 3, 0, 4, 2, 5, 3, 5, 4, 5, 1, 5, 2, 5, 5, 0, 2, 3, 5, 2, 3, 3, 4, 2, 1, 4, 1, 1, 2, 1, 2, 5, 0, 1, 0, 0, 4, 3, 3, 1, 4, 2, 2, 1, 3, 3, 0, 5, 1, 3, 4, 1, 5, 1, 0, 3, 1, 3, 0, 5, 5, 5, 4, 2, 1, 3, 0, 4, 3, 4, 3, 2, 2, 0, 3, 4, 5, 4, 0, 2, 2, 0, 5, 5, 5, 1, 2, 4, 4, 0, 3, 4, 0, 3, 2, 1, 1, 5, 4, 3, 4, 0, 5, 0, 3, 5, 4, 4, 4, 3, 4, 1, 5, 0, 4, 1, 4, 3, 0, 0, 3, 4, 2, 4, 4, 1, 4, 2, 2, 0, 2, 4, 1, 0, 0, 4, 0, 0, 2, 5, 3, 4, 4, 1, 5, 5, 5, 0, 5, 1, 3, 2, 3, 1, 3, 2, 2, 0, 2, 2, 4, 2, 2, 4, 4, 4, 4, 5, 1, 3, 3, 3, 0, 2, 0, 3, 2, 5, 2, 2, 0, 2, 0, 1, 2, 1, 2, 3, 3, 5, 4, 3, 0, 4, 4, 5, 1, 3, 5, 5, 2, 2, 0, 3, 0, 1, 5, 0, 5, 5, 2, 2, 1, 5, 5, 3, 0, 1, 5, 4, 4, 2, 0, 2, 3, 3, 0, 3, 3, 3, 0, 1, 1, 2, 2, 1, 4, 2, 1, 5, 5, 0, 1, 5, 4, 5, 2, 0, 5, 5, 3, 3, 1, 2, 3, 0, 2, 5, 0, 5, 2, 1, 3, 3, 1, 5, 4, 4, 1, 1, 5, 4, 5, 3, 2, 4, 5, 0, 2, 2, 1, 4, 0, 2, 5, 1, 0, 3, 3, 1, 2, 1, 5, 2, 4, 4, 5, 2, 5, 3, 1, 1, 2, 3, 3, 1, 5, 0, 5, 5, 3, 3, 3, 0, 5, 4, 0, 1, 2, 1, 2, 0, 1, 5, 3, 2, 1, 0, 3, 0, 0, 2, 3, 1, 4, 4, 3, 1, 3, 4, 3, 3, 0, 3, 1, 2, 2, 0, 4, 5, 0, 3, 0, 1, 1, 1, 2, 1, 2, 1, 2, 2, 5, 5, 3, 4, 1, 0, 2, 5, 0, 4, 0, 1, 2, 5, 5, 3, 5, 2, 3, 5, 4, 0, 4, 2, 0, 1, 5, 5, 4, 4, 3, 5, 0, 4, 4, 0, 1, 2, 0, 5, 4, 5, 1, 1, 5, 3, 4, 2, 5, 5, 4, 3, 0, 0, 3, 4, 5, 3, 3, 1, 4, 3, 2, 4, 2, 2, 1, 0, 4, 3, 5, 2, 5, 4, 2, 4, 1, 5, 3, 5, 5, 2, 3, 5, 4, 1, 5, 2, 4, 1, 2, 1, 3, 3, 0, 3, 2, 5, 0, 2, 3, 0, 1, 1, 2, 0, 4, 2, 3, 0, 2, 2, 1, 0, 1, 3, 1, 5, 5, 3, 2, 1, 1, 3, 1, 4, 1, 2, 1, 1, 1, 5, 1, 1, 2, 5, 2, 3, 3, 4, 5, 4, 5, 0, 3, 4, 1, 4, 3, 0, 2, 3, 4, 4, 4, 5, 2, 3, 1, 3, 1, 3, 4, 5, 3, 5, 1, 0, 5, 4, 0, 2, 3, 4, 3, 4, 4, 2, 3, 0, 0, 5, 5, 3, 3, 3, 3, 3, 5, 5, 0, 3, 0, 4, 1, 5, 1, 1, 4, 1, 1, 1, 5, 0, 5, 5, 4, 3, 2, 4, 4, 5, 0, 3, 0, 2, 0, 2, 2, 1, 3, 2, 3, 3, 3, 3, 2, 2, 5, 1, 3, 0, 2, 0, 5, 3, 2, 3, 3, 1, 2, 3, 4, 3, 3, 4, 1, 4, 3, 0, 2, 2, 5, 0, 5, 2, 0, 2, 5, 3, 1, 3, 5, 0, 3, 2, 1, 5, 4, 5, 0, 1, 3, 0, 1, 3, 0, 4, 2, 2, 4, 0, 3, 2, 3, 2, 4, 0, 1, 5, 5, 4, 5, 0, 4, 1, 4, 5, 1, 4, 5, 5, 1, 4, 2, 2, 5, 1, 3, 4, 0, 5, 3, 3, 3, 0, 0, 5, 3, 2, 0, 3, 1, 5, 0, 1, 4, 2, 2, 0, 4, 4, 5, 3, 5, 4, 5, 2, 5, 0, 3, 4, 1, 2, 2, 0, 2, 1, 2, 3, 2, 3, 5, 4, 5, 5, 0, 4, 5, 1, 1, 5, 0, 3, 2, 4, 4, 2, 5, 5, 5, 2, 1, 3, 2, 4, 5, 5, 5, 2, 2, 2, 3, 2, 4, 4, 5, 3, 0, 2, 1, 2, 1, 5, 2, 2, 1, 1, 2, 5, 5, 1, 2, 4, 3, 3, 3, 0, 0, 4, 5, 5, 2, 4, 4, 4, 3, 4, 3, 5, 4, 0, 2, 2, 5, 5, 5, 2, 1, 2, 3, 0, 5, 5, 5, 5, 1, 2, 4, 0, 2, 0, 1, 3, 5, 2, 3, 3, 2, 4, 3, 2, 5, 1, 3, 2, 0, 2, 0, 0, 2, 3, 1, 2, 3, 1, 1, 4, 0, 5, 5, 3, 1, 0, 4, 3, 4, 5, 3, 5, 0, 4, 2, 1, 2, 0, 1, 0, 3, 2, 4, 5, 3, 0, 2, 5, 3, 1, 2, 1, 1, 1, 5, 4, 5, 2, 5, 1, 1, 2, 2, 0, 1, 4, 5, 5, 0, 4, 5, 3, 3, 1, 2, 3, 3, 0, 2, 5, 2, 5, 0, 1, 5, 4, 2, 3, 5, 5, 0, 4, 3, 1, 3, 2, 5, 4, 0, 4, 5, 5, 0, 3, 4, 0, 2, 1, 2, 4, 3, 4, 2, 3, 2, 1, 0, 1, 2, 1, 4, 3, 3, 1, 0, 1, 3, 3, 5, 2, 0, 0, 1, 2, 0, 2, 0, 2, 3, 0, 4, 3, 5, 5, 2, 0, 2, 3, 5, 5, 4, 4, 5, 1, 1, 3, 3, 1, 1, 1, 1, 1, 2, 2, 0, 0, 3, 3, 0, 3, 2, 5, 3, 1, 5, 0, 3, 1, 3, 5, 4, 4, 0, 0, 0, 0, 0, 0, 2, 5, 5, 4, 0, 2, 5, 2, 3, 4, 4, 1, 2, 0, 5, 3, 3, 5, 3, 5, 5, 3, 3, 2, 1, 2, 0, 0, 2, 0, 2, 4, 0, 5, 4, 5, 0, 3, 2, 3, 3, 5, 0, 5, 2, 4, 1, 1, 5, 3, 2, 3, 0, 5, 2, 1, 1, 0, 4, 0, 3, 2, 5, 1, 2, 2, 2, 4, 5, 2, 0, 1, 4, 4, 0, 1, 0, 5, 2, 4, 3, 0, 4, 5, 3, 1, 0, 3, 5, 5, 5, 2, 5, 3, 2, 5, 2, 4, 1, 1, 5, 0, 1, 2, 3, 0, 2, 5, 3, 1, 4, 1, 1, 2, 5, 0, 4, 0, 4, 4, 4, 1, 4, 3, 0, 0, 1, 5, 4, 1, 2, 4, 4, 5, 5, 2, 5, 5, 3, 3, 5, 2, 1, 2, 5, 2, 4, 3, 0, 1, 0, 0, 1, 1, 1, 0, 1, 0, 5, 3, 2, 0, 3, 3, 1, 4, 3, 2, 0, 5, 2, 5, 5, 2, 4, 5, 3, 5, 2, 1, 2, 1, 3, 5, 4, 3, 5, 0, 0, 2, 5, 3, 2, 4, 1, 5, 5, 1, 5, 1, 1, 4, 5, 5, 3, 1, 1, 4, 5, 0, 0, 2, 3, 2, 0, 2, 1, 2, 5, 5, 0, 3, 4, 0, 0, 2, 4, 1, 5, 1, 5, 5, 5, 0, 2, 3, 4, 0, 4, 1, 5, 1, 2, 1, 1, 0, 0, 2, 3, 3, 0, 0, 5, 1, 2, 5, 4, 4, 3, 5, 3, 5, 1, 0, 1, 0, 0, 0, 0, 5, 0, 1, 0, 0, 5, 2, 1, 5, 3, 5, 3, 3, 5, 0, 2, 0, 3, 1, 5, 0, 0, 3, 1, 0, 2, 2, 4, 2, 4, 1, 1, 1, 2, 1, 3, 0, 3, 1, 3, 0, 2, 5, 3, 5, 0, 5, 0, 1, 3, 1, 4, 4, 2, 4, 3, 1, 2, 4, 3, 0, 0, 1, 1, 3, 0, 0, 5, 1, 3, 0, 2, 5, 1, 4, 3, 2, 0, 2, 4, 4, 5, 0, 4, 3, 5, 5, 3, 5, 1, 3, 1, 2, 0, 2, 5, 1, 2, 0, 0, 0, 2, 0, 2, 5, 5, 1, 3, 1, 5, 5, 4, 1, 2, 1, 0, 1, 0, 2, 1, 2, 3, 3, 0, 3, 3, 1, 3, 0, 3, 3, 3, 5, 2, 3, 0, 5, 3, 3, 3, 2, 3, 0, 4, 3, 2, 0, 4, 2, 1, 4, 5, 4, 3, 2, 0, 0, 2, 0, 5, 3, 3, 0, 4, 2, 2, 2, 3, 2, 5, 5, 2, 2, 5, 4, 0, 5, 4, 4, 0, 5, 0, 0, 3, 2, 0, 4, 0, 5, 5, 3, 1, 4, 0, 3, 3, 0, 0, 2, 5, 4, 5, 2, 1, 2, 1, 3, 0, 1, 2, 1, 2, 0, 1, 0, 4, 2, 2, 1, 5, 5, 0, 2, 3, 3, 0, 4, 0, 4, 5, 1, 1, 0, 2, 0, 5, 0, 4, 2, 2, 2, 4, 0, 2, 3, 2, 0, 1, 3, 0, 4, 4, 3, 5, 5, 3, 2, 2, 2, 1, 1, 2, 4, 0, 1, 2, 1, 1, 0, 4, 5, 0, 1, 0, 3, 2, 5, 4, 2, 2, 0, 4, 1, 2, 5, 3, 2, 4, 5, 1, 1, 1, 0, 0, 1, 5, 1, 0, 1, 4, 2, 4, 3, 5, 0, 4, 0, 5, 1, 5, 3, 4, 0, 2, 0, 4, 5, 1, 1, 1, 5, 4, 0, 3, 1, 1, 4, 5, 3, 3, 5, 5, 3, 0, 5, 5, 5, 5, 2, 1, 2, 1, 3, 0, 1, 5, 1, 5, 5, 1, 2, 1, 2, 4, 0, 2, 1, 0, 3, 4, 2, 5, 2, 4, 5, 5, 0, 4, 3, 2, 4, 1, 2, 2, 4, 1, 1, 5, 2, 5, 5, 1, 4, 2, 2, 1, 0, 3, 5, 3, 1, 5, 2, 0, 1, 0, 4, 5, 0, 2, 1, 0, 4, 5, 3, 1, 1, 5, 0, 3, 5, 2, 2, 3, 0, 4, 5, 1, 5, 3, 1, 1, 0, 4, 5, 4, 0, 3, 0, 2, 2, 0, 0, 1, 2, 4, 5, 1, 2, 2, 2, 5, 1, 2, 2, 3, 3, 5, 2, 3, 2, 2, 5, 0, 0, 4, 2, 4, 0, 1, 0, 4, 5, 3, 0, 1, 4, 3, 0, 5, 3, 3, 5, 0, 0, 1, 0, 3, 2, 1, 2, 2, 3, 5, 2, 2, 1, 2, 4, 5, 4, 1, 5, 1, 3, 0, 2, 4, 3, 4, 3, 2, 2, 0, 0, 4, 3, 5, 3, 5, 0, 4, 3, 0, 0, 3, 2, 1, 0, 5, 4, 3, 1, 3, 1, 3, 1, 3, 4, 5, 0, 1, 0, 5, 3, 5, 1, 4, 1, 5, 2, 5, 3, 2, 5, 5, 4, 0, 1, 2, 2, 4, 4, 3, 1, 1, 5, 2, 4, 1, 4, 4, 1, 4, 2, 3, 2, 3, 5, 2, 4, 0, 4, 4, 1, 2, 3, 2, 1, 5, 5, 2, 2, 1, 5, 0, 1, 4, 5, 3, 4, 3, 1, 0, 3, 5, 4, 1, 5, 0, 3, 2, 1, 5, 4, 2, 4, 4, 5, 3, 1, 1, 3, 2, 1, 0, 0, 0, 3, 3, 5, 5, 3, 2, 2, 3, 4, 1, 0, 0, 3, 1, 3, 3, 1, 2, 0, 0, 1, 4, 4, 5, 1, 5, 4, 1, 1, 3, 4, 3, 2, 2, 5, 4, 5, 1, 0, 1, 2, 3, 3, 0, 5, 5, 5, 4, 0, 2, 0, 0, 2, 2, 0, 5, 2, 5, 4, 0, 4, 0, 2, 1, 0, 2, 0, 3, 1, 3, 5, 2, 2, 2, 0, 1, 2, 4, 4, 2, 0, 2, 5, 0, 3, 4, 5, 3, 2, 0, 0, 3, 4, 0, 0, 3, 3, 4, 5, 5, 0, 0, 5, 0, 4, 5, 3, 1, 5, 2, 5, 2, 0, 2, 1, 5, 2, 2, 3, 0, 5, 1, 5, 4, 3, 3, 0, 3, 4, 4, 0, 0, 3, 5, 5, 1, 1, 1, 3, 5, 3, 0, 5, 3, 3, 5, 0, 2, 4, 4, 1, 1, 1, 0, 3, 2, 5, 3, 1, 4, 1, 2, 3, 0, 3, 0, 4, 5, 5, 4, 3, 2, 0, 3, 2, 2, 0, 2, 5, 3, 4, 0, 4, 0, 4, 4, 4, 2, 3, 2, 0, 2, 3, 3, 0, 3, 5, 0, 1, 2, 5, 5, 3, 3, 2, 0, 5, 3, 2, 3, 4, 4, 4, 4, 5, 0, 4, 3, 3, 5, 5, 2, 4, 4, 2, 3, 1, 5, 2, 2, 0, 1, 0, 4, 2, 0, 3, 1, 1, 0, 1, 5, 0, 3, 2, 5, 5, 5, 2, 3, 3, 2, 3, 5, 2, 0, 1, 3, 2, 0, 4, 2, 2, 3, 0, 5, 1, 0, 4, 0, 4, 1, 5, 2, 0, 3, 5, 4, 2, 2, 0, 1, 1, 0, 5, 3, 4, 4, 3, 1, 5, 2, 5, 2, 1, 0, 3, 2, 3, 5, 5, 5, 3, 1, 1, 0, 5, 1, 5, 3, 0, 4, 2, 4, 4, 3, 1, 3, 2, 2, 2, 0, 0, 5, 4, 1, 2, 5, 4, 0, 5, 3, 1, 1, 3, 0, 0, 2, 2, 4, 3, 2, 5, 1, 1, 5, 4, 1, 3, 2, 1, 1, 3, 1, 4, 0, 0, 5, 2, 2, 3, 0, 0, 0, 0, 0, 5, 5, 3, 0, 5, 5, 2, 4, 5, 5, 0, 3, 0, 0, 1, 5, 4, 2, 3, 5, 4, 5, 5, 3, 0, 3, 4, 2, 3, 2, 0, 2, 5, 1, 0, 2, 1, 4, 5, 0, 3, 5, 2, 2, 1, 1, 0, 5, 5, 4, 4, 4, 3, 2, 0, 2, 3, 4, 4, 4, 1, 1, 5, 0, 3, 4, 1, 2, 5, 5, 4, 3, 4, 0, 4, 5, 1, 0, 1, 4, 2, 3, 3, 2, 4, 3, 3, 4, 2, 5, 3, 3, 3, 2, 5, 5, 3, 4, 1, 1, 5, 3, 0, 4, 4, 5, 1, 5, 0, 4, 1, 3, 2, 3, 4, 3, 0, 0, 3, 2, 5, 1, 0, 4, 5, 0, 1, 5, 1, 0, 2, 3, 4, 3, 0, 2, 1, 1, 1, 2, 4, 4, 0, 0, 5, 1, 3, 4, 2, 1, 2, 1, 3, 1, 1, 2, 1, 0, 2, 2, 0, 1, 4, 2, 2, 5, 0, 1, 2, 5, 0, 0, 1, 5, 2, 5, 0, 4, 4, 0, 2, 5, 0, 4, 5, 3, 0, 0, 4, 5, 2, 0, 3, 2, 1, 1, 3, 1, 5, 4, 4, 3, 2, 0, 0, 5, 2, 5, 3, 3, 4, 0, 5, 1, 2, 1, 3, 4, 3, 0, 1, 4, 5, 4, 4, 5, 4, 4, 5, 3, 4, 2, 2, 0, 0, 0, 3, 3, 5, 0, 0, 1, 4, 4, 3, 2, 4, 0, 4, 2, 1, 5, 5, 1, 3, 1, 4, 2, 2, 3, 0, 1, 2, 2, 2, 2, 5, 5, 4, 4, 5, 2, 4, 5, 1, 3, 0, 3, 5, 3, 3, 0, 0, 2, 1, 4, 4, 0, 1, 3, 0, 2, 1, 3, 1, 4, 2, 2, 2, 0, 3, 5, 0, 4, 5, 3, 5, 0, 2, 0, 3, 3, 0, 2, 4, 0, 4, 0, 0, 4, 3, 4, 3, 1, 1, 0, 4, 3, 4, 5, 0, 3, 4, 0, 4, 5, 1, 3, 2, 2, 0, 4, 0, 4, 4, 0, 3, 4, 0, 5, 5, 2, 5, 5, 0, 2, 3, 5, 1, 3, 3, 4, 5, 2, 5, 3, 1, 0, 2, 1, 4, 3, 5, 0, 0, 4, 3, 3, 1, 5, 5, 3, 3, 3, 5, 0, 2, 4, 5, 5, 3, 1, 3, 5, 5, 0, 3, 1, 1, 0, 5, 5, 0, 5, 0, 4, 4, 2, 0, 3, 4, 2, 2, 5, 4, 4, 0, 0, 0, 2, 2, 1, 3, 4, 5, 2, 3, 1, 1, 0, 1, 2, 1, 3, 2, 2, 4, 4, 1, 3, 1, 3, 1, 3, 3, 0, 3, 2, 5, 2, 1, 2, 3, 0, 3, 0, 0, 0, 1, 3, 2, 5, 0, 3, 5, 5, 1, 2, 1, 1, 4, 0, 3, 3, 2, 0, 2, 5, 3, 3, 5, 3, 1, 5, 1, 4, 4, 2, 0, 4, 3, 1, 3, 3, 5, 0, 1, 5, 1, 4, 1, 0, 2, 4, 1, 4, 3, 0, 4, 3, 0, 0, 3, 1, 4, 4, 5, 1, 2, 1, 3, 5, 2, 1, 5, 3, 1, 1, 4, 4, 2, 5, 1, 4, 2, 3, 0, 4, 1, 4, 0, 5, 2, 1, 1, 0, 3, 2, 4, 5, 2, 0, 5, 2, 5, 3, 2, 2, 4, 3, 5, 0, 1, 2, 2, 4, 0, 5, 2, 4, 5, 0, 5, 0, 1, 3, 1, 2, 3, 0, 5, 3, 5, 5, 3, 0, 1, 3, 5, 1, 3, 4, 1, 2, 2, 3, 2, 5, 0, 2, 4, 0, 2, 5, 2, 4, 1, 0, 0, 1, 1, 5, 0, 2, 5, 2, 3, 2, 3, 0, 5, 4, 4, 0, 3, 3, 4, 4, 4, 4, 0, 3, 5, 4, 2, 1, 4, 3, 5, 1, 1, 0, 0, 3, 1, 3, 5, 4, 3, 3, 5, 2, 2, 5, 3, 0, 4, 0, 5, 5, 4, 3, 2, 5, 0, 0, 4, 5, 2, 2, 5, 4, 1, 3, 2, 3, 2, 5, 0, 3, 5, 3, 2, 5, 4, 4, 2, 4, 1, 2, 3, 1, 4, 1, 4, 5, 3, 0, 0, 3, 4, 2, 2, 1, 4, 5, 1, 0, 3, 2, 5, 2, 5, 4, 4, 3, 2, 3, 4, 2, 2, 5, 3, 4, 1, 3, 4, 3, 5, 5, 4, 2, 0, 0, 0, 4, 5, 5, 2, 3, 2, 2, 0, 2, 0, 5, 4, 0, 2, 3, 0, 1, 3, 4, 4, 2, 4, 5, 0, 4, 1, 2, 3, 3, 5, 5, 0, 5, 5, 2, 1, 0, 1, 3, 0, 2, 3, 4, 5, 2, 0, 2, 1, 0, 2, 3, 3, 5, 0, 5, 5, 0, 2, 2, 0, 0, 5, 4, 4, 2, 1, 5, 3, 3, 0, 3, 1, 3, 4, 1, 1, 2, 4, 4, 2, 5, 1, 0, 4, 4, 2, 1, 3, 1, 2, 2, 1, 4, 5, 5, 1, 1, 5, 3, 5, 3, 1, 5, 3, 3, 0, 5, 5, 0, 3, 2, 5, 1, 1, 0, 3, 1, 1, 5, 1, 1, 5, 2, 4, 5, 5, 2, 0, 5, 0, 2, 3, 1, 3, 2, 1, 4, 2, 4, 1, 2, 4, 1, 1, 2, 4, 4, 0, 5, 0, 5, 3, 3, 3, 0, 3, 5, 1, 5, 2, 2, 4, 1, 1, 5, 4, 4, 2, 3, 1, 3, 4, 3, 1, 4, 1, 0, 3, 1, 3, 5, 5, 0, 5, 0, 1, 4, 4, 2, 5, 2, 2, 5, 0, 5, 0, 0, 1, 4, 4, 2, 3, 1, 2, 5, 5, 1, 0, 2, 1, 1, 5, 5, 2, 5, 4, 5, 4, 0, 2, 2, 5, 0, 0, 1, 1, 4, 3, 5, 1, 3, 1, 2, 3, 5, 0, 3, 3, 4, 2, 4, 4, 1, 2, 1, 2, 1, 4, 0, 2, 2, 4, 4, 5, 5, 0, 2, 1, 4, 1, 4, 4, 2, 4, 4, 0, 2, 3, 2, 3, 2, 3, 3, 1, 2, 4, 4, 3, 4, 1, 2, 1, 3, 1, 2, 2, 5, 2, 4, 2, 5, 1, 0, 4, 3, 1, 4, 2, 4, 4, 5, 5, 2, 2, 5, 1, 2, 3, 3, 5, 0, 0, 0, 2, 5, 3, 3, 2, 1, 1, 1, 2, 0, 3, 1, 4, 0, 2, 0, 2, 3, 3, 5, 2, 3, 0, 3, 2, 2, 1, 5, 4, 5, 2, 2, 3, 3, 0, 0, 3, 3, 1, 5, 1, 2, 4, 4, 0, 0, 0, 4, 5, 0, 4, 1, 0, 5, 4, 0, 3, 0, 3, 4, 1, 2, 2, 3, 1, 5, 2, 5, 3, 5, 1, 3, 3, 3, 5, 4, 1, 0, 1, 5, 0, 3, 2, 1, 4, 0, 2, 0, 0, 2, 5, 4, 5, 2, 4, 2, 5, 2, 0, 1, 1, 3, 4, 2, 5, 0, 2, 0, 2, 3, 3, 1, 2, 3, 2, 5, 4, 4, 5, 2, 2, 4, 2, 4, 1, 0, 5, 2, 3, 5, 3, 0, 2, 2, 4, 1, 3, 5, 1, 4, 0, 5, 2, 5, 0, 2, 0, 0, 1, 3, 0, 3, 3, 5, 5, 0, 1, 1, 2, 2, 2, 3, 0, 1, 5, 0, 0, 3, 0, 2, 2, 0, 3, 5, 5, 5, 0, 0, 5, 4, 2, 3, 0, 4, 2, 0, 1, 1, 2, 4, 3, 2, 1, 0, 2, 2, 2, 0, 4, 0, 3, 0, 3, 4, 1, 2, 1, 5, 5, 2, 2, 1, 2, 3, 0, 1, 4, 5, 2, 5, 5, 0, 4, 3, 3, 2, 1, 5, 5, 1, 5, 2, 1, 2, 4, 4, 0, 0, 5, 2, 4, 2, 3, 3, 5, 5, 2, 5, 3, 0, 2, 5, 4, 5, 4, 1, 2, 3, 0, 1, 3, 5, 3, 2, 3, 1, 3, 0, 5, 2, 2, 1, 1, 3, 3, 1, 0, 4, 2, 3, 4, 3, 0, 5, 5, 2, 5, 0, 0, 1, 5, 5, 4, 3, 3, 3, 3, 0, 3, 1, 3, 2, 5, 1, 2, 2, 3, 0, 4, 0, 5, 5, 1, 1, 4, 1, 0, 2, 5, 4, 2, 5, 0, 0, 5, 2, 4, 0, 5, 2, 1, 0, 3, 3, 5, 3, 3, 5, 2, 2, 1, 3, 0, 1, 0, 1, 5, 2, 1, 4, 5, 3, 2, 4, 3, 5, 3, 2, 5, 5, 4, 1, 4, 5, 4, 3, 3, 5, 1, 1, 2, 1, 0, 4, 5, 2, 4, 0, 2, 1, 2, 0, 5, 5, 1, 0, 3, 3, 2, 4, 0, 3, 0, 1, 0, 5, 5, 3, 2, 3, 5, 3, 1, 1, 1, 2, 5, 5, 5, 3, 4, 0, 2, 5, 0, 0, 0, 2, 2, 2, 0, 0, 0, 2, 2, 0, 0, 2, 3, 5, 0, 5, 2, 4, 4, 3, 3, 5, 2, 5, 4, 1, 2, 5, 3, 5, 4, 2, 2, 2, 3, 3, 0, 3, 2, 2, 2, 0, 3, 1, 1, 5, 3, 2, 0, 3, 2, 3, 5, 2, 3, 2, 5, 0, 2, 1, 5, 1, 5, 1, 5, 3, 3, 2, 2, 5, 0, 4, 2, 1, 0, 5, 1, 5, 4, 1, 3, 5, 5, 3, 5, 4, 0, 5, 4, 2, 3, 3, 0, 5, 1, 0, 3, 0, 1, 5, 4, 5, 4, 3, 1, 2, 3, 2, 2, 0, 3, 2, 1, 4, 0, 2, 2, 3, 5, 2, 1, 3, 0, 2, 1, 5, 1, 3, 2, 5, 1, 3, 3, 1, 1, 4, 3, 3, 4, 4, 3, 4, 5, 2, 5, 0, 3, 5, 1, 3, 0, 3, 5, 3, 2, 1, 3, 2, 4, 1, 2, 0, 0, 3, 5, 0, 3, 3, 2, 5, 3, 5, 5, 0, 5, 0, 3, 3, 4, 4, 0, 0, 5, 5, 1, 4, 5, 2, 0, 5, 1, 0, 0, 5, 1, 2, 3, 5, 2, 2, 4, 4, 1, 3, 2, 3, 5, 0, 0, 3, 0, 5, 2, 0, 0, 4, 3, 3, 3, 0, 1, 2, 5, 4, 3, 5, 1, 4, 4, 3, 3, 3, 3, 3, 2, 2, 4, 0, 1, 3, 5, 1, 4, 0, 3, 3, 1, 0, 4, 5, 4, 5, 1, 1, 4, 3, 2, 2, 4, 1, 2, 3, 5, 0, 0, 3, 5, 3, 5, 2, 5, 0, 3, 4, 5, 5, 5, 1, 1, 5, 2, 4, 3, 3, 5, 0, 1, 3, 2, 0, 0, 4, 2, 4, 5, 2, 2, 1, 3, 2, 1, 0, 3, 2, 2, 1, 2, 3, 2, 0, 1, 1, 4, 4, 1, 2, 4, 3, 2, 0, 2, 1, 5, 5, 3, 0, 3, 0, 4, 4, 5, 3, 2, 2, 3, 5, 4, 0, 1, 2, 2, 0, 5, 1, 3, 5, 2, 4, 3, 4, 2, 5, 5, 5, 2, 2, 5, 3, 1, 5, 5, 3, 1, 0, 3, 2, 0, 3, 0, 4, 1, 1, 2, 4, 3, 1, 1, 2, 3, 4, 5, 0, 5, 0, 3, 4, 4, 5, 1, 2, 0, 2, 5, 2, 2, 4, 2, 3, 1, 4, 3, 1, 2, 1, 4, 3, 4, 3, 4, 1, 1, 1, 1, 1, 5, 3, 3, 1, 4, 1, 0, 4, 0, 2, 5, 2, 2, 1, 3, 0, 4, 0, 5, 5, 4, 4, 1, 3, 4, 1, 3, 5, 5, 2, 4, 5, 0, 5, 0, 0, 4, 0, 2, 0, 5, 3, 0, 4, 4, 5, 3, 5, 2, 0, 1, 5, 0, 5, 5, 3, 4, 4, 0, 5, 3, 1, 1, 0, 3, 3, 0, 0, 3, 1, 3, 3, 2, 4, 4, 4, 3, 0, 2, 3, 1, 3, 0, 5, 2, 4, 5, 4, 2, 5, 4, 4, 5, 2, 5, 4, 5, 2, 0, 1, 3, 0, 5, 5, 5, 4, 0, 2, 0, 5, 0, 0, 4, 3, 4, 0, 3, 5, 3, 5, 5, 0, 1, 0, 5, 3, 1, 2, 5, 4, 0, 5, 2, 3, 4, 1, 3, 3, 4, 0, 0, 0, 1, 3, 0, 3, 2, 2, 4, 5, 5, 0, 3, 4, 1, 0, 4, 3, 5, 0, 0, 3, 3, 4, 0, 5, 5, 5, 3, 3, 1, 2, 2, 3, 4, 4, 3, 1, 0, 3, 5, 5, 5, 5, 0, 4, 5, 5, 2, 4, 1, 1, 3, 4, 3, 5, 5, 5, 5, 4, 0, 2, 1, 0, 2, 4, 3, 3, 5, 1, 2, 2, 4, 1, 0, 4, 1, 3, 5, 4, 5, 3, 1, 0, 2, 3, 3, 1, 2, 5, 5, 3, 1, 0, 4, 4, 1, 1, 4, 0, 0, 2, 5, 2, 3, 5, 5, 5, 5, 1, 5, 5, 4, 1, 0, 1, 4, 0, 0, 5, 1, 5, 3, 0, 5, 4, 4, 1, 4, 0, 3, 5, 5, 0, 2, 5, 5, 1, 4, 0, 0, 3, 0, 4, 0, 3, 5, 1, 0, 2, 5, 2, 0, 1, 3, 0, 5, 2, 3, 2, 4, 1, 0, 2, 2, 5, 4, 4, 0, 3, 4, 2, 5, 5, 0, 1, 0, 3, 4, 3, 0, 4, 0, 2, 4, 3, 0, 0, 4, 0, 1, 2, 5, 3, 0, 0, 2, 0, 3, 0, 3, 2, 2, 4, 5, 4, 2, 3, 0, 4, 5, 0, 2, 5, 5, 0, 0, 2, 3, 3, 5, 5, 1, 0, 5, 5, 5, 2, 5, 5, 5, 2, 0, 1, 1, 5, 5, 5, 4, 0, 5, 3, 3, 1, 2, 5, 0, 0, 4, 1, 2, 4, 5, 3, 5, 5, 5, 3, 0, 2, 3, 1, 2, 3, 5, 2, 4, 5, 2, 2, 0, 3, 0, 4, 0, 4, 2, 2, 3, 3, 1, 4, 2, 5, 2, 4, 5, 3, 4, 4, 0, 1, 0, 1, 2, 2, 5, 3, 5, 0, 2, 1, 4, 0, 5, 3, 5, 1, 0, 0, 5, 3, 5, 4, 1, 2, 3, 5, 2, 2, 1, 2, 0, 4, 3, 4, 0, 4, 4, 2, 0, 3, 5, 5, 4, 3, 2, 5, 5, 1, 3, 4, 3, 1, 4, 0, 3, 4, 4, 1, 3, 3, 5, 5, 0, 1, 0, 1, 1, 3, 2, 0, 4, 2, 3, 5, 3, 1, 1, 5, 3, 1, 1, 4, 5, 5, 0, 5, 5, 1, 0, 4, 5, 0, 4, 2, 0, 4, 3, 3, 1, 4, 4, 4, 5, 5, 5, 3, 5, 0, 0, 2, 0, 1, 4, 5, 2, 1, 3, 1, 2, 0, 1, 5, 5, 5, 4, 3, 5, 0, 4, 2, 2, 3, 3, 5, 2, 2, 5, 3, 0, 1, 1, 5, 2, 5, 5, 5, 5, 1, 4, 0, 0, 1, 3, 4, 4, 5, 1, 1, 0, 5, 0, 2, 3, 3, 3, 2, 5, 5, 4, 5, 4, 0, 5, 5, 0, 5, 4, 3, 3, 4, 3, 1, 1, 2, 4, 1, 0, 5, 5, 5, 3, 3, 1, 4, 2, 1, 5, 0, 3, 3, 5, 0, 1, 3, 4, 0, 0, 0, 2, 0, 1, 3, 2, 0, 2, 3, 3, 3, 0, 0, 2, 2, 0, 3, 4, 0, 0, 3, 4, 0, 5, 2, 5, 4, 4, 3, 1, 1, 2, 2, 2, 2, 1, 2, 5, 0, 4, 5, 5, 1, 4, 2, 0, 3, 5, 4, 1, 2, 3, 2, 1, 4, 4, 3, 1, 4, 5, 4, 1, 2, 4, 3, 2, 4, 5, 0, 0, 2, 4, 1, 2, 2, 1, 2, 2, 4, 4, 5, 3, 3, 2, 2, 4, 1, 2, 5, 3, 5, 5, 5, 5, 0, 0, 1, 5, 2, 1, 0, 5, 0, 4, 0, 1, 3, 2, 4, 3, 4, 0, 0, 4, 0, 1, 4, 3, 5, 3, 3, 2, 1, 2, 3, 4, 0, 3, 3, 1, 5, 2, 3, 2, 5, 0, 4, 4, 2, 5, 0, 1, 1, 5, 2, 4, 3, 3, 0, 3, 0, 5, 4, 1, 1, 0, 3, 4, 1, 1, 2, 5, 4, 5, 3, 0, 3, 2, 0, 5, 3, 5, 0, 2, 3, 3, 3, 2, 5, 5, 4, 4, 0, 4, 5, 4, 4, 2, 3, 2, 5, 1, 4, 1, 3, 0, 5, 0, 3, 2, 0, 0, 0, 3, 4, 5, 4, 4, 2, 0, 5, 5, 4, 2, 3, 1, 2, 2, 0, 4, 5, 5, 5, 0, 4, 2, 5, 5, 3, 0, 1, 5, 2, 4, 0, 5, 0, 4, 2, 5, 3, 3, 1, 0, 2, 0, 1, 4, 4, 4, 3, 1, 5, 2, 4, 4, 2, 3, 3, 0, 3, 2, 5, 3, 4, 5, 2, 5, 2, 3, 0, 3, 0, 0, 5, 2, 0, 2, 0, 3, 2, 2, 5, 3, 0, 0, 0, 0, 2, 4, 2, 3, 2, 0, 2, 3, 0, 3, 0, 3, 4, 3, 3, 2, 5, 5, 4, 1, 0, 0, 2, 0, 2, 2, 3, 5, 3, 1, 1, 0, 5, 2, 5, 3, 5, 4, 0, 2, 0, 4, 4, 5, 4, 2, 3, 3, 4, 2, 0, 1, 0, 1, 4, 3, 4, 2, 0, 2, 3, 0, 0, 3, 2, 3, 1, 1, 4, 2, 1, 1, 0, 2, 1, 4, 3, 1, 2, 4, 3, 4, 0, 4, 5, 0, 3, 0, 4, 3, 3, 2, 4, 5, 0, 0, 3, 4, 1, 5, 0, 4, 0, 1, 4, 5, 5, 2, 2, 2, 0, 5, 5, 5, 0, 1, 5, 5, 2, 2, 3, 1, 5, 2, 1, 3, 3, 1, 3, 0, 5, 2, 5, 5, 5, 3, 3, 4, 0, 5, 4, 5, 4, 5, 1, 4, 4, 4, 0, 2, 0, 4, 4, 5, 2, 4, 5, 0, 5, 3, 5, 2, 3, 3, 1, 1, 3, 5, 4, 5, 4, 2, 3, 1, 0, 2, 1, 4, 2, 5, 3, 1, 2, 1, 1, 2, 5, 3, 0, 3, 0, 1, 5, 4, 5, 4, 4, 1, 3, 5, 4, 2, 4, 5, 4, 3, 0, 2, 4, 3, 2, 3, 3, 5, 5, 3, 5, 4, 0, 0, 3, 5, 1, 5, 3, 4, 2, 2, 0, 4, 1, 2, 3, 5, 3, 4, 1, 3, 0, 0, 2, 4, 2, 0, 3, 5, 4, 1, 0, 5, 4, 4, 2, 0, 4, 5, 3, 3, 2, 1, 1, 4, 1, 5, 3, 5, 5, 5, 3, 0, 4, 3, 1, 0, 2, 3, 4, 5, 0, 4, 5, 1, 5, 0, 3, 1, 3, 0, 3, 3, 0, 2, 5, 4, 1, 2, 3, 4, 1, 5, 5, 1, 3, 1, 3, 3, 0, 0, 1, 4, 4, 3, 5, 3, 2, 2, 4, 2, 3, 0, 3, 3, 3, 4, 3, 1, 0, 4, 1, 5, 0, 4, 2, 2, 3, 5, 4, 2, 4, 4, 3, 3, 2, 0, 0, 0, 2, 3, 2, 5, 5, 4, 4, 4, 3, 2, 2, 3, 5, 5, 0, 0, 5, 5, 2, 4, 4, 5, 1, 4, 1, 0, 0, 3, 3, 2, 5, 5, 0, 5, 2, 2, 0, 1, 0, 4, 1, 2, 0, 4, 4, 3, 5, 2, 1, 4, 1, 1, 3, 5, 2, 2, 5, 0, 4, 3, 3, 2, 1, 5, 4, 4, 3, 0, 5, 5, 2, 0, 4, 1, 0, 3, 3, 4, 2, 1, 0, 2, 2, 2, 2, 2, 1, 2, 4, 0, 5, 5, 5, 3, 3, 3, 5, 3, 2, 5, 1, 0, 0, 3, 2, 1, 2, 0, 4, 4, 0, 3, 0, 3, 5, 4, 5, 5, 2, 5, 3, 4, 3, 0, 3, 5, 5, 0, 1, 5, 5, 1, 2, 5, 3, 0, 0, 0, 3, 2, 5, 5, 1, 3, 5, 5, 4, 5, 2, 4, 5, 2, 1, 0, 3, 3, 3, 3, 1, 3, 4, 0, 3, 4, 1, 0, 5, 5, 1, 5, 3, 3, 3, 1, 4, 5, 5, 3, 2, 5, 3, 2, 3, 4, 5, 5, 5, 0, 0, 5, 1, 1, 5, 2, 5, 2, 1, 3, 5, 0, 4, 4, 4, 1, 4, 1, 5, 4, 0, 0, 4, 5, 0, 5, 1, 3, 2, 4, 2, 0, 5, 3, 4, 3, 1, 2, 3, 0, 3, 1, 2, 5, 5, 3, 5, 1, 4, 0, 0, 1, 1, 3, 1, 5, 5, 2, 1, 0, 1, 4, 0, 5, 3, 1, 3, 1, 3, 5]\n"
          ]
        }
      ]
    },
    {
      "cell_type": "code",
      "execution_count": 11,
      "metadata": {
        "id": "AHtOoMYKl6UC",
        "colab": {
          "base_uri": "https://localhost:8080/"
        },
        "outputId": "bb33e962-c115-4953-b9a3-106c3679e507"
      },
      "outputs": [
        {
          "output_type": "stream",
          "name": "stderr",
          "text": [
            "<ipython-input-9-52699972c462>:16: UserWarning: To copy construct from a tensor, it is recommended to use sourceTensor.clone().detach() or sourceTensor.clone().detach().requires_grad_(True), rather than torch.tensor(sourceTensor).\n",
            "  'embeddings': torch.tensor(self.embeddings[idx], dtype=torch.float32),\n"
          ]
        },
        {
          "output_type": "stream",
          "name": "stdout",
          "text": [
            "Test Accuracy: 84.69%\n"
          ]
        }
      ],
      "source": [
        "# Evaluation function\n",
        "def evaluate(model, test_loader):\n",
        "    model.eval()\n",
        "    correct = 0\n",
        "    total = 0\n",
        "\n",
        "    with torch.no_grad():\n",
        "        for batch in test_loader:\n",
        "            embeddings = batch['embeddings'].to(device)\n",
        "            labels = batch['labels'].to(device)\n",
        "\n",
        "            outputs = model(embeddings)\n",
        "            _, preds = torch.max(outputs, dim=1)\n",
        "\n",
        "            correct += (preds == labels).sum().item()\n",
        "            total += labels.size(0)\n",
        "\n",
        "    accuracy = correct / total\n",
        "    print(f\"Test Accuracy: {accuracy * 100:.2f}%\")\n",
        "\n",
        "# Evaluate the model\n",
        "evaluate(model_classifier, test_loader)\n"
      ]
    },
    {
      "cell_type": "code",
      "source": [
        "from sklearn.metrics import accuracy_score, precision_score, recall_score, f1_score, confusion_matrix, classification_report\n",
        "import numpy as np\n",
        "import matplotlib.pyplot as plt\n",
        "import seaborn as sns\n",
        "\n",
        "# # Assuming true_labels and pred_labels are available\n",
        "# true_labels = [...]  # Replace with your actual true labels\n",
        "# pred_labels = [...]  # Replace with your actual predicted labels\n",
        "true_labels, pred_labels = evaluate(model_classifier, test_loader)\n",
        "\n",
        "# Calculate metrics\n",
        "accuracy = accuracy_score(true_labels, pred_labels)\n",
        "precision = precision_score(true_labels, pred_labels, average='weighted', zero_division=1)\n",
        "recall = recall_score(true_labels, pred_labels, average='weighted', zero_division=1)\n",
        "f1 = f1_score(true_labels, pred_labels, average='weighted', zero_division=1)\n",
        "\n",
        "# Print metrics\n",
        "print(f\"Accuracy: {accuracy:.2f}\")\n",
        "print(f\"Precision: {precision:.2f}\")\n",
        "print(f\"Recall: {recall:.2f}\")\n",
        "print(f\"F1 Score: {f1:.2f}\\n\")\n",
        "\n",
        "# Generate a classification report\n",
        "print(\"Classification Report:\")\n",
        "print(classification_report(true_labels, pred_labels, zero_division=1))\n",
        "\n",
        "# Confusion Matrix\n",
        "conf_matrix = confusion_matrix(true_labels, pred_labels)\n",
        "\n",
        "# Plotting the Confusion Matrix\n",
        "plt.figure(figsize=(10, 7))\n",
        "sns.heatmap(conf_matrix, annot=True, fmt='d', cmap='Blues', cbar=False)\n",
        "plt.xlabel('Predicted Labels')\n",
        "plt.ylabel('True Labels')\n",
        "plt.title('Confusion Matrix')\n",
        "plt.show()"
      ],
      "metadata": {
        "colab": {
          "base_uri": "https://localhost:8080/",
          "height": 1000
        },
        "id": "h-BzYHVzmnFG",
        "outputId": "2a483d54-a98c-422e-abde-b94228c12ba7"
      },
      "execution_count": 21,
      "outputs": [
        {
          "output_type": "stream",
          "name": "stderr",
          "text": [
            "<ipython-input-9-52699972c462>:16: UserWarning: To copy construct from a tensor, it is recommended to use sourceTensor.clone().detach() or sourceTensor.clone().detach().requires_grad_(True), rather than torch.tensor(sourceTensor).\n",
            "  'embeddings': torch.tensor(self.embeddings[idx], dtype=torch.float32),\n"
          ]
        },
        {
          "output_type": "stream",
          "name": "stdout",
          "text": [
            "Accuracy: 0.85\n",
            "Precision: 0.85\n",
            "Recall: 0.85\n",
            "F1 Score: 0.85\n",
            "\n",
            "Classification Report:\n",
            "              precision    recall  f1-score   support\n",
            "\n",
            "           0       0.93      0.95      0.94      1936\n",
            "           1       0.85      0.76      0.80      2014\n",
            "           2       0.97      0.98      0.97      2036\n",
            "           3       0.80      0.81      0.81      2051\n",
            "           4       0.84      0.76      0.80      2000\n",
            "           5       0.71      0.82      0.76      1963\n",
            "\n",
            "    accuracy                           0.85     12000\n",
            "   macro avg       0.85      0.85      0.85     12000\n",
            "weighted avg       0.85      0.85      0.85     12000\n",
            "\n"
          ]
        },
        {
          "output_type": "display_data",
          "data": {
            "text/plain": [
              "<Figure size 1000x700 with 1 Axes>"
            ],
            "image/png": "[encoded data removed]"
          },
          "metadata": {}
        }
      ]
    },
    {
      "cell_type": "code",
      "source": [
        "# # prompt: download the above csv\n",
        "\n",
        "# from google.colab import files\n",
        "\n",
        "# files.download('/content/drive/MyDrive/test_loader_data.csv')\n"
      ],
      "metadata": {
        "colab": {
          "base_uri": "https://localhost:8080/",
          "height": 17
        },
        "id": "JZwK3raXkUy2",
        "outputId": "5e1d0dad-7741-4a71-88e2-c81793f1f2be"
      },
      "execution_count": 19,
      "outputs": [
        {
          "output_type": "display_data",
          "data": {
            "text/plain": [
              "<IPython.core.display.Javascript object>"
            ],
            "application/javascript": [
              "\n",
              "    async function download(id, filename, size) {\n",
              "      if (!google.colab.kernel.accessAllowed) {\n",
              "        return;\n",
              "      }\n",
              "      const div = document.createElement('div');\n",
              "      const label = document.createElement('label');\n",
              "      label.textContent = `Downloading \"${filename}\": `;\n",
              "      div.appendChild(label);\n",
              "      const progress = document.createElement('progress');\n",
              "      progress.max = size;\n",
              "      div.appendChild(progress);\n",
              "      document.body.appendChild(div);\n",
              "\n",
              "      const buffers = [];\n",
              "      let downloaded = 0;\n",
              "\n",
              "      const channel = await google.colab.kernel.comms.open(id);\n",
              "      // Send a message to notify the kernel that we're ready.\n",
              "      channel.send({})\n",
              "\n",
              "      for await (const message of channel.messages) {\n",
              "        // Send a message to notify the kernel that we're ready.\n",
              "        channel.send({})\n",
              "        if (message.buffers) {\n",
              "          for (const buffer of message.buffers) {\n",
              "            buffers.push(buffer);\n",
              "            downloaded += buffer.byteLength;\n",
              "            progress.value = downloaded;\n",
              "          }\n",
              "        }\n",
              "      }\n",
              "      const blob = new Blob(buffers, {type: 'application/binary'});\n",
              "      const a = document.createElement('a');\n",
              "      a.href = window.URL.createObjectURL(blob);\n",
              "      a.download = filename;\n",
              "      div.appendChild(a);\n",
              "      a.click();\n",
              "      div.remove();\n",
              "    }\n",
              "  "
            ]
          },
          "metadata": {}
        },
        {
          "output_type": "display_data",
          "data": {
            "text/plain": [
              "<IPython.core.display.Javascript object>"
            ],
            "application/javascript": [
              "download(\"download_702051ef-2371-40fe-878e-cdba5d64b034\", \"test_loader_data.csv\", 4361263)"
            ]
          },
          "metadata": {}
        }
      ]
    },
    {
      "cell_type": "code",
      "source": [
        "torch.save(model_classifier, 'stella_classifier_model.pth')\n",
        "from google.colab import files\n",
        "\n",
        "# Download the saved model file\n",
        "files.download('/content/stella_classifier_model.pth')  # or 'bert_classifier_model.pth'"
      ],
      "metadata": {
        "id": "BF8XBM6PJpzR",
        "colab": {
          "base_uri": "https://localhost:8080/",
          "height": 34
        },
        "outputId": "8c0a71f8-02d4-44b5-a744-a2fa71e2cb86"
      },
      "execution_count": null,
      "outputs": [
        {
          "output_type": "display_data",
          "data": {
            "text/plain": [
              "<IPython.core.display.Javascript object>"
            ],
            "application/javascript": [
              "\n",
              "    async function download(id, filename, size) {\n",
              "      if (!google.colab.kernel.accessAllowed) {\n",
              "        return;\n",
              "      }\n",
              "      const div = document.createElement('div');\n",
              "      const label = document.createElement('label');\n",
              "      label.textContent = `Downloading \"${filename}\": `;\n",
              "      div.appendChild(label);\n",
              "      const progress = document.createElement('progress');\n",
              "      progress.max = size;\n",
              "      div.appendChild(progress);\n",
              "      document.body.appendChild(div);\n",
              "\n",
              "      const buffers = [];\n",
              "      let downloaded = 0;\n",
              "\n",
              "      const channel = await google.colab.kernel.comms.open(id);\n",
              "      // Send a message to notify the kernel that we're ready.\n",
              "      channel.send({})\n",
              "\n",
              "      for await (const message of channel.messages) {\n",
              "        // Send a message to notify the kernel that we're ready.\n",
              "        channel.send({})\n",
              "        if (message.buffers) {\n",
              "          for (const buffer of message.buffers) {\n",
              "            buffers.push(buffer);\n",
              "            downloaded += buffer.byteLength;\n",
              "            progress.value = downloaded;\n",
              "          }\n",
              "        }\n",
              "      }\n",
              "      const blob = new Blob(buffers, {type: 'application/binary'});\n",
              "      const a = document.createElement('a');\n",
              "      a.href = window.URL.createObjectURL(blob);\n",
              "      a.download = filename;\n",
              "      div.appendChild(a);\n",
              "      a.click();\n",
              "      div.remove();\n",
              "    }\n",
              "  "
            ]
          },
          "metadata": {}
        },
        {
          "output_type": "display_data",
          "data": {
            "text/plain": [
              "<IPython.core.display.Javascript object>"
            ],
            "application/javascript": [
              "download(\"download_ca543141-bea5-439b-913c-69d64271f659\", \"stella_classifier_model.pth\", 2107984)"
            ]
          },
          "metadata": {}
        }
      ]
    },
    {
      "cell_type": "code",
      "source": [],
      "metadata": {
        "id": "S1AJqZsoKejs"
      },
      "execution_count": null,
      "outputs": []
    },
    {
      "cell_type": "markdown",
      "source": [
        "\n",
        "We are building a model to classify LLM outputs based on the LLM used to generate them.\n",
        "\n",
        "1. Data Preparation:\n",
        "   - Load a dataset that contains input prompts, LLM outputs, and the name of the LLM used.\n",
        "   - Preprocess the data by adding EOS tokens and converting LLM labels to numerical codes.\n",
        "   - Use a SentenceTransformer (Stella model) to generate embeddings for input prompts and outputs.\n",
        "   - Combine the input and output embeddings for each pair.\n",
        "\n",
        "2. Model Building:\n",
        "   - Define a neural network model (LLMClassifier) that takes the combined embeddings as input and predicts the LLM type (label).\n",
        "\n",
        "3. Data Splitting and Loading:\n",
        "   - Split the dataset into training and testing sets.\n",
        "   - Create datasets and data loaders for training and testing.\n",
        "\n",
        "4. Training:\n",
        "   - Initialize the model, loss function, and optimizer.\n",
        "   - Move the model to the GPU if available.\n",
        "   - Train the model using the training data loader, optimizing the model's parameters to improve classification accuracy.\n",
        "\n",
        "5. Evaluation:\n",
        "   - Evaluate the trained model using the testing data loader.\n",
        "   - Calculate accuracy, precision, recall, F1-score, and create a classification report and a confusion matrix to assess performance.\n",
        "\n",
        "6. Saving the Model:\n",
        "   - Save the trained model for future use or deployment.\n"
      ],
      "metadata": {
        "id": "xZlJwI3moiDf"
      }
    },
    {
      "cell_type": "markdown",
      "source": [
        "Bert classifier from below:"
      ],
      "metadata": {
        "id": "XLO5VxeVos8Q"
      }
    },
    {
      "cell_type": "code",
      "source": [
        "import torch\n",
        "import torch.nn as nn\n",
        "import torch.optim as optim\n",
        "from torch.utils.data import Dataset, DataLoader\n",
        "from transformers import BertTokenizer, BertModel\n",
        "from sklearn.model_selection import train_test_split\n",
        "from sklearn.metrics import accuracy_score, confusion_matrix\n",
        "import pandas as pd\n",
        "import seaborn as sns\n",
        "import matplotlib.pyplot as plt\n",
        "import numpy as np\n",
        "\n",
        "# Define the BERT-based classifier with selective layer fine-tuning\n",
        "class BERTClassifier(nn.Module):\n",
        "    def __init__(self, num_classes, fine_tune_layers=4):\n",
        "        super(BERTClassifier, self).__init__()\n",
        "        self.bert = BertModel.from_pretrained('bert-base-uncased')\n",
        "        self.fc = nn.Linear(self.bert.config.hidden_size * 2, num_classes)  # Multiply by 2 to handle concatenation of two embeddings\n",
        "\n",
        "        # Freeze all BERT layers first\n",
        "        for param in self.bert.parameters():\n",
        "            param.requires_grad = False\n",
        "\n",
        "        # Unfreeze the last `fine_tune_layers` layers of BERT\n",
        "        for param in self.bert.encoder.layer[-fine_tune_layers:].parameters():\n",
        "            param.requires_grad = True\n",
        "\n",
        "    def forward(self, input_ids_prompt, attention_mask_prompt, input_ids_output, attention_mask_output):\n",
        "        # Encode the Input Prompt and LLM Output separately\n",
        "        prompt_output = self.bert(input_ids_prompt, attention_mask=attention_mask_prompt)[1]  # CLS token output\n",
        "        output_output = self.bert(input_ids_output, attention_mask=attention_mask_output)[1]  # CLS token output\n",
        "\n",
        "        # Concatenate the embeddings of Input Prompt and LLM Output\n",
        "        combined_output = torch.cat((prompt_output, output_output), dim=1)\n",
        "\n",
        "        # Pass through the classifier\n",
        "        out = self.fc(combined_output)\n",
        "        return out\n",
        "\n",
        "# Dataset preparation\n",
        "class LLMTextDataset(Dataset):\n",
        "    def __init__(self, prompts, outputs, labels, tokenizer, max_len):\n",
        "        self.prompts = prompts\n",
        "        self.outputs = outputs\n",
        "        self.labels = labels\n",
        "        self.tokenizer = tokenizer\n",
        "        self.max_len = max_len\n",
        "\n",
        "    def __len__(self):\n",
        "        return len(self.prompts)\n",
        "\n",
        "    def __getitem__(self, idx):\n",
        "        prompt = self.prompts[idx]\n",
        "        output = self.outputs[idx]\n",
        "        label = self.labels[idx]\n",
        "        # Tokenize both Input Prompt and LLM Output separately, handling potential NaN values\n",
        "        prompt = str(prompt) if pd.notna(prompt) else \"[UNK]\"  # Replace NaN with [UNK]\n",
        "        output = str(output) if pd.notna(output) else \"[UNK]\"  # Replace NaN with [UNK]\n",
        "\n",
        "        # Tokenize both Input Prompt and LLM Output separately\n",
        "        prompt_encoding = self.tokenizer.encode_plus(\n",
        "            prompt,\n",
        "            max_length=self.max_len,\n",
        "            truncation=True,\n",
        "            padding='max_length',\n",
        "            add_special_tokens=True,\n",
        "            return_attention_mask=True,\n",
        "            return_tensors='pt'\n",
        "        )\n",
        "\n",
        "        output_encoding = self.tokenizer.encode_plus(\n",
        "            output,\n",
        "            max_length=self.max_len,\n",
        "            truncation=True,\n",
        "            padding='max_length',\n",
        "            add_special_tokens=True,\n",
        "            return_attention_mask=True,\n",
        "            return_tensors='pt'\n",
        "        )\n",
        "\n",
        "        return {\n",
        "            'input_ids_prompt': prompt_encoding['input_ids'].flatten(),\n",
        "            'attention_mask_prompt': prompt_encoding['attention_mask'].flatten(),\n",
        "            'input_ids_output': output_encoding['input_ids'].flatten(),\n",
        "            'attention_mask_output': output_encoding['attention_mask'].flatten(),\n",
        "            'label': torch.tensor(label, dtype=torch.long)\n",
        "        }\n",
        "\n",
        "# Load your dataset\n",
        "df = pd.read_csv(\"/content/drive/MyDrive/llm_outputs_ollama_with_time.csv\")\n",
        "df['label_encoded'] = pd.Categorical(df['Used LLM']).codes  # Encode the labels\n",
        "prompts = df['Input Prompt'].tolist()\n",
        "outputs = df['LLM Output'].tolist()\n",
        "labels = df['label_encoded'].tolist()\n",
        "\n",
        "# Split the data\n",
        "X_train_prompts, X_test_prompts, X_train_outputs, X_test_outputs, y_train, y_test = train_test_split(\n",
        "    prompts, outputs, labels, test_size=0.2, random_state=42)\n",
        "\n",
        "# Load BERT tokenizer\n",
        "tokenizer = BertTokenizer.from_pretrained('bert-base-uncased')\n",
        "\n",
        "# Hyperparameters\n",
        "MAX_LEN = 128\n",
        "BATCH_SIZE = 64\n",
        "EPOCHS = 3\n",
        "NUM_CLASSES = len(df['label_encoded'].unique())\n",
        "LEARNING_RATE = 2e-5\n",
        "\n",
        "# Create DataLoader for training and testing\n",
        "train_dataset = LLMTextDataset(X_train_prompts, X_train_outputs, y_train, tokenizer, MAX_LEN)\n",
        "test_dataset = LLMTextDataset(X_test_prompts, X_test_outputs, y_test, tokenizer, MAX_LEN)\n",
        "\n",
        "train_loader = DataLoader(train_dataset, batch_size=BATCH_SIZE, shuffle=True)\n",
        "test_loader = DataLoader(test_dataset, batch_size=BATCH_SIZE)\n",
        "\n",
        "# Initialize model, optimizer, and loss function\n",
        "device = torch.device('cuda' if torch.cuda.is_available() else 'cpu')\n",
        "model = BERTClassifier(num_classes=NUM_CLASSES, fine_tune_layers=4).to(device)  # Fine-tune the last 4 layers\n",
        "optimizer = optim.AdamW(model.parameters(), lr=LEARNING_RATE)\n",
        "loss_fn = nn.CrossEntropyLoss()\n",
        "\n",
        "# Training loop with selective layer fine-tuning, with loss and accuracy printing\n",
        "def train(model, train_loader, optimizer, loss_fn, epochs=EPOCHS):\n",
        "    for epoch in range(epochs):\n",
        "        model.train()\n",
        "        total_loss = 0\n",
        "        correct = 0\n",
        "        total = 0\n",
        "\n",
        "        for batch in train_loader:\n",
        "            optimizer.zero_grad()\n",
        "            input_ids_prompt = batch['input_ids_prompt'].to(device)\n",
        "            attention_mask_prompt = batch['attention_mask_prompt'].to(device)\n",
        "            input_ids_output = batch['input_ids_output'].to(device)\n",
        "            attention_mask_output = batch['attention_mask_output'].to(device)\n",
        "            labels = batch['label'].to(device)\n",
        "\n",
        "            outputs = model(input_ids_prompt, attention_mask_prompt, input_ids_output, attention_mask_output)\n",
        "            loss = loss_fn(outputs, labels)\n",
        "            total_loss += loss.item()\n",
        "\n",
        "            _, preds = torch.max(outputs, dim=1)\n",
        "            correct += (preds == labels).sum().item()\n",
        "            total += labels.size(0)\n",
        "\n",
        "            loss.backward()\n",
        "            optimizer.step()\n",
        "\n",
        "        # Calculate accuracy\n",
        "        train_accuracy = correct / total\n",
        "        print(f\"Epoch {epoch + 1}, Loss: {total_loss / len(train_loader):.4f}, Accuracy: {train_accuracy * 100:.2f}%\")\n",
        "\n",
        "# Evaluation loop\n",
        "def evaluate(model, test_loader):\n",
        "    model.eval()\n",
        "    correct = 0\n",
        "    total = 0\n",
        "    all_preds = []\n",
        "    all_labels = []\n",
        "\n",
        "    with torch.no_grad():\n",
        "        for batch in test_loader:\n",
        "            input_ids_prompt = batch['input_ids_prompt'].to(device)\n",
        "            attention_mask_prompt = batch['attention_mask_prompt'].to(device)\n",
        "            input_ids_output = batch['input_ids_output'].to(device)\n",
        "            attention_mask_output = batch['attention_mask_output'].to(device)\n",
        "            labels = batch['label'].to(device)\n",
        "\n",
        "            outputs = model(input_ids_prompt, attention_mask_prompt, input_ids_output, attention_mask_output)\n",
        "            _, preds = torch.max(outputs, dim=1)\n",
        "\n",
        "            correct += (preds == labels).sum().item()\n",
        "            total += labels.size(0)\n",
        "\n",
        "            all_preds.extend(preds.cpu().numpy())\n",
        "            all_labels.extend(labels.cpu().numpy())\n",
        "\n",
        "    accuracy = correct / total\n",
        "    print(f\"Test Accuracy: {accuracy * 100:.2f}%\")\n",
        "\n",
        "    return all_labels, all_preds\n",
        "\n",
        "# Plot confusion matrix\n",
        "def plot_confusion_matrix(true_labels, pred_labels):\n",
        "    cm = confusion_matrix(true_labels, pred_labels)\n",
        "    plt.figure(figsize=(10, 7))\n",
        "    sns.heatmap(cm, annot=True, fmt=\"d\", cmap=\"Blues\")\n",
        "    plt.xlabel('Predicted')\n",
        "    plt.ylabel('Actual')\n",
        "    plt.title('Confusion Matrix')\n",
        "    plt.show()\n",
        "\n",
        "# Distribution of predictions\n",
        "def plot_predictions_distribution(pred_labels):\n",
        "    unique, counts = np.unique(pred_labels, return_counts=True)\n",
        "    plt.bar(unique, counts)\n",
        "    plt.xlabel('Label')\n",
        "    plt.ylabel('Frequency')\n",
        "    plt.title('Prediction Distribution')\n",
        "    plt.show()\n",
        "\n",
        "# Train the model\n",
        "train(model, train_loader, optimizer, loss_fn, epochs=EPOCHS)\n",
        "\n",
        "\n"
      ],
      "metadata": {
        "id": "bnsWmjq_FCa6"
      },
      "execution_count": null,
      "outputs": []
    },
    {
      "cell_type": "code",
      "source": [
        "torch.save(model, 'bert_classifier_model.pth')\n",
        "from google.colab import files\n",
        "\n",
        "# Download the saved model file\n",
        "files.download('/content/bert_classifier_model.pth')  # or 'bert_classifier_model.pth'"
      ],
      "metadata": {
        "id": "BKn9JCXW_46A"
      },
      "execution_count": null,
      "outputs": []
    },
    {
      "cell_type": "code",
      "source": [],
      "metadata": {
        "colab": {
          "base_uri": "https://localhost:8080/",
          "height": 34
        },
        "id": "w8dLNNiuAt9g",
        "outputId": "3f254a30-3582-4fc5-ec85-fe5958d1a408"
      },
      "execution_count": null,
      "outputs": [
        {
          "output_type": "display_data",
          "data": {
            "text/plain": [
              "<IPython.core.display.Javascript object>"
            ],
            "application/javascript": [
              "\n",
              "    async function download(id, filename, size) {\n",
              "      if (!google.colab.kernel.accessAllowed) {\n",
              "        return;\n",
              "      }\n",
              "      const div = document.createElement('div');\n",
              "      const label = document.createElement('label');\n",
              "      label.textContent = `Downloading \"${filename}\": `;\n",
              "      div.appendChild(label);\n",
              "      const progress = document.createElement('progress');\n",
              "      progress.max = size;\n",
              "      div.appendChild(progress);\n",
              "      document.body.appendChild(div);\n",
              "\n",
              "      const buffers = [];\n",
              "      let downloaded = 0;\n",
              "\n",
              "      const channel = await google.colab.kernel.comms.open(id);\n",
              "      // Send a message to notify the kernel that we're ready.\n",
              "      channel.send({})\n",
              "\n",
              "      for await (const message of channel.messages) {\n",
              "        // Send a message to notify the kernel that we're ready.\n",
              "        channel.send({})\n",
              "        if (message.buffers) {\n",
              "          for (const buffer of message.buffers) {\n",
              "            buffers.push(buffer);\n",
              "            downloaded += buffer.byteLength;\n",
              "            progress.value = downloaded;\n",
              "          }\n",
              "        }\n",
              "      }\n",
              "      const blob = new Blob(buffers, {type: 'application/binary'});\n",
              "      const a = document.createElement('a');\n",
              "      a.href = window.URL.createObjectURL(blob);\n",
              "      a.download = filename;\n",
              "      div.appendChild(a);\n",
              "      a.click();\n",
              "      div.remove();\n",
              "    }\n",
              "  "
            ]
          },
          "metadata": {}
        },
        {
          "output_type": "display_data",
          "data": {
            "text/plain": [
              "<IPython.core.display.Javascript object>"
            ],
            "application/javascript": [
              "download(\"download_e12df271-8b85-4852-8460-eb79c4a41fec\", \"bert_classifier_model.pth\", 9944213754)"
            ]
          },
          "metadata": {}
        }
      ]
    },
    {
      "cell_type": "code",
      "source": [
        "model = torch.load('bert_classifier_model.pth')\n"
      ],
      "metadata": {
        "id": "32D8clq3AQk1"
      },
      "execution_count": null,
      "outputs": []
    },
    {
      "cell_type": "code",
      "source": [
        "# Evaluate the model and get predictions\n",
        "true_labels, pred_labels = evaluate(model, test_loader)\n",
        "\n",
        "# Plot confusion matrix and distribution of predictions\n",
        "plot_confusion_matrix(true_labels, pred_labels)\n",
        "plot_predictions_distribution(pred_labels)"
      ],
      "metadata": {
        "id": "JB24jdytAOQN"
      },
      "execution_count": null,
      "outputs": []
    },
    {
      "cell_type": "markdown",
      "source": [],
      "metadata": {
        "id": "gQMLTCGZonPX"
      }
    }
  ],
  "metadata": {
    "accelerator": "GPU",
    "colab": {
      "gpuType": "T4",
      "provenance": []
    },
    "kernelspec": {
      "display_name": "Python 3",
      "name": "python3"
    },
    "language_info": {
      "name": "python"
    }
  },
  "nbformat": 4,
  "nbformat_minor": 0
}